{
  "nbformat": 4,
  "nbformat_minor": 0,
  "metadata": {
    "colab": {
      "name": "Optimal_CARS_BIG DATASET.ipynb",
      "provenance": [],
      "collapsed_sections": [
        "8KRHYZ-gJiq8",
        "LdTQ6wjtJirB",
        "acASXV43JirH",
        "xGWCJv5yJirN",
        "tOIu1HPGJirU",
        "RxwaL06UJirc",
        "Jhnl30v1Jirq",
        "WAZJiqzJJirx",
        "eY-Gk_fsJir1",
        "3Ij26CtmJir5",
        "jg43VBHAJir9",
        "lkgtV8stJisB"
      ]
    },
    "kernelspec": {
      "display_name": "Python 3",
      "language": "python",
      "name": "python3"
    },
    "language_info": {
      "codemirror_mode": {
        "name": "ipython",
        "version": 3
      },
      "file_extension": ".py",
      "mimetype": "text/x-python",
      "name": "python",
      "nbconvert_exporter": "python",
      "pygments_lexer": "ipython3",
      "version": "3.7.3"
    },
    "accelerator": "GPU"
  },
  "cells": [
    {
      "cell_type": "code",
      "metadata": {
        "id": "cFDYgTgmJiqG",
        "colab": {
          "base_uri": "https://localhost:8080/"
        },
        "outputId": "11481e42-6358-4965-8959-a2602eb36d1f"
      },
      "source": [
        "## Mounting Google Drive\n",
        "import pandas as pd\n",
        "from google.colab import drive\n",
        "drive.mount('/content/drive')\n",
        "  \n",
        "\n"
      ],
      "execution_count": null,
      "outputs": [
        {
          "output_type": "stream",
          "name": "stdout",
          "text": [
            "Mounted at /content/drive\n"
          ]
        }
      ]
    },
    {
      "cell_type": "code",
      "metadata": {
        "id": "y5iPwNyf1jgO"
      },
      "source": [
        "## Collecting data from the drive\n",
        "df = pd.read_csv('/content/drive/My Drive/Neural-CARS/london_20k.csv') "
      ],
      "execution_count": null,
      "outputs": []
    },
    {
      "cell_type": "code",
      "metadata": {
        "colab": {
          "base_uri": "https://localhost:8080/"
        },
        "id": "1ktYT3WawxWb",
        "outputId": "b561b7cb-c8df-437a-f74f-1b4e80ca5d76"
      },
      "source": [
        "df.shape"
      ],
      "execution_count": null,
      "outputs": [
        {
          "output_type": "execute_result",
          "data": {
            "text/plain": [
              "(20000, 13)"
            ]
          },
          "metadata": {},
          "execution_count": 7
        }
      ]
    },
    {
      "cell_type": "code",
      "metadata": {
        "id": "4Cd4LWhLJiqO",
        "colab": {
          "base_uri": "https://localhost:8080/",
          "height": 322
        },
        "outputId": "7b38c93f-4fb5-4b02-d210-e0eda1161177"
      },
      "source": [
        "df.head(2)"
      ],
      "execution_count": null,
      "outputs": [
        {
          "output_type": "execute_result",
          "data": {
            "text/html": [
              "<div>\n",
              "<style scoped>\n",
              "    .dataframe tbody tr th:only-of-type {\n",
              "        vertical-align: middle;\n",
              "    }\n",
              "\n",
              "    .dataframe tbody tr th {\n",
              "        vertical-align: top;\n",
              "    }\n",
              "\n",
              "    .dataframe thead th {\n",
              "        text-align: right;\n",
              "    }\n",
              "</style>\n",
              "<table border=\"1\" class=\"dataframe\">\n",
              "  <thead>\n",
              "    <tr style=\"text-align: right;\">\n",
              "      <th></th>\n",
              "      <th>photo_id</th>\n",
              "      <th>owner</th>\n",
              "      <th>gender</th>\n",
              "      <th>occupation</th>\n",
              "      <th>title</th>\n",
              "      <th>description</th>\n",
              "      <th>tags</th>\n",
              "      <th>faves</th>\n",
              "      <th>lat</th>\n",
              "      <th>lon</th>\n",
              "      <th>u_city</th>\n",
              "      <th>u_country</th>\n",
              "      <th>taken</th>\n",
              "    </tr>\n",
              "  </thead>\n",
              "  <tbody>\n",
              "    <tr>\n",
              "      <th>0</th>\n",
              "      <td>12056545693</td>\n",
              "      <td>78191777@N00</td>\n",
              "      <td>1.0</td>\n",
              "      <td>Producer/DJ</td>\n",
              "      <td>près</td>\n",
              "      <td>&lt;i&gt;Let us draw near with a true heart in full ...</td>\n",
              "      <td>clapham, london, england, ukgarage, dubstep, e...</td>\n",
              "      <td>0</td>\n",
              "      <td>51.465163</td>\n",
              "      <td>-0.129085</td>\n",
              "      <td>30307</td>\n",
              "      <td>USA</td>\n",
              "      <td>2014-01-20 15:19:44</td>\n",
              "    </tr>\n",
              "    <tr>\n",
              "      <th>1</th>\n",
              "      <td>12453639663</td>\n",
              "      <td>41087279@N00</td>\n",
              "      <td>1.0</td>\n",
              "      <td>Accountant</td>\n",
              "      <td>DSC_4241 Chyna Whyne from Jamaica Live at Char...</td>\n",
              "      <td>Chyna Whyne from Jamaica Live at Charlie Wrigh...</td>\n",
              "      <td>chyna, whyne, from, jamaica, live, charlie, wr...</td>\n",
              "      <td>1</td>\n",
              "      <td>51.527672</td>\n",
              "      <td>-0.083648</td>\n",
              "      <td>London</td>\n",
              "      <td>England</td>\n",
              "      <td>2014-02-09 23:05:35</td>\n",
              "    </tr>\n",
              "  </tbody>\n",
              "</table>\n",
              "</div>"
            ],
            "text/plain": [
              "      photo_id         owner  gender  ...  u_city u_country                taken\n",
              "0  12056545693  78191777@N00     1.0  ...   30307       USA  2014-01-20 15:19:44\n",
              "1  12453639663  41087279@N00     1.0  ...  London   England  2014-02-09 23:05:35\n",
              "\n",
              "[2 rows x 13 columns]"
            ]
          },
          "metadata": {},
          "execution_count": 8
        }
      ]
    },
    {
      "cell_type": "code",
      "metadata": {
        "id": "LYkZy0hUjA39"
      },
      "source": [
        "# data=df[['gender','occupation','description','tags','faves','u_city']]"
      ],
      "execution_count": null,
      "outputs": []
    },
    {
      "cell_type": "code",
      "metadata": {
        "colab": {
          "base_uri": "https://localhost:8080/"
        },
        "id": "-Ltat4ruVjZA",
        "outputId": "8f309272-d96e-4fb1-a082-a86cb3d42bb1"
      },
      "source": [
        "!pip install apyori"
      ],
      "execution_count": null,
      "outputs": [
        {
          "output_type": "stream",
          "name": "stdout",
          "text": [
            "Collecting apyori\n",
            "  Downloading apyori-1.1.2.tar.gz (8.6 kB)\n",
            "Building wheels for collected packages: apyori\n",
            "  Building wheel for apyori (setup.py) ... \u001b[?25l\u001b[?25hdone\n",
            "  Created wheel for apyori: filename=apyori-1.1.2-py3-none-any.whl size=5974 sha256=f46699d67445aeb230f5f6902a356c9fe95c545fdab9412bc9be488bfedfc1fa\n",
            "  Stored in directory: /root/.cache/pip/wheels/cb/f6/e1/57973c631d27efd1a2f375bd6a83b2a616c4021f24aab84080\n",
            "Successfully built apyori\n",
            "Installing collected packages: apyori\n",
            "Successfully installed apyori-1.1.2\n"
          ]
        }
      ]
    },
    {
      "cell_type": "code",
      "metadata": {
        "id": "DHiDIKGWjX31"
      },
      "source": [
        "import numpy as np  \n",
        "import matplotlib.pyplot as plt  \n",
        "import pandas as pd  \n",
        "from apyori import apriori  \n",
        "records = []  \n",
        "for i in range(0, len(df)):  \n",
        "    records.append([str(df.values[i,j]) for j in range(0, 13)])\n"
      ],
      "execution_count": null,
      "outputs": []
    },
    {
      "cell_type": "code",
      "metadata": {
        "colab": {
          "base_uri": "https://localhost:8080/"
        },
        "id": "_6VPrzVOaYOI",
        "outputId": "3f0661ab-4cff-41ec-bc18-ec4fc5130c88"
      },
      "source": [
        "records[:3]"
      ],
      "execution_count": null,
      "outputs": [
        {
          "output_type": "execute_result",
          "data": {
            "text/plain": [
              "[['12056545693',\n",
              "  '78191777@N00',\n",
              "  '1.0',\n",
              "  'Producer/DJ',\n",
              "  'près',\n",
              "  '<i>Let us draw near with a true heart in full assurance of faith, having our hearts sprinkled from an evil conscience, and our bodies washed with pure water.</i>  <b>Hebrews 10:22  King James Version</b>   <a href=\"https://role.bandcamp.com/album/pr-s\" rel=\"noreferrer nofollow\">role.bandcamp.com/album/pr-s</a>',\n",
              "  'clapham, london, england, ukgarage, dubstep, experimentalelectronic, pregailsignore, spareparts, idm, abstract, neomedieval, meditative, praisethelord, psalm, prophétique, poétique, spagettiwestern, cowpoke, neopsychedelia, experimentalpop, westernswing, dusty, hosannadansleplushaut, jesus, theway, thetruth, thelife, experimentaldubstep, ballad, glitchhop, domirican, moombahton, reggaeton, jazzlatino, carnivale, ultra, miamibass, prijsdeheer, romans, knowledge, gooddoctrine, straightforward, postitalo, italopop, osannaalfigliodidavide, electro, experimental, lofihiphop, frenchhouse, berlinschool, lofi, house, frenchtechhouse, frenchtech, frenchtouch, bayou, southern, louveosenhor',\n",
              "  '0',\n",
              "  '51.465163',\n",
              "  '-0.129085',\n",
              "  '30307',\n",
              "  'USA',\n",
              "  '2014-01-20 15:19:44'],\n",
              " ['12453639663',\n",
              "  '41087279@N00',\n",
              "  '1.0',\n",
              "  'Accountant',\n",
              "  'DSC_4241 Chyna Whyne from Jamaica Live at Charlie Wrights Music Lounge',\n",
              "  'Chyna Whyne from Jamaica Live at Charlie Wrights Music Lounge',\n",
              "  'chyna, whyne, from, jamaica, live, charlie, wrights, music, lounge',\n",
              "  '1',\n",
              "  '51.527672',\n",
              "  '-0.083648',\n",
              "  'London',\n",
              "  'England',\n",
              "  '2014-02-09 23:05:35'],\n",
              " ['13185773995',\n",
              "  '41087279@N00',\n",
              "  '1.0',\n",
              "  'Accountant',\n",
              "  'DSC_6178 Flirt 69 Birthday Party at Charlie Wrights Music Lounge DJ Adelaide London',\n",
              "  'Flirt 69 Birthday Party at Charlie Wrights Music Lounge DJ Adelaide London ',\n",
              "  'flirt, 69, birthday, party, charlie, wrights, music, lounge, dj, adelaide, london',\n",
              "  '0',\n",
              "  '51.527672',\n",
              "  '-0.083648',\n",
              "  'London',\n",
              "  'England',\n",
              "  '2014-03-14 22:24:02']]"
            ]
          },
          "metadata": {},
          "execution_count": 12
        }
      ]
    },
    {
      "cell_type": "code",
      "metadata": {
        "id": "R8Ux_8sqjd2h"
      },
      "source": [
        "# data.info()"
      ],
      "execution_count": null,
      "outputs": []
    },
    {
      "cell_type": "code",
      "metadata": {
        "colab": {
          "base_uri": "https://localhost:8080/"
        },
        "id": "YNImsi_IVawu",
        "outputId": "fc82df69-9729-4693-f5dc-d0e4c8b3fc7b"
      },
      "source": [
        "association_rules = apriori(records, min_support=0.05, min_confidence=0.6, min_lift=3.50, min_length=10)  \n",
        "association_results = list(association_rules)\n",
        "print(len(association_results)) "
      ],
      "execution_count": null,
      "outputs": [
        {
          "output_type": "stream",
          "name": "stdout",
          "text": [
            "125\n"
          ]
        }
      ]
    },
    {
      "cell_type": "code",
      "metadata": {
        "id": "Rc6JRgNsf55R"
      },
      "source": [
        "import pickle\n",
        "MB=association_results\n",
        "with open('/content/drive/My Drive/Neural-CARS/Rules.txt', 'wb') as fp:\n",
        "    pickle.dump(MB, fp)"
      ],
      "execution_count": null,
      "outputs": []
    },
    {
      "cell_type": "code",
      "metadata": {
        "id": "a6YCOZHuWKmH",
        "colab": {
          "base_uri": "https://localhost:8080/"
        },
        "outputId": "c4ef0d47-0d1d-4ad6-e386-0b8b2cbde5a5"
      },
      "source": [
        "## Mounting Google Drive\n",
        "import pandas as pd\n",
        "from google.colab import drive\n",
        "drive.mount('/content/drive')"
      ],
      "execution_count": null,
      "outputs": [
        {
          "output_type": "stream",
          "name": "stdout",
          "text": [
            "Mounted at /content/drive\n"
          ]
        }
      ]
    },
    {
      "cell_type": "code",
      "metadata": {
        "colab": {
          "base_uri": "https://localhost:8080/"
        },
        "id": "WmaunMfMhsfv",
        "outputId": "2b5ed01a-023d-44d6-b902-0e00e84ccea3"
      },
      "source": [
        "!pip install apyori"
      ],
      "execution_count": null,
      "outputs": [
        {
          "output_type": "stream",
          "name": "stdout",
          "text": [
            "Collecting apyori\n",
            "  Downloading apyori-1.1.2.tar.gz (8.6 kB)\n",
            "Building wheels for collected packages: apyori\n",
            "  Building wheel for apyori (setup.py) ... \u001b[?25l\u001b[?25hdone\n",
            "  Created wheel for apyori: filename=apyori-1.1.2-py3-none-any.whl size=5974 sha256=6fec412b1c1b84b8624521d92395b55d6a5d259ce882721c758d911980674a6d\n",
            "  Stored in directory: /root/.cache/pip/wheels/cb/f6/e1/57973c631d27efd1a2f375bd6a83b2a616c4021f24aab84080\n",
            "Successfully built apyori\n",
            "Installing collected packages: apyori\n",
            "Successfully installed apyori-1.1.2\n"
          ]
        }
      ]
    },
    {
      "cell_type": "code",
      "metadata": {
        "id": "tJtgSQ9bluJV"
      },
      "source": [
        "import pickle\n",
        "with open ('/content/drive/My Drive/Neural-CARS/Rules.txt', 'rb') as fp:\n",
        "    itemlist = pickle.load(fp)"
      ],
      "execution_count": null,
      "outputs": []
    },
    {
      "cell_type": "code",
      "metadata": {
        "colab": {
          "base_uri": "https://localhost:8080/"
        },
        "id": "Rmti7rqdl1DC",
        "outputId": "bb9883c5-9fb8-4cc8-ab43-f6dd0cedfa08"
      },
      "source": [
        "MB = itemlist\n",
        "listRules = [list(MB[i][0]) for i in range(0,len(MB))]\n",
        "len(listRules)"
      ],
      "execution_count": null,
      "outputs": [
        {
          "output_type": "execute_result",
          "data": {
            "text/plain": [
              "125"
            ]
          },
          "metadata": {},
          "execution_count": 5
        }
      ]
    },
    {
      "cell_type": "code",
      "metadata": {
        "id": "OfKtRiMvl6an",
        "colab": {
          "base_uri": "https://localhost:8080/",
          "height": 385
        },
        "outputId": "b935cfa9-e50d-42c6-9c8f-e7bbd0d1bfbd"
      },
      "source": [
        "liscon=[]\n",
        "for i in range(0,len(MB)):\n",
        "    liscon.append(MB[i][1])\n",
        "new_df=pd.DataFrame({'Rules':listRules,'Support_Ratio':liscon})\n",
        "new_df.head(11)"
      ],
      "execution_count": null,
      "outputs": [
        {
          "output_type": "execute_result",
          "data": {
            "text/html": [
              "<div>\n",
              "<style scoped>\n",
              "    .dataframe tbody tr th:only-of-type {\n",
              "        vertical-align: middle;\n",
              "    }\n",
              "\n",
              "    .dataframe tbody tr th {\n",
              "        vertical-align: top;\n",
              "    }\n",
              "\n",
              "    .dataframe thead th {\n",
              "        text-align: right;\n",
              "    }\n",
              "</style>\n",
              "<table border=\"1\" class=\"dataframe\">\n",
              "  <thead>\n",
              "    <tr style=\"text-align: right;\">\n",
              "      <th></th>\n",
              "      <th>Rules</th>\n",
              "      <th>Support_Ratio</th>\n",
              "    </tr>\n",
              "  </thead>\n",
              "  <tbody>\n",
              "    <tr>\n",
              "      <th>0</th>\n",
              "      <td>[154266841@N04, London]</td>\n",
              "      <td>0.06200</td>\n",
              "    </tr>\n",
              "    <tr>\n",
              "      <th>1</th>\n",
              "      <td>[154266841@N04, Photographer]</td>\n",
              "      <td>0.06200</td>\n",
              "    </tr>\n",
              "    <tr>\n",
              "      <th>2</th>\n",
              "      <td>[154266841@N04, UK]</td>\n",
              "      <td>0.06200</td>\n",
              "    </tr>\n",
              "    <tr>\n",
              "      <th>3</th>\n",
              "      <td>[Accountant, 41087279@N00]</td>\n",
              "      <td>0.06320</td>\n",
              "    </tr>\n",
              "    <tr>\n",
              "      <th>4</th>\n",
              "      <td>[41087279@N00, England]</td>\n",
              "      <td>0.06320</td>\n",
              "    </tr>\n",
              "    <tr>\n",
              "      <th>5</th>\n",
              "      <td>[London, 41087279@N00]</td>\n",
              "      <td>0.06320</td>\n",
              "    </tr>\n",
              "    <tr>\n",
              "      <th>6</th>\n",
              "      <td>[47121377@N00, England]</td>\n",
              "      <td>0.05645</td>\n",
              "    </tr>\n",
              "    <tr>\n",
              "      <th>7</th>\n",
              "      <td>[47121377@N00, Nr Greenwich, London]</td>\n",
              "      <td>0.05645</td>\n",
              "    </tr>\n",
              "    <tr>\n",
              "      <th>8</th>\n",
              "      <td>[47121377@N00, Professional Manager]</td>\n",
              "      <td>0.05645</td>\n",
              "    </tr>\n",
              "    <tr>\n",
              "      <th>9</th>\n",
              "      <td>[Accountant, England]</td>\n",
              "      <td>0.06320</td>\n",
              "    </tr>\n",
              "    <tr>\n",
              "      <th>10</th>\n",
              "      <td>[London, Accountant]</td>\n",
              "      <td>0.06320</td>\n",
              "    </tr>\n",
              "  </tbody>\n",
              "</table>\n",
              "</div>"
            ],
            "text/plain": [
              "                                   Rules  Support_Ratio\n",
              "0                [154266841@N04, London]        0.06200\n",
              "1          [154266841@N04, Photographer]        0.06200\n",
              "2                    [154266841@N04, UK]        0.06200\n",
              "3             [Accountant, 41087279@N00]        0.06320\n",
              "4                [41087279@N00, England]        0.06320\n",
              "5                 [London, 41087279@N00]        0.06320\n",
              "6                [47121377@N00, England]        0.05645\n",
              "7   [47121377@N00, Nr Greenwich, London]        0.05645\n",
              "8   [47121377@N00, Professional Manager]        0.05645\n",
              "9                  [Accountant, England]        0.06320\n",
              "10                  [London, Accountant]        0.06320"
            ]
          },
          "metadata": {},
          "execution_count": 6
        }
      ]
    },
    {
      "cell_type": "code",
      "metadata": {
        "colab": {
          "base_uri": "https://localhost:8080/"
        },
        "id": "r-BvRVWqh7sj",
        "outputId": "a96033b4-bf67-4916-a730-4ea9339b60c3"
      },
      "source": [
        "for item in MB:\n",
        "\n",
        "    # first index of the inner list\n",
        "    # Contains base item and add item\n",
        "    pair = item[0] \n",
        "    items = [x for x in pair]\n",
        "    print(\"Rule: \" + items[0] + \" -> \" + items[1])\n",
        "\n",
        "    #second index of the inner list\n",
        "    print(\"Support: \" + str(item[1]))\n",
        "\n",
        "    #third index of the list located at 0th\n",
        "    #of the third index of the inner list\n",
        "\n",
        "    print(\"Confidence: \" + str(item[2][0][2]))\n",
        "    print(\"Lift: \" + str(item[2][0][3]))\n",
        "    print(\"=====================================\")"
      ],
      "execution_count": null,
      "outputs": [
        {
          "output_type": "stream",
          "name": "stdout",
          "text": [
            "Rule: 154266841@N04 -> London\n",
            "Support: 0.062\n",
            "Confidence: 1.0\n",
            "Lift: 3.7778617302606725\n",
            "=====================================\n",
            "Rule: 154266841@N04 -> Photographer\n",
            "Support: 0.062\n",
            "Confidence: 1.0\n",
            "Lift: 15.037593984962406\n",
            "=====================================\n",
            "Rule: 154266841@N04 -> UK\n",
            "Support: 0.062\n",
            "Confidence: 1.0\n",
            "Lift: 6.501950585175553\n",
            "=====================================\n",
            "Rule: Accountant -> 41087279@N00\n",
            "Support: 0.0632\n",
            "Confidence: 1.0\n",
            "Lift: 15.822784810126581\n",
            "=====================================\n",
            "Rule: 41087279@N00 -> England\n",
            "Support: 0.0632\n",
            "Confidence: 1.0\n",
            "Lift: 5.431830526887561\n",
            "=====================================\n",
            "Rule: London -> 41087279@N00\n",
            "Support: 0.0632\n",
            "Confidence: 1.0\n",
            "Lift: 3.7778617302606725\n",
            "=====================================\n",
            "Rule: 47121377@N00 -> England\n",
            "Support: 0.05645\n",
            "Confidence: 1.0\n",
            "Lift: 5.431830526887561\n",
            "=====================================\n",
            "Rule: 47121377@N00 -> Nr Greenwich, London\n",
            "Support: 0.05645\n",
            "Confidence: 1.0\n",
            "Lift: 17.71479185119575\n",
            "=====================================\n",
            "Rule: 47121377@N00 -> Professional Manager\n",
            "Support: 0.05645\n",
            "Confidence: 1.0\n",
            "Lift: 17.71479185119575\n",
            "=====================================\n",
            "Rule: Accountant -> England\n",
            "Support: 0.0632\n",
            "Confidence: 1.0\n",
            "Lift: 5.431830526887561\n",
            "=====================================\n",
            "Rule: London -> Accountant\n",
            "Support: 0.0632\n",
            "Confidence: 1.0\n",
            "Lift: 3.7778617302606725\n",
            "=====================================\n",
            "Rule: Nr Greenwich, London -> England\n",
            "Support: 0.05645\n",
            "Confidence: 1.0\n",
            "Lift: 5.431830526887561\n",
            "=====================================\n",
            "Rule: Professional Manager -> England\n",
            "Support: 0.05645\n",
            "Confidence: 1.0\n",
            "Lift: 5.431830526887561\n",
            "=====================================\n",
            "Rule: London -> Photographer\n",
            "Support: 0.06235\n",
            "Confidence: 0.937593984962406\n",
            "Lift: 3.542100434312074\n",
            "=====================================\n",
            "Rule: Nr Greenwich, London -> Professional Manager\n",
            "Support: 0.05645\n",
            "Confidence: 1.0\n",
            "Lift: 17.71479185119575\n",
            "=====================================\n",
            "Rule: UK -> Photographer\n",
            "Support: 0.06215\n",
            "Confidence: 0.9345864661654134\n",
            "Lift: 6.076635020581362\n",
            "=====================================\n",
            "Rule: 0 -> 154266841@N04\n",
            "Support: 0.062\n",
            "Confidence: 1.0\n",
            "Lift: 5.333333333333333\n",
            "=====================================\n",
            "Rule: 0 -> 154266841@N04\n",
            "Support: 0.062\n",
            "Confidence: 1.0\n",
            "Lift: 16.051364365971107\n",
            "=====================================\n",
            "Rule: 0 -> 154266841@N04\n",
            "Support: 0.062\n",
            "Confidence: 1.0\n",
            "Lift: 8.19336337566571\n",
            "=====================================\n",
            "Rule: 0 -> London\n",
            "Support: 0.06215\n",
            "Confidence: 0.9345864661654134\n",
            "Lift: 4.984461152882205\n",
            "=====================================\n",
            "Rule: 0 -> UK\n",
            "Support: 0.0621\n",
            "Confidence: 0.9338345864661654\n",
            "Lift: 7.6512460996818135\n",
            "=====================================\n",
            "Rule: 154266841@N04 -> 1.0\n",
            "Support: 0.062\n",
            "Confidence: 1.0\n",
            "Lift: 4.1356492969396195\n",
            "=====================================\n",
            "Rule: 154266841@N04 -> 1.0\n",
            "Support: 0.062\n",
            "Confidence: 1.0\n",
            "Lift: 15.163002274450342\n",
            "=====================================\n",
            "Rule: 154266841@N04 -> 1.0\n",
            "Support: 0.062\n",
            "Confidence: 1.0\n",
            "Lift: 7.468259895444362\n",
            "=====================================\n",
            "Rule: Accountant -> 1.0\n",
            "Support: 0.0632\n",
            "Confidence: 1.0\n",
            "Lift: 15.822784810126581\n",
            "=====================================\n",
            "Rule: 1.0 -> 41087279@N00\n",
            "Support: 0.0632\n",
            "Confidence: 1.0\n",
            "Lift: 5.624296962879639\n",
            "=====================================\n",
            "Rule: London -> 1.0\n",
            "Support: 0.0632\n",
            "Confidence: 1.0\n",
            "Lift: 4.1356492969396195\n",
            "=====================================\n",
            "Rule: 47121377@N00 -> 1.0\n",
            "Support: 0.05645\n",
            "Confidence: 1.0\n",
            "Lift: 5.624296962879639\n",
            "=====================================\n",
            "Rule: 47121377@N00 -> Nr Greenwich, London\n",
            "Support: 0.05645\n",
            "Confidence: 1.0\n",
            "Lift: 17.71479185119575\n",
            "=====================================\n",
            "Rule: 47121377@N00 -> 1.0\n",
            "Support: 0.05645\n",
            "Confidence: 1.0\n",
            "Lift: 17.71479185119575\n",
            "=====================================\n",
            "Rule: 1.0 -> Accountant\n",
            "Support: 0.0632\n",
            "Confidence: 1.0\n",
            "Lift: 5.624296962879639\n",
            "=====================================\n",
            "Rule: London -> 1.0\n",
            "Support: 0.0632\n",
            "Confidence: 1.0\n",
            "Lift: 4.1356492969396195\n",
            "=====================================\n",
            "Rule: Nr Greenwich, London -> 1.0\n",
            "Support: 0.05645\n",
            "Confidence: 1.0\n",
            "Lift: 5.624296962879639\n",
            "=====================================\n",
            "Rule: 1.0 -> Professional Manager\n",
            "Support: 0.05645\n",
            "Confidence: 1.0\n",
            "Lift: 5.624296962879639\n",
            "=====================================\n",
            "Rule: London -> 1.0\n",
            "Support: 0.0622\n",
            "Confidence: 0.9353383458646616\n",
            "Lift: 3.8682313724758544\n",
            "=====================================\n",
            "Rule: Nr Greenwich, London -> 1.0\n",
            "Support: 0.05645\n",
            "Confidence: 1.0\n",
            "Lift: 17.71479185119575\n",
            "=====================================\n",
            "Rule: 1.0 -> UK\n",
            "Support: 0.062\n",
            "Confidence: 0.9323308270676691\n",
            "Lift: 6.962888925075946\n",
            "=====================================\n",
            "Rule: 154266841@N04 -> London\n",
            "Support: 0.062\n",
            "Confidence: 1.0\n",
            "Lift: 16.038492381716118\n",
            "=====================================\n",
            "Rule: 154266841@N04 -> London\n",
            "Support: 0.062\n",
            "Confidence: 1.0\n",
            "Lift: 10.34126163391934\n",
            "=====================================\n",
            "Rule: nan -> 154266841@N04\n",
            "Support: 0.06195\n",
            "Confidence: 0.9991935483870967\n",
            "Lift: 5.901911095021244\n",
            "=====================================\n",
            "Rule: 154266841@N04 -> UK\n",
            "Support: 0.062\n",
            "Confidence: 1.0\n",
            "Lift: 16.090104585679807\n",
            "=====================================\n",
            "Rule: nan -> 154266841@N04\n",
            "Support: 0.06195\n",
            "Confidence: 0.9991935483870967\n",
            "Lift: 15.760150605474712\n",
            "=====================================\n",
            "Rule: nan -> 154266841@N04\n",
            "Support: 0.06195\n",
            "Confidence: 0.9991935483870967\n",
            "Lift: 7.905012249897917\n",
            "=====================================\n",
            "Rule: Accountant -> 41087279@N00\n",
            "Support: 0.0632\n",
            "Confidence: 1.0\n",
            "Lift: 15.822784810126581\n",
            "=====================================\n",
            "Rule: Accountant -> London\n",
            "Support: 0.0632\n",
            "Confidence: 1.0\n",
            "Lift: 15.822784810126581\n",
            "=====================================\n",
            "Rule: London -> 41087279@N00\n",
            "Support: 0.0632\n",
            "Confidence: 1.0\n",
            "Lift: 13.596193065941536\n",
            "=====================================\n",
            "Rule: 47121377@N00 -> Nr Greenwich, London\n",
            "Support: 0.05645\n",
            "Confidence: 1.0\n",
            "Lift: 17.71479185119575\n",
            "=====================================\n",
            "Rule: 47121377@N00 -> Professional Manager\n",
            "Support: 0.05645\n",
            "Confidence: 1.0\n",
            "Lift: 17.71479185119575\n",
            "=====================================\n",
            "Rule: 47121377@N00 -> Nr Greenwich, London\n",
            "Support: 0.05645\n",
            "Confidence: 1.0\n",
            "Lift: 17.71479185119575\n",
            "=====================================\n",
            "Rule: London -> Accountant\n",
            "Support: 0.0632\n",
            "Confidence: 1.0\n",
            "Lift: 13.596193065941536\n",
            "=====================================\n",
            "Rule: Nr Greenwich, London -> Professional Manager\n",
            "Support: 0.05645\n",
            "Confidence: 1.0\n",
            "Lift: 17.71479185119575\n",
            "=====================================\n",
            "Rule: London -> UK\n",
            "Support: 0.06215\n",
            "Confidence: 0.9345864661654134\n",
            "Lift: 9.664803166136643\n",
            "=====================================\n",
            "Rule: nan -> London\n",
            "Support: 0.0623\n",
            "Confidence: 0.9368421052631578\n",
            "Lift: 5.533621413249603\n",
            "=====================================\n",
            "Rule: nan -> UK\n",
            "Support: 0.0621\n",
            "Confidence: 0.9338345864661654\n",
            "Lift: 7.387931854953839\n",
            "=====================================\n",
            "Rule: 0 -> 154266841@N04\n",
            "Support: 0.062\n",
            "Confidence: 1.0\n",
            "Lift: 5.88754783632617\n",
            "=====================================\n",
            "Rule: 0 -> 154266841@N04\n",
            "Support: 0.062\n",
            "Confidence: 1.0\n",
            "Lift: 16.10305958132045\n",
            "=====================================\n",
            "Rule: 0 -> 154266841@N04\n",
            "Support: 0.062\n",
            "Confidence: 1.0\n",
            "Lift: 9.315323707498836\n",
            "=====================================\n",
            "Rule: 0 -> London\n",
            "Support: 0.06205\n",
            "Confidence: 0.9330827067669173\n",
            "Lift: 5.49356907133893\n",
            "=====================================\n",
            "Rule: 0 -> 1.0\n",
            "Support: 0.062\n",
            "Confidence: 0.9323308270676691\n",
            "Lift: 8.684963456615455\n",
            "=====================================\n",
            "Rule: 0 -> 154266841@N04\n",
            "Support: 0.062\n",
            "Confidence: 1.0\n",
            "Lift: 16.090104585679807\n",
            "=====================================\n",
            "Rule: 0 -> 154266841@N04\n",
            "Support: 0.062\n",
            "Confidence: 1.0\n",
            "Lift: 11.481056257175661\n",
            "=====================================\n",
            "Rule: 0 -> nan\n",
            "Support: 0.06195\n",
            "Confidence: 0.9991935483870967\n",
            "Lift: 7.870764461497414\n",
            "=====================================\n",
            "Rule: 0 -> 154266841@N04\n",
            "Support: 0.062\n",
            "Confidence: 1.0\n",
            "Lift: 16.10305958132045\n",
            "=====================================\n",
            "Rule: 0 -> nan\n",
            "Support: 0.06195\n",
            "Confidence: 0.9991935483870967\n",
            "Lift: 16.077128694884905\n",
            "=====================================\n",
            "Rule: 0 -> nan\n",
            "Support: 0.06195\n",
            "Confidence: 0.9991935483870967\n",
            "Lift: 9.715056377122963\n",
            "=====================================\n",
            "Rule: 0 -> London\n",
            "Support: 0.0621\n",
            "Confidence: 0.9338345864661654\n",
            "Lift: 10.721407422114414\n",
            "=====================================\n",
            "Rule: 0 -> nan\n",
            "Support: 0.0621\n",
            "Confidence: 0.9338345864661654\n",
            "Lift: 7.355924273069439\n",
            "=====================================\n",
            "Rule: 0 -> nan\n",
            "Support: 0.0809\n",
            "Confidence: 0.6628430970913559\n",
            "Lift: 3.915198447084205\n",
            "=====================================\n",
            "Rule: 0 -> nan\n",
            "Support: 0.06205\n",
            "Confidence: 0.9330827067669173\n",
            "Lift: 9.072267445473187\n",
            "=====================================\n",
            "Rule: 154266841@N04 -> 1.0\n",
            "Support: 0.062\n",
            "Confidence: 1.0\n",
            "Lift: 16.077170418006432\n",
            "=====================================\n",
            "Rule: 154266841@N04 -> 1.0\n",
            "Support: 0.062\n",
            "Confidence: 1.0\n",
            "Lift: 11.19820828667413\n",
            "=====================================\n",
            "Rule: nan -> 154266841@N04\n",
            "Support: 0.06195\n",
            "Confidence: 0.9991935483870967\n",
            "Lift: 6.571480094620827\n",
            "=====================================\n",
            "Rule: 154266841@N04 -> 1.0\n",
            "Support: 0.062\n",
            "Confidence: 1.0\n",
            "Lift: 16.129032258064516\n",
            "=====================================\n",
            "Rule: nan -> 154266841@N04\n",
            "Support: 0.06195\n",
            "Confidence: 0.9991935483870967\n",
            "Lift: 15.797526456712992\n",
            "=====================================\n",
            "Rule: nan -> 154266841@N04\n",
            "Support: 0.06195\n",
            "Confidence: 0.9991935483870967\n",
            "Lift: 8.93733048646777\n",
            "=====================================\n",
            "Rule: Accountant -> 1.0\n",
            "Support: 0.0632\n",
            "Confidence: 1.0\n",
            "Lift: 15.822784810126581\n",
            "=====================================\n",
            "Rule: Accountant -> London\n",
            "Support: 0.0632\n",
            "Confidence: 1.0\n",
            "Lift: 15.822784810126581\n",
            "=====================================\n",
            "Rule: London -> 1.0\n",
            "Support: 0.0632\n",
            "Confidence: 1.0\n",
            "Lift: 14.450867052023122\n",
            "=====================================\n",
            "Rule: 47121377@N00 -> Nr Greenwich, London\n",
            "Support: 0.05645\n",
            "Confidence: 1.0\n",
            "Lift: 17.71479185119575\n",
            "=====================================\n",
            "Rule: 47121377@N00 -> 1.0\n",
            "Support: 0.05645\n",
            "Confidence: 1.0\n",
            "Lift: 17.71479185119575\n",
            "=====================================\n",
            "Rule: 47121377@N00 -> Nr Greenwich, London\n",
            "Support: 0.05645\n",
            "Confidence: 1.0\n",
            "Lift: 17.71479185119575\n",
            "=====================================\n",
            "Rule: London -> 1.0\n",
            "Support: 0.0632\n",
            "Confidence: 1.0\n",
            "Lift: 14.450867052023122\n",
            "=====================================\n",
            "Rule: Nr Greenwich, London -> 1.0\n",
            "Support: 0.05645\n",
            "Confidence: 1.0\n",
            "Lift: 17.71479185119575\n",
            "=====================================\n",
            "Rule: London -> 1.0\n",
            "Support: 0.062\n",
            "Confidence: 0.9323308270676691\n",
            "Lift: 10.440434793590919\n",
            "=====================================\n",
            "Rule: nan -> London\n",
            "Support: 0.06215\n",
            "Confidence: 0.9345864661654134\n",
            "Lift: 6.146573273037905\n",
            "=====================================\n",
            "Rule: nan -> London\n",
            "Support: 0.08245\n",
            "Confidence: 0.6157580283793876\n",
            "Lift: 3.6370822704039436\n",
            "=====================================\n",
            "Rule: nan -> 1.0\n",
            "Support: 0.06195\n",
            "Confidence: 0.931578947368421\n",
            "Lift: 8.33254872422559\n",
            "=====================================\n",
            "Rule: 154266841@N04 -> London\n",
            "Support: 0.062\n",
            "Confidence: 1.0\n",
            "Lift: 16.090104585679807\n",
            "=====================================\n",
            "Rule: nan -> 154266841@N04\n",
            "Support: 0.06195\n",
            "Confidence: 0.9991935483870967\n",
            "Lift: 16.03841971728887\n",
            "=====================================\n",
            "Rule: nan -> 154266841@N04\n",
            "Support: 0.06195\n",
            "Confidence: 0.9991935483870967\n",
            "Lift: 11.2458474776263\n",
            "=====================================\n",
            "Rule: nan -> 154266841@N04\n",
            "Support: 0.06195\n",
            "Confidence: 0.9991935483870967\n",
            "Lift: 16.090073242948417\n",
            "=====================================\n",
            "Rule: Accountant -> London\n",
            "Support: 0.0632\n",
            "Confidence: 1.0\n",
            "Lift: 15.822784810126581\n",
            "=====================================\n",
            "Rule: 47121377@N00 -> Nr Greenwich, London\n",
            "Support: 0.05645\n",
            "Confidence: 1.0\n",
            "Lift: 17.71479185119575\n",
            "=====================================\n",
            "Rule: nan -> London\n",
            "Support: 0.0621\n",
            "Confidence: 0.9338345864661654\n",
            "Lift: 10.510237326574737\n",
            "=====================================\n",
            "Rule: 154266841@N04 -> 1.0\n",
            "Support: 0.062\n",
            "Confidence: 1.0\n",
            "Lift: 16.116035455278002\n",
            "=====================================\n",
            "Rule: 154266841@N04 -> 1.0\n",
            "Support: 0.062\n",
            "Confidence: 1.0\n",
            "Lift: 12.391573729863694\n",
            "=====================================\n",
            "Rule: nan -> 154266841@N04\n",
            "Support: 0.06195\n",
            "Confidence: 0.9991935483870967\n",
            "Lift: 8.838509937081794\n",
            "=====================================\n",
            "Rule: 154266841@N04 -> 1.0\n",
            "Support: 0.062\n",
            "Confidence: 1.0\n",
            "Lift: 16.129032258064516\n",
            "=====================================\n",
            "Rule: nan -> 154266841@N04\n",
            "Support: 0.06195\n",
            "Confidence: 0.9991935483870967\n",
            "Lift: 16.103038652491485\n",
            "=====================================\n",
            "Rule: nan -> 154266841@N04\n",
            "Support: 0.06195\n",
            "Confidence: 0.9991935483870967\n",
            "Lift: 10.837240221118185\n",
            "=====================================\n",
            "Rule: London -> 1.0\n",
            "Support: 0.062\n",
            "Confidence: 0.9323308270676691\n",
            "Lift: 11.55304618423382\n",
            "=====================================\n",
            "Rule: nan -> London\n",
            "Support: 0.062\n",
            "Confidence: 0.9323308270676691\n",
            "Lift: 8.24706613947518\n",
            "=====================================\n",
            "Rule: nan -> London\n",
            "Support: 0.07515\n",
            "Confidence: 0.6157312576812781\n",
            "Lift: 4.049531454661481\n",
            "=====================================\n",
            "Rule: nan -> 1.0\n",
            "Support: 0.06195\n",
            "Confidence: 0.931578947368421\n",
            "Lift: 10.103893138486127\n",
            "=====================================\n",
            "Rule: 154266841@N04 -> London\n",
            "Support: 0.062\n",
            "Confidence: 1.0\n",
            "Lift: 16.10305958132045\n",
            "=====================================\n",
            "Rule: nan -> 154266841@N04\n",
            "Support: 0.06195\n",
            "Confidence: 0.9991935483870967\n",
            "Lift: 16.090073242948417\n",
            "=====================================\n",
            "Rule: nan -> 154266841@N04\n",
            "Support: 0.06195\n",
            "Confidence: 0.9991935483870967\n",
            "Lift: 12.350970931855336\n",
            "=====================================\n",
            "Rule: nan -> 154266841@N04\n",
            "Support: 0.06195\n",
            "Confidence: 0.9991935483870967\n",
            "Lift: 16.103038652491485\n",
            "=====================================\n",
            "Rule: nan -> London\n",
            "Support: 0.06205\n",
            "Confidence: 0.9330827067669173\n",
            "Lift: 11.533778822829634\n",
            "=====================================\n",
            "Rule: 154266841@N04 -> 1.0\n",
            "Support: 0.062\n",
            "Confidence: 1.0\n",
            "Lift: 16.129032258064516\n",
            "=====================================\n",
            "Rule: nan -> 154266841@N04\n",
            "Support: 0.06195\n",
            "Confidence: 0.9991935483870967\n",
            "Lift: 16.077128694884905\n",
            "=====================================\n",
            "Rule: nan -> 154266841@N04\n",
            "Support: 0.06195\n",
            "Confidence: 0.9991935483870967\n",
            "Lift: 12.118781666308026\n",
            "=====================================\n",
            "Rule: nan -> 154266841@N04\n",
            "Support: 0.06195\n",
            "Confidence: 0.9991935483870967\n",
            "Lift: 16.129032258064516\n",
            "=====================================\n",
            "Rule: London -> 1.0\n",
            "Support: 0.0632\n",
            "Confidence: 1.0\n",
            "Lift: 15.822784810126581\n",
            "=====================================\n",
            "Rule: 47121377@N00 -> Nr Greenwich, London\n",
            "Support: 0.05645\n",
            "Confidence: 1.0\n",
            "Lift: 17.71479185119575\n",
            "=====================================\n",
            "Rule: nan -> London\n",
            "Support: 0.06195\n",
            "Confidence: 0.931578947368421\n",
            "Lift: 11.298713734001467\n",
            "=====================================\n",
            "Rule: nan -> 154266841@N04\n",
            "Support: 0.06195\n",
            "Confidence: 0.9991935483870967\n",
            "Lift: 16.090073242948417\n",
            "=====================================\n",
            "Rule: 154266841@N04 -> 1.0\n",
            "Support: 0.062\n",
            "Confidence: 1.0\n",
            "Lift: 16.129032258064516\n",
            "=====================================\n",
            "Rule: nan -> 154266841@N04\n",
            "Support: 0.06195\n",
            "Confidence: 0.9991935483870967\n",
            "Lift: 16.116024973985432\n",
            "=====================================\n",
            "Rule: nan -> 154266841@N04\n",
            "Support: 0.06195\n",
            "Confidence: 0.9991935483870967\n",
            "Lift: 13.29598866782564\n",
            "=====================================\n",
            "Rule: nan -> 154266841@N04\n",
            "Support: 0.06195\n",
            "Confidence: 0.9991935483870967\n",
            "Lift: 16.129032258064516\n",
            "=====================================\n",
            "Rule: nan -> London\n",
            "Support: 0.06195\n",
            "Confidence: 0.931578947368421\n",
            "Lift: 12.396260111356234\n",
            "=====================================\n",
            "Rule: nan -> 154266841@N04\n",
            "Support: 0.06195\n",
            "Confidence: 0.9991935483870967\n",
            "Lift: 16.103038652491485\n",
            "=====================================\n",
            "Rule: nan -> 154266841@N04\n",
            "Support: 0.06195\n",
            "Confidence: 0.9991935483870967\n",
            "Lift: 16.129032258064516\n",
            "=====================================\n",
            "Rule: nan -> 154266841@N04\n",
            "Support: 0.06195\n",
            "Confidence: 0.9991935483870967\n",
            "Lift: 16.129032258064516\n",
            "=====================================\n"
          ]
        }
      ]
    },
    {
      "cell_type": "code",
      "metadata": {
        "colab": {
          "base_uri": "https://localhost:8080/"
        },
        "id": "bd7Kc9W8iIn_",
        "outputId": "f75882f2-1019-4d9f-997a-2f3c3084b405"
      },
      "source": [
        "s=set()\n",
        "import numpy as np\n",
        "for i in new_df.iloc[np.arange(len(new_df)),0]:\n",
        "    for j in i:\n",
        "        s.add(j)\n",
        "s\n"
      ],
      "execution_count": null,
      "outputs": [
        {
          "output_type": "execute_result",
          "data": {
            "text/plain": [
              "{'0',\n",
              " '1.0',\n",
              " '154266841@N04',\n",
              " '41087279@N00',\n",
              " '47121377@N00',\n",
              " 'Accountant',\n",
              " 'England',\n",
              " 'London',\n",
              " 'Nr Greenwich, London',\n",
              " 'Photographer',\n",
              " 'Professional Manager',\n",
              " 'UK',\n",
              " 'nan'}"
            ]
          },
          "metadata": {},
          "execution_count": 8
        }
      ]
    },
    {
      "cell_type": "code",
      "metadata": {
        "colab": {
          "base_uri": "https://localhost:8080/"
        },
        "id": "5W_2VHveibT1",
        "outputId": "fe34aca8-b8a1-4c02-aa64-2f09568c3b8e"
      },
      "source": [
        "D=dict()\n",
        "for j in s:\n",
        "    D[j]=[rows['Support_Ratio'] for i,rows in new_df.iterrows() if(j in rows['Rules'])]\n",
        "type(D)"
      ],
      "execution_count": null,
      "outputs": [
        {
          "output_type": "execute_result",
          "data": {
            "text/plain": [
              "dict"
            ]
          },
          "metadata": {},
          "execution_count": 9
        }
      ]
    },
    {
      "cell_type": "code",
      "metadata": {
        "colab": {
          "base_uri": "https://localhost:8080/"
        },
        "id": "0FV5nCbLimdq",
        "outputId": "56b2fca3-bdee-4309-d81e-baeae8116ad5"
      },
      "source": [
        "!pip install plotly==3.10.0"
      ],
      "execution_count": null,
      "outputs": [
        {
          "output_type": "stream",
          "name": "stdout",
          "text": [
            "Collecting plotly==3.10.0\n",
            "  Downloading plotly-3.10.0-py2.py3-none-any.whl (41.5 MB)\n",
            "\u001b[K     |████████████████████████████████| 41.5 MB 72 kB/s \n",
            "\u001b[?25hRequirement already satisfied: nbformat>=4.2 in /usr/local/lib/python3.7/dist-packages (from plotly==3.10.0) (5.1.3)\n",
            "Requirement already satisfied: six in /usr/local/lib/python3.7/dist-packages (from plotly==3.10.0) (1.15.0)\n",
            "Requirement already satisfied: retrying>=1.3.3 in /usr/local/lib/python3.7/dist-packages (from plotly==3.10.0) (1.3.3)\n",
            "Requirement already satisfied: requests in /usr/local/lib/python3.7/dist-packages (from plotly==3.10.0) (2.23.0)\n",
            "Requirement already satisfied: decorator>=4.0.6 in /usr/local/lib/python3.7/dist-packages (from plotly==3.10.0) (4.4.2)\n",
            "Requirement already satisfied: pytz in /usr/local/lib/python3.7/dist-packages (from plotly==3.10.0) (2018.9)\n",
            "Requirement already satisfied: jsonschema!=2.5.0,>=2.4 in /usr/local/lib/python3.7/dist-packages (from nbformat>=4.2->plotly==3.10.0) (2.6.0)\n",
            "Requirement already satisfied: jupyter-core in /usr/local/lib/python3.7/dist-packages (from nbformat>=4.2->plotly==3.10.0) (4.8.1)\n",
            "Requirement already satisfied: traitlets>=4.1 in /usr/local/lib/python3.7/dist-packages (from nbformat>=4.2->plotly==3.10.0) (5.1.0)\n",
            "Requirement already satisfied: ipython-genutils in /usr/local/lib/python3.7/dist-packages (from nbformat>=4.2->plotly==3.10.0) (0.2.0)\n",
            "Requirement already satisfied: certifi>=2017.4.17 in /usr/local/lib/python3.7/dist-packages (from requests->plotly==3.10.0) (2021.5.30)\n",
            "Requirement already satisfied: idna<3,>=2.5 in /usr/local/lib/python3.7/dist-packages (from requests->plotly==3.10.0) (2.10)\n",
            "Requirement already satisfied: chardet<4,>=3.0.2 in /usr/local/lib/python3.7/dist-packages (from requests->plotly==3.10.0) (3.0.4)\n",
            "Requirement already satisfied: urllib3!=1.25.0,!=1.25.1,<1.26,>=1.21.1 in /usr/local/lib/python3.7/dist-packages (from requests->plotly==3.10.0) (1.24.3)\n",
            "Installing collected packages: plotly\n",
            "  Attempting uninstall: plotly\n",
            "    Found existing installation: plotly 4.4.1\n",
            "    Uninstalling plotly-4.4.1:\n",
            "      Successfully uninstalled plotly-4.4.1\n",
            "\u001b[31mERROR: pip's dependency resolver does not currently take into account all the packages that are installed. This behaviour is the source of the following dependency conflicts.\n",
            "cufflinks 0.17.3 requires plotly>=4.1.1, but you have plotly 3.10.0 which is incompatible.\u001b[0m\n",
            "Successfully installed plotly-3.10.0\n"
          ]
        }
      ]
    },
    {
      "cell_type": "code",
      "metadata": {
        "colab": {
          "base_uri": "https://localhost:8080/",
          "height": 721
        },
        "id": "Bkm3XlBUiv4b",
        "outputId": "e97a200d-b187-46c0-a1c4-16b524eed0b1"
      },
      "source": [
        "import plotly.plotly as py\n",
        "import plotly.tools as tls\n",
        "\n",
        "from matplotlib import pylab\n",
        "import matplotlib.pyplot as plt\n",
        "names = list(D.keys())\n",
        "values = list(D.values())\n",
        "width = 1 \n",
        "for i in range(len(D)):\n",
        "    \n",
        "    pylab.bar(i,values[i],width,tick_label=names[i])\n",
        "#     plt.bar(1,values[1],tick_label=names[1])\n",
        "#     plt.bar(2,values[2],tick_label=names[2])\n",
        "    plt.xticks(range(0,i),names,fontsize=12, rotation=30)\n",
        "#plt.figure(figsize=(100,100))\n",
        "fig = plt.gcf()\n",
        "fig.set_size_inches(18.5, 10.5)\n",
        "plt.ylabel('Support Ratio',fontsize=14)\n",
        "plt.xlabel('User Profile',fontsize=14)\n",
        "plt.title('User Profile Dominance against Support Ratio',fontsize=14)\n",
        "plt.savefig('association-1.png')\n",
        "plt.show()"
      ],
      "execution_count": null,
      "outputs": [
        {
          "output_type": "display_data",
          "data": {
            "image/png": "[encoded data removed]",
            "text/plain": [
              "<Figure size 1332x756 with 1 Axes>"
            ]
          },
          "metadata": {
            "needs_background": "light"
          }
        }
      ]
    },
    {
      "cell_type": "code",
      "metadata": {
        "colab": {
          "base_uri": "https://localhost:8080/",
          "height": 385
        },
        "id": "EO5Czd08jiwa",
        "outputId": "fba58cea-0868-4fdd-8433-e282584cac5c"
      },
      "source": [
        "L=[]\n",
        "# for i in range(0,len(MB)):\n",
        "#     L.append(MB[2][2][0][2])\n",
        "for i in range(0,len(MB)):\n",
        "    L.append(MB[i][2][0][2])\n",
        "d=pd.DataFrame({'Rules':listRules,'Confidence':L})\n",
        "d.head(11)"
      ],
      "execution_count": null,
      "outputs": [
        {
          "output_type": "execute_result",
          "data": {
            "text/html": [
              "<div>\n",
              "<style scoped>\n",
              "    .dataframe tbody tr th:only-of-type {\n",
              "        vertical-align: middle;\n",
              "    }\n",
              "\n",
              "    .dataframe tbody tr th {\n",
              "        vertical-align: top;\n",
              "    }\n",
              "\n",
              "    .dataframe thead th {\n",
              "        text-align: right;\n",
              "    }\n",
              "</style>\n",
              "<table border=\"1\" class=\"dataframe\">\n",
              "  <thead>\n",
              "    <tr style=\"text-align: right;\">\n",
              "      <th></th>\n",
              "      <th>Rules</th>\n",
              "      <th>Confidence</th>\n",
              "    </tr>\n",
              "  </thead>\n",
              "  <tbody>\n",
              "    <tr>\n",
              "      <th>0</th>\n",
              "      <td>[154266841@N04, London]</td>\n",
              "      <td>1.0</td>\n",
              "    </tr>\n",
              "    <tr>\n",
              "      <th>1</th>\n",
              "      <td>[154266841@N04, Photographer]</td>\n",
              "      <td>1.0</td>\n",
              "    </tr>\n",
              "    <tr>\n",
              "      <th>2</th>\n",
              "      <td>[154266841@N04, UK]</td>\n",
              "      <td>1.0</td>\n",
              "    </tr>\n",
              "    <tr>\n",
              "      <th>3</th>\n",
              "      <td>[Accountant, 41087279@N00]</td>\n",
              "      <td>1.0</td>\n",
              "    </tr>\n",
              "    <tr>\n",
              "      <th>4</th>\n",
              "      <td>[41087279@N00, England]</td>\n",
              "      <td>1.0</td>\n",
              "    </tr>\n",
              "    <tr>\n",
              "      <th>5</th>\n",
              "      <td>[London, 41087279@N00]</td>\n",
              "      <td>1.0</td>\n",
              "    </tr>\n",
              "    <tr>\n",
              "      <th>6</th>\n",
              "      <td>[47121377@N00, England]</td>\n",
              "      <td>1.0</td>\n",
              "    </tr>\n",
              "    <tr>\n",
              "      <th>7</th>\n",
              "      <td>[47121377@N00, Nr Greenwich, London]</td>\n",
              "      <td>1.0</td>\n",
              "    </tr>\n",
              "    <tr>\n",
              "      <th>8</th>\n",
              "      <td>[47121377@N00, Professional Manager]</td>\n",
              "      <td>1.0</td>\n",
              "    </tr>\n",
              "    <tr>\n",
              "      <th>9</th>\n",
              "      <td>[Accountant, England]</td>\n",
              "      <td>1.0</td>\n",
              "    </tr>\n",
              "    <tr>\n",
              "      <th>10</th>\n",
              "      <td>[London, Accountant]</td>\n",
              "      <td>1.0</td>\n",
              "    </tr>\n",
              "  </tbody>\n",
              "</table>\n",
              "</div>"
            ],
            "text/plain": [
              "                                   Rules  Confidence\n",
              "0                [154266841@N04, London]         1.0\n",
              "1          [154266841@N04, Photographer]         1.0\n",
              "2                    [154266841@N04, UK]         1.0\n",
              "3             [Accountant, 41087279@N00]         1.0\n",
              "4                [41087279@N00, England]         1.0\n",
              "5                 [London, 41087279@N00]         1.0\n",
              "6                [47121377@N00, England]         1.0\n",
              "7   [47121377@N00, Nr Greenwich, London]         1.0\n",
              "8   [47121377@N00, Professional Manager]         1.0\n",
              "9                  [Accountant, England]         1.0\n",
              "10                  [London, Accountant]         1.0"
            ]
          },
          "metadata": {},
          "execution_count": 15
        }
      ]
    },
    {
      "cell_type": "code",
      "metadata": {
        "id": "V1D9cEPijl4e"
      },
      "source": [
        "s=set()\n",
        "import numpy as np\n",
        "for i in d.iloc[np.arange(len(d)),0]:\n",
        "    for j in i:\n",
        "        s.add(j)\n"
      ],
      "execution_count": null,
      "outputs": []
    },
    {
      "cell_type": "code",
      "metadata": {
        "id": "hCV-0hRFjsHH"
      },
      "source": [
        "D={}\n",
        "for j in s:\n",
        "    D[j]=[rows['Confidence'] for i,rows in d.iterrows() if(j in rows['Rules'])]\n"
      ],
      "execution_count": null,
      "outputs": []
    },
    {
      "cell_type": "code",
      "metadata": {
        "colab": {
          "base_uri": "https://localhost:8080/",
          "height": 721
        },
        "id": "IW5p9W_tjxlO",
        "outputId": "64f1d397-67df-423e-8ca9-9e771bc7c3cb"
      },
      "source": [
        "import plotly.plotly as py\n",
        "import plotly.tools as tls\n",
        "\n",
        "from matplotlib import pylab\n",
        "names = list(D.keys())\n",
        "values = list(D.values())\n",
        "width = 1 \n",
        "for i in range(len(D)):\n",
        "    \n",
        "    pylab.bar(i,values[i],width,tick_label=names[i])\n",
        "#     plt.bar(1,values[1],tick_label=names[1])\n",
        "#     plt.bar(2,values[2],tick_label=names[2])\n",
        "    plt.xticks(range(0,i),names,fontsize=12,rotation=30)\n",
        "#plt.figure(figsize=(100,100))\n",
        "fig = plt.gcf()\n",
        "fig.set_size_inches(18.5, 10.5)\n",
        "plt.ylabel('Confidence Values(Factors)',fontsize=14)\n",
        "plt.xlabel('User Contexts',fontsize=14)\n",
        "plt.title('User Profile Dominance against Confidence Value',fontsize=14)\n",
        "plt.savefig('Confidence.png')\n",
        "plt.show()"
      ],
      "execution_count": null,
      "outputs": [
        {
          "output_type": "display_data",
          "data": {
            "image/png": "[encoded data removed]",
            "text/plain": [
              "<Figure size 1332x756 with 1 Axes>"
            ]
          },
          "metadata": {
            "needs_background": "light"
          }
        }
      ]
    },
    {
      "cell_type": "code",
      "metadata": {
        "colab": {
          "base_uri": "https://localhost:8080/",
          "height": 721
        },
        "id": "bUemNh0ujQPB",
        "outputId": "4cb6aebb-c393-480e-c587-99748e612209"
      },
      "source": [
        "import plotly.plotly as py\n",
        "import plotly.tools as tls\n",
        "\n",
        "from matplotlib import pylab\n",
        "names = list(D.keys())\n",
        "values = list(D.values())\n",
        "width = 1 \n",
        "for i in range(len(D)):\n",
        "    \n",
        "    pylab.bar(i,values[i],width,tick_label=names[i])\n",
        "#     plt.bar(1,values[1],tick_label=names[1])\n",
        "#     plt.bar(2,values[2],tick_label=names[2])\n",
        "    plt.xticks(range(0,i),names,fontsize=12,rotation=30)\n",
        "#plt.figure(figsize=(100,100))\n",
        "fig = plt.gcf()\n",
        "fig.set_size_inches(18.5, 10.5)\n",
        "plt.ylabel('Support Ratio',fontsize=14)\n",
        "plt.xlabel('User Contexts',fontsize=14)\n",
        "plt.title('User Profile Dominance against Support Ratio',fontsize=14)\n",
        "plt.savefig('association-2.png')\n",
        "plt.show()"
      ],
      "execution_count": null,
      "outputs": [
        {
          "output_type": "display_data",
          "data": {
            "image/png": "[encoded data removed]",
            "text/plain": [
              "<Figure size 1332x756 with 1 Axes>"
            ]
          },
          "metadata": {
            "needs_background": "light"
          }
        }
      ]
    },
    {
      "cell_type": "code",
      "metadata": {
        "id": "jP9KOYxrkBCv"
      },
      "source": [
        "#Significant parameters[u_city, u_country,faves, occupation, owner ]"
      ],
      "execution_count": null,
      "outputs": []
    },
    {
      "cell_type": "code",
      "metadata": {
        "id": "Ph2tQ5Cqla2o"
      },
      "source": [
        "df = pd.read_csv('/content/drive/My Drive/Neural-CARS/london_20k.csv') "
      ],
      "execution_count": null,
      "outputs": []
    },
    {
      "cell_type": "code",
      "metadata": {
        "id": "8IlZNmfukrUG"
      },
      "source": [
        "proven= df[['u_country','faves','u_city','occupation','owner']]"
      ],
      "execution_count": null,
      "outputs": []
    },
    {
      "cell_type": "code",
      "metadata": {
        "colab": {
          "base_uri": "https://localhost:8080/",
          "height": 202
        },
        "id": "14dIusvElhOC",
        "outputId": "7e5d416e-4591-4832-cf29-eca3cd69ed7a"
      },
      "source": [
        "proven.head()"
      ],
      "execution_count": null,
      "outputs": [
        {
          "output_type": "execute_result",
          "data": {
            "text/html": [
              "<div>\n",
              "<style scoped>\n",
              "    .dataframe tbody tr th:only-of-type {\n",
              "        vertical-align: middle;\n",
              "    }\n",
              "\n",
              "    .dataframe tbody tr th {\n",
              "        vertical-align: top;\n",
              "    }\n",
              "\n",
              "    .dataframe thead th {\n",
              "        text-align: right;\n",
              "    }\n",
              "</style>\n",
              "<table border=\"1\" class=\"dataframe\">\n",
              "  <thead>\n",
              "    <tr style=\"text-align: right;\">\n",
              "      <th></th>\n",
              "      <th>u_country</th>\n",
              "      <th>faves</th>\n",
              "      <th>u_city</th>\n",
              "      <th>occupation</th>\n",
              "      <th>owner</th>\n",
              "    </tr>\n",
              "  </thead>\n",
              "  <tbody>\n",
              "    <tr>\n",
              "      <th>0</th>\n",
              "      <td>USA</td>\n",
              "      <td>0</td>\n",
              "      <td>30307</td>\n",
              "      <td>Producer/DJ</td>\n",
              "      <td>78191777@N00</td>\n",
              "    </tr>\n",
              "    <tr>\n",
              "      <th>1</th>\n",
              "      <td>England</td>\n",
              "      <td>1</td>\n",
              "      <td>London</td>\n",
              "      <td>Accountant</td>\n",
              "      <td>41087279@N00</td>\n",
              "    </tr>\n",
              "    <tr>\n",
              "      <th>2</th>\n",
              "      <td>England</td>\n",
              "      <td>0</td>\n",
              "      <td>London</td>\n",
              "      <td>Accountant</td>\n",
              "      <td>41087279@N00</td>\n",
              "    </tr>\n",
              "    <tr>\n",
              "      <th>3</th>\n",
              "      <td>NaN</td>\n",
              "      <td>5</td>\n",
              "      <td>NaN</td>\n",
              "      <td>NaN</td>\n",
              "      <td>30625665@N00</td>\n",
              "    </tr>\n",
              "    <tr>\n",
              "      <th>4</th>\n",
              "      <td>England</td>\n",
              "      <td>1</td>\n",
              "      <td>London</td>\n",
              "      <td>Accountant</td>\n",
              "      <td>41087279@N00</td>\n",
              "    </tr>\n",
              "  </tbody>\n",
              "</table>\n",
              "</div>"
            ],
            "text/plain": [
              "  u_country  faves  u_city   occupation         owner\n",
              "0       USA      0   30307  Producer/DJ  78191777@N00\n",
              "1   England      1  London   Accountant  41087279@N00\n",
              "2   England      0  London   Accountant  41087279@N00\n",
              "3       NaN      5     NaN          NaN  30625665@N00\n",
              "4   England      1  London   Accountant  41087279@N00"
            ]
          },
          "metadata": {},
          "execution_count": 23
        }
      ]
    },
    {
      "cell_type": "code",
      "metadata": {
        "id": "oUxB9dcallvg"
      },
      "source": [
        "missing_nan = proven.isna().sum()"
      ],
      "execution_count": null,
      "outputs": []
    },
    {
      "cell_type": "code",
      "metadata": {
        "colab": {
          "base_uri": "https://localhost:8080/"
        },
        "id": "XR-4zsaJlwAs",
        "outputId": "31dea6d3-cb4c-41c8-ee5f-4a1b2e34ff2d"
      },
      "source": [
        "print('TOTAL MISSINGS:', missing_nan, sep='\\n')\n"
      ],
      "execution_count": null,
      "outputs": [
        {
          "output_type": "stream",
          "name": "stdout",
          "text": [
            "TOTAL MISSINGS:\n",
            "u_country      8320\n",
            "faves             0\n",
            "u_city         8483\n",
            "occupation    10437\n",
            "owner             0\n",
            "dtype: int64\n"
          ]
        }
      ]
    },
    {
      "cell_type": "code",
      "metadata": {
        "colab": {
          "base_uri": "https://localhost:8080/"
        },
        "id": "jqOlr_Tbl3du",
        "outputId": "f63e0f0e-e2a3-47e1-d4cc-e500b0309cec"
      },
      "source": [
        "# Remove missing values\n",
        "data = proven.dropna(subset=['u_country','faves','u_city','occupation','owner'])\n",
        "new_size = len(data.index)\n",
        "print(f'{\"-\"*50}\\n{proven.shape[0]-new_size} empty rows are removed.')"
      ],
      "execution_count": null,
      "outputs": [
        {
          "output_type": "stream",
          "name": "stdout",
          "text": [
            "--------------------------------------------------\n",
            "11529 empty rows are removed.\n"
          ]
        }
      ]
    },
    {
      "cell_type": "code",
      "metadata": {
        "colab": {
          "base_uri": "https://localhost:8080/"
        },
        "id": "FOUCipsymKur",
        "outputId": "f533e34d-ce97-4fd7-f783-1d0adbd5d5e1"
      },
      "source": [
        "data.info()"
      ],
      "execution_count": null,
      "outputs": [
        {
          "output_type": "stream",
          "name": "stdout",
          "text": [
            "<class 'pandas.core.frame.DataFrame'>\n",
            "Int64Index: 8471 entries, 0 to 19996\n",
            "Data columns (total 5 columns):\n",
            " #   Column      Non-Null Count  Dtype \n",
            "---  ------      --------------  ----- \n",
            " 0   u_country   8471 non-null   object\n",
            " 1   faves       8471 non-null   int64 \n",
            " 2   u_city      8471 non-null   object\n",
            " 3   occupation  8471 non-null   object\n",
            " 4   owner       8471 non-null   object\n",
            "dtypes: int64(1), object(4)\n",
            "memory usage: 397.1+ KB\n"
          ]
        }
      ]
    },
    {
      "cell_type": "code",
      "metadata": {
        "colab": {
          "base_uri": "https://localhost:8080/"
        },
        "id": "63SbABQbjoU2",
        "outputId": "25cb1bf7-8446-40a2-922b-1010276b7b4a"
      },
      "source": [
        "data['u_city'],_=pd.factorize(data['u_city'])\n",
        "data['u_country'],_=pd.factorize(data['u_country'])\n",
        "data['occupation'],_=pd.factorize(data['occupation'])\n",
        "data['owner'],_=pd.factorize(data['owner'])"
      ],
      "execution_count": null,
      "outputs": [
        {
          "output_type": "stream",
          "name": "stderr",
          "text": [
            "/usr/local/lib/python3.7/dist-packages/ipykernel_launcher.py:1: SettingWithCopyWarning:\n",
            "\n",
            "\n",
            "A value is trying to be set on a copy of a slice from a DataFrame.\n",
            "Try using .loc[row_indexer,col_indexer] = value instead\n",
            "\n",
            "See the caveats in the documentation: https://pandas.pydata.org/pandas-docs/stable/user_guide/indexing.html#returning-a-view-versus-a-copy\n",
            "\n",
            "/usr/local/lib/python3.7/dist-packages/ipykernel_launcher.py:2: SettingWithCopyWarning:\n",
            "\n",
            "\n",
            "A value is trying to be set on a copy of a slice from a DataFrame.\n",
            "Try using .loc[row_indexer,col_indexer] = value instead\n",
            "\n",
            "See the caveats in the documentation: https://pandas.pydata.org/pandas-docs/stable/user_guide/indexing.html#returning-a-view-versus-a-copy\n",
            "\n",
            "/usr/local/lib/python3.7/dist-packages/ipykernel_launcher.py:3: SettingWithCopyWarning:\n",
            "\n",
            "\n",
            "A value is trying to be set on a copy of a slice from a DataFrame.\n",
            "Try using .loc[row_indexer,col_indexer] = value instead\n",
            "\n",
            "See the caveats in the documentation: https://pandas.pydata.org/pandas-docs/stable/user_guide/indexing.html#returning-a-view-versus-a-copy\n",
            "\n",
            "/usr/local/lib/python3.7/dist-packages/ipykernel_launcher.py:4: SettingWithCopyWarning:\n",
            "\n",
            "\n",
            "A value is trying to be set on a copy of a slice from a DataFrame.\n",
            "Try using .loc[row_indexer,col_indexer] = value instead\n",
            "\n",
            "See the caveats in the documentation: https://pandas.pydata.org/pandas-docs/stable/user_guide/indexing.html#returning-a-view-versus-a-copy\n",
            "\n"
          ]
        }
      ]
    },
    {
      "cell_type": "code",
      "metadata": {
        "colab": {
          "base_uri": "https://localhost:8080/",
          "height": 202
        },
        "id": "D38hIbncm-n5",
        "outputId": "740701ea-8934-4732-d9c5-03199a53488f"
      },
      "source": [
        "data.head()"
      ],
      "execution_count": null,
      "outputs": [
        {
          "output_type": "execute_result",
          "data": {
            "text/html": [
              "<div>\n",
              "<style scoped>\n",
              "    .dataframe tbody tr th:only-of-type {\n",
              "        vertical-align: middle;\n",
              "    }\n",
              "\n",
              "    .dataframe tbody tr th {\n",
              "        vertical-align: top;\n",
              "    }\n",
              "\n",
              "    .dataframe thead th {\n",
              "        text-align: right;\n",
              "    }\n",
              "</style>\n",
              "<table border=\"1\" class=\"dataframe\">\n",
              "  <thead>\n",
              "    <tr style=\"text-align: right;\">\n",
              "      <th></th>\n",
              "      <th>u_country</th>\n",
              "      <th>faves</th>\n",
              "      <th>u_city</th>\n",
              "      <th>occupation</th>\n",
              "      <th>owner</th>\n",
              "    </tr>\n",
              "  </thead>\n",
              "  <tbody>\n",
              "    <tr>\n",
              "      <th>0</th>\n",
              "      <td>0</td>\n",
              "      <td>0</td>\n",
              "      <td>0</td>\n",
              "      <td>0</td>\n",
              "      <td>0</td>\n",
              "    </tr>\n",
              "    <tr>\n",
              "      <th>1</th>\n",
              "      <td>1</td>\n",
              "      <td>1</td>\n",
              "      <td>1</td>\n",
              "      <td>1</td>\n",
              "      <td>1</td>\n",
              "    </tr>\n",
              "    <tr>\n",
              "      <th>2</th>\n",
              "      <td>1</td>\n",
              "      <td>0</td>\n",
              "      <td>1</td>\n",
              "      <td>1</td>\n",
              "      <td>1</td>\n",
              "    </tr>\n",
              "    <tr>\n",
              "      <th>4</th>\n",
              "      <td>1</td>\n",
              "      <td>1</td>\n",
              "      <td>1</td>\n",
              "      <td>1</td>\n",
              "      <td>1</td>\n",
              "    </tr>\n",
              "    <tr>\n",
              "      <th>6</th>\n",
              "      <td>1</td>\n",
              "      <td>3</td>\n",
              "      <td>1</td>\n",
              "      <td>1</td>\n",
              "      <td>1</td>\n",
              "    </tr>\n",
              "  </tbody>\n",
              "</table>\n",
              "</div>"
            ],
            "text/plain": [
              "   u_country  faves  u_city  occupation  owner\n",
              "0          0      0       0           0      0\n",
              "1          1      1       1           1      1\n",
              "2          1      0       1           1      1\n",
              "4          1      1       1           1      1\n",
              "6          1      3       1           1      1"
            ]
          },
          "metadata": {},
          "execution_count": 35
        }
      ]
    },
    {
      "cell_type": "code",
      "metadata": {
        "id": "oX3D0lf1nP98"
      },
      "source": [
        "from sklearn.preprocessing import StandardScaler\n",
        "scale=StandardScaler()\n",
        "context=scale.fit_transform(data)\n"
      ],
      "execution_count": null,
      "outputs": []
    },
    {
      "cell_type": "code",
      "metadata": {
        "id": "Tw6yMMiqnhD9"
      },
      "source": [
        "Y=context[:,1]"
      ],
      "execution_count": null,
      "outputs": []
    },
    {
      "cell_type": "code",
      "metadata": {
        "id": "nC4oZJeXnnaQ"
      },
      "source": [
        "X=context[:,[0,2,3,4]]\n"
      ],
      "execution_count": null,
      "outputs": []
    },
    {
      "cell_type": "code",
      "metadata": {
        "id": "bY_70HXqnsXU"
      },
      "source": [
        "from sklearn.model_selection import train_test_split"
      ],
      "execution_count": null,
      "outputs": []
    },
    {
      "cell_type": "code",
      "metadata": {
        "id": "t6KAulHnnw-j"
      },
      "source": [
        "Xtrain,Xtest,Ytrain,Ytest=train_test_split(X,Y,test_size=0.2, random_state=42)"
      ],
      "execution_count": null,
      "outputs": []
    },
    {
      "cell_type": "code",
      "metadata": {
        "id": "tK9VRiK6n8bN"
      },
      "source": [
        "from sklearn.ensemble import GradientBoostingRegressor"
      ],
      "execution_count": null,
      "outputs": []
    },
    {
      "cell_type": "code",
      "metadata": {
        "id": "s1Y59Ak6oDdM"
      },
      "source": [
        "gbr=GradientBoostingRegressor(n_estimators=30, learning_rate=0.1)"
      ],
      "execution_count": null,
      "outputs": []
    },
    {
      "cell_type": "code",
      "metadata": {
        "colab": {
          "base_uri": "https://localhost:8080/"
        },
        "id": "ifN8pObxoDoD",
        "outputId": "91cc1787-17ca-4a5c-8b77-dbb8994258ca"
      },
      "source": [
        "gbr.fit(Xtrain,Ytrain)"
      ],
      "execution_count": null,
      "outputs": [
        {
          "output_type": "execute_result",
          "data": {
            "text/plain": [
              "GradientBoostingRegressor(alpha=0.9, ccp_alpha=0.0, criterion='friedman_mse',\n",
              "                          init=None, learning_rate=0.1, loss='ls', max_depth=3,\n",
              "                          max_features=None, max_leaf_nodes=None,\n",
              "                          min_impurity_decrease=0.0, min_impurity_split=None,\n",
              "                          min_samples_leaf=1, min_samples_split=2,\n",
              "                          min_weight_fraction_leaf=0.0, n_estimators=30,\n",
              "                          n_iter_no_change=None, presort='deprecated',\n",
              "                          random_state=None, subsample=1.0, tol=0.0001,\n",
              "                          validation_fraction=0.1, verbose=0, warm_start=False)"
            ]
          },
          "metadata": {},
          "execution_count": 46
        }
      ]
    },
    {
      "cell_type": "code",
      "metadata": {
        "colab": {
          "base_uri": "https://localhost:8080/"
        },
        "id": "3hY1YQ6doDvz",
        "outputId": "1b00bc29-23f0-4ae9-c77b-b2ad3a3cec61"
      },
      "source": [
        "from sklearn.metrics import mean_squared_error\n",
        "import numpy as np\n",
        "favourate_rates = gbr.predict(Xtest)\n",
        "mse = mean_squared_error(Ytest, favourate_rates)\n",
        "rmse = np.sqrt(mse)\n",
        "rmse"
      ],
      "execution_count": null,
      "outputs": [
        {
          "output_type": "execute_result",
          "data": {
            "text/plain": [
              "0.5732195314767581"
            ]
          },
          "metadata": {},
          "execution_count": 47
        }
      ]
    },
    {
      "cell_type": "code",
      "metadata": {
        "colab": {
          "base_uri": "https://localhost:8080/"
        },
        "id": "KtaSX-DGoD3c",
        "outputId": "912e5d24-f931-411b-e677-1cd2fe7304a2"
      },
      "source": [
        "from sklearn.metrics import mean_absolute_error as mae\n",
        "#calculate MAE\n",
        "mae(Ytest, favourate_rates)"
      ],
      "execution_count": null,
      "outputs": [
        {
          "output_type": "execute_result",
          "data": {
            "text/plain": [
              "0.21629408121605392"
            ]
          },
          "metadata": {},
          "execution_count": 48
        }
      ]
    },
    {
      "cell_type": "code",
      "metadata": {
        "id": "atigpPD8oWYu"
      },
      "source": [
        "import tensorflow as tf\n",
        "from tensorflow.keras.models import Sequential\n",
        "from tensorflow.keras.layers import Dense, Dropout, LSTM, GRU, Activation, Flatten\n",
        "from tensorflow.keras.callbacks import ModelCheckpoint, EarlyStopping\n",
        "from tensorflow.keras.optimizers import Adam\n",
        "import numpy as np\n",
        "import math, time\n",
        "import matplotlib.pyplot as plt"
      ],
      "execution_count": null,
      "outputs": []
    },
    {
      "cell_type": "code",
      "metadata": {
        "id": "63Tttu3zoWbz"
      },
      "source": [
        "model = Sequential()\n",
        "# model.add(Dense(500, input_dim=4, activation= \"relu\"))\n",
        "# model.add(Dense(100, activation= \"relu\"))\n",
        "# model.add(Dense(50, activation= \"relu\"))\n",
        "# model.add(Dense(1))"
      ],
      "execution_count": null,
      "outputs": []
    },
    {
      "cell_type": "code",
      "metadata": {
        "id": "43UJKXmioWe6"
      },
      "source": [
        "model.add(Dense(15, input_dim=4, activation='relu'))\n",
        "model.add(Dense(7, activation='relu'))\n",
        "model.add(Dense(3, activation='relu'))\n",
        "model.add(Dense(1, activation='linear'))"
      ],
      "execution_count": null,
      "outputs": []
    },
    {
      "cell_type": "code",
      "metadata": {
        "colab": {
          "base_uri": "https://localhost:8080/"
        },
        "id": "Z-2ckZLzoD-T",
        "outputId": "4bd523fc-15ec-4acd-9452-88ceb8be6342"
      },
      "source": [
        "print(model.summary())"
      ],
      "execution_count": null,
      "outputs": [
        {
          "output_type": "stream",
          "name": "stdout",
          "text": [
            "Model: \"sequential\"\n",
            "_________________________________________________________________\n",
            "Layer (type)                 Output Shape              Param #   \n",
            "=================================================================\n",
            "dense (Dense)                (None, 15)                75        \n",
            "_________________________________________________________________\n",
            "dense_1 (Dense)              (None, 7)                 112       \n",
            "_________________________________________________________________\n",
            "dense_2 (Dense)              (None, 3)                 24        \n",
            "_________________________________________________________________\n",
            "dense_3 (Dense)              (None, 1)                 4         \n",
            "=================================================================\n",
            "Total params: 215\n",
            "Trainable params: 215\n",
            "Non-trainable params: 0\n",
            "_________________________________________________________________\n",
            "None\n"
          ]
        }
      ]
    },
    {
      "cell_type": "code",
      "metadata": {
        "colab": {
          "base_uri": "https://localhost:8080/"
        },
        "id": "6mtO_PfFoEFq",
        "outputId": "ae4115ef-c3d8-4fff-9ee9-eaa3d0c7d07d"
      },
      "source": [
        "optimizer = Adam(lr=0.001)"
      ],
      "execution_count": null,
      "outputs": [
        {
          "output_type": "stream",
          "name": "stderr",
          "text": [
            "/usr/local/lib/python3.7/dist-packages/keras/optimizer_v2/optimizer_v2.py:356: UserWarning:\n",
            "\n",
            "The `lr` argument is deprecated, use `learning_rate` instead.\n",
            "\n"
          ]
        }
      ]
    },
    {
      "cell_type": "code",
      "metadata": {
        "id": "D8GoOynYo3P8"
      },
      "source": [
        "model.compile(loss='mean_squared_error', optimizer=optimizer, metrics=['mse','mape'])"
      ],
      "execution_count": null,
      "outputs": []
    },
    {
      "cell_type": "code",
      "metadata": {
        "colab": {
          "base_uri": "https://localhost:8080/"
        },
        "id": "E62zFpDpo3ZP",
        "outputId": "aa74ecd3-0928-4790-e467-91c88b8d2200"
      },
      "source": [
        "history = model.fit(Xtrain,\n",
        "                    Ytrain,\n",
        "                    batch_size=22,\n",
        "                    epochs=100,\n",
        "                    validation_split=0.1,\n",
        "                    verbose=1)"
      ],
      "execution_count": null,
      "outputs": [
        {
          "output_type": "stream",
          "name": "stdout",
          "text": [
            "Epoch 1/100\n",
            "278/278 [==============================] - 4s 5ms/step - loss: 1.1400 - mse: 1.1400 - mape: 116.7243 - val_loss: 0.6091 - val_mse: 0.6091 - val_mape: 129.8320\n",
            "Epoch 2/100\n",
            "278/278 [==============================] - 1s 4ms/step - loss: 1.1023 - mse: 1.1023 - mape: 128.4837 - val_loss: 0.6049 - val_mse: 0.6049 - val_mape: 131.7150\n",
            "Epoch 3/100\n",
            "278/278 [==============================] - 1s 4ms/step - loss: 1.0619 - mse: 1.0619 - mape: 127.3839 - val_loss: 0.6072 - val_mse: 0.6072 - val_mape: 136.3537\n",
            "Epoch 4/100\n",
            "278/278 [==============================] - 1s 4ms/step - loss: 1.0007 - mse: 1.0007 - mape: 130.2100 - val_loss: 0.6169 - val_mse: 0.6169 - val_mape: 149.7574\n",
            "Epoch 5/100\n",
            "278/278 [==============================] - 1s 4ms/step - loss: 0.9165 - mse: 0.9165 - mape: 136.3674 - val_loss: 0.6145 - val_mse: 0.6145 - val_mape: 129.5906\n",
            "Epoch 6/100\n",
            "278/278 [==============================] - 1s 4ms/step - loss: 0.8181 - mse: 0.8181 - mape: 134.4903 - val_loss: 0.6361 - val_mse: 0.6361 - val_mape: 121.5535\n",
            "Epoch 7/100\n",
            "278/278 [==============================] - 1s 4ms/step - loss: 0.7533 - mse: 0.7533 - mape: 123.5127 - val_loss: 0.6816 - val_mse: 0.6816 - val_mape: 159.2294\n",
            "Epoch 8/100\n",
            "278/278 [==============================] - 1s 4ms/step - loss: 0.7144 - mse: 0.7144 - mape: 128.9573 - val_loss: 0.7070 - val_mse: 0.7070 - val_mape: 161.1398\n",
            "Epoch 9/100\n",
            "278/278 [==============================] - 1s 4ms/step - loss: 0.6921 - mse: 0.6921 - mape: 123.1875 - val_loss: 0.6617 - val_mse: 0.6617 - val_mape: 122.5230\n",
            "Epoch 10/100\n",
            "278/278 [==============================] - 1s 4ms/step - loss: 0.6813 - mse: 0.6813 - mape: 116.8136 - val_loss: 0.6783 - val_mse: 0.6783 - val_mape: 145.5496\n",
            "Epoch 11/100\n",
            "278/278 [==============================] - 1s 4ms/step - loss: 0.6688 - mse: 0.6688 - mape: 117.5671 - val_loss: 0.6909 - val_mse: 0.6909 - val_mape: 161.5585\n",
            "Epoch 12/100\n",
            "278/278 [==============================] - 1s 4ms/step - loss: 0.6623 - mse: 0.6623 - mape: 119.9602 - val_loss: 0.6834 - val_mse: 0.6834 - val_mape: 164.8400\n",
            "Epoch 13/100\n",
            "278/278 [==============================] - 1s 4ms/step - loss: 0.6501 - mse: 0.6501 - mape: 113.8683 - val_loss: 0.6718 - val_mse: 0.6718 - val_mape: 148.0343\n",
            "Epoch 14/100\n",
            "278/278 [==============================] - 1s 4ms/step - loss: 0.6434 - mse: 0.6434 - mape: 117.8252 - val_loss: 0.7018 - val_mse: 0.7018 - val_mape: 180.5049\n",
            "Epoch 15/100\n",
            "278/278 [==============================] - 1s 4ms/step - loss: 0.6443 - mse: 0.6443 - mape: 118.5820 - val_loss: 0.6659 - val_mse: 0.6659 - val_mape: 151.1535\n",
            "Epoch 16/100\n",
            "278/278 [==============================] - 1s 4ms/step - loss: 0.6315 - mse: 0.6315 - mape: 120.8868 - val_loss: 0.6588 - val_mse: 0.6588 - val_mape: 145.7670\n",
            "Epoch 17/100\n",
            "278/278 [==============================] - 1s 4ms/step - loss: 0.6317 - mse: 0.6317 - mape: 120.1595 - val_loss: 0.6453 - val_mse: 0.6453 - val_mape: 129.4279\n",
            "Epoch 18/100\n",
            "278/278 [==============================] - 1s 4ms/step - loss: 0.6332 - mse: 0.6332 - mape: 115.3272 - val_loss: 0.6566 - val_mse: 0.6566 - val_mape: 130.7792\n",
            "Epoch 19/100\n",
            "278/278 [==============================] - 1s 4ms/step - loss: 0.6255 - mse: 0.6255 - mape: 119.0901 - val_loss: 0.6518 - val_mse: 0.6518 - val_mape: 138.8785\n",
            "Epoch 20/100\n",
            "278/278 [==============================] - 1s 4ms/step - loss: 0.6224 - mse: 0.6224 - mape: 116.2035 - val_loss: 0.6519 - val_mse: 0.6519 - val_mape: 132.1853\n",
            "Epoch 21/100\n",
            "278/278 [==============================] - 1s 4ms/step - loss: 0.6212 - mse: 0.6212 - mape: 119.1589 - val_loss: 0.6395 - val_mse: 0.6395 - val_mape: 125.3420\n",
            "Epoch 22/100\n",
            "278/278 [==============================] - 1s 4ms/step - loss: 0.6192 - mse: 0.6192 - mape: 115.0912 - val_loss: 0.6428 - val_mse: 0.6428 - val_mape: 128.3887\n",
            "Epoch 23/100\n",
            "278/278 [==============================] - 1s 4ms/step - loss: 0.6144 - mse: 0.6144 - mape: 113.7942 - val_loss: 0.6391 - val_mse: 0.6391 - val_mape: 129.9809\n",
            "Epoch 24/100\n",
            "278/278 [==============================] - 1s 4ms/step - loss: 0.6121 - mse: 0.6121 - mape: 107.5293 - val_loss: 0.6397 - val_mse: 0.6397 - val_mape: 139.5628\n",
            "Epoch 25/100\n",
            "278/278 [==============================] - 1s 4ms/step - loss: 0.6098 - mse: 0.6098 - mape: 111.5022 - val_loss: 0.6467 - val_mse: 0.6467 - val_mape: 135.0166\n",
            "Epoch 26/100\n",
            "278/278 [==============================] - 1s 4ms/step - loss: 0.6073 - mse: 0.6073 - mape: 112.0101 - val_loss: 0.6215 - val_mse: 0.6215 - val_mape: 135.0551\n",
            "Epoch 27/100\n",
            "278/278 [==============================] - 1s 4ms/step - loss: 0.6070 - mse: 0.6070 - mape: 109.3069 - val_loss: 0.6276 - val_mse: 0.6276 - val_mape: 128.9653\n",
            "Epoch 28/100\n",
            "278/278 [==============================] - 1s 4ms/step - loss: 0.6069 - mse: 0.6069 - mape: 111.2171 - val_loss: 0.6554 - val_mse: 0.6554 - val_mape: 145.3983\n",
            "Epoch 29/100\n",
            "278/278 [==============================] - 1s 4ms/step - loss: 0.6031 - mse: 0.6031 - mape: 110.2174 - val_loss: 0.6229 - val_mse: 0.6229 - val_mape: 138.6128\n",
            "Epoch 30/100\n",
            "278/278 [==============================] - 1s 4ms/step - loss: 0.6023 - mse: 0.6023 - mape: 109.2831 - val_loss: 0.6213 - val_mse: 0.6213 - val_mape: 148.2050\n",
            "Epoch 31/100\n",
            "278/278 [==============================] - 1s 4ms/step - loss: 0.6004 - mse: 0.6004 - mape: 112.5896 - val_loss: 0.6345 - val_mse: 0.6345 - val_mape: 136.2291\n",
            "Epoch 32/100\n",
            "278/278 [==============================] - 1s 4ms/step - loss: 0.5963 - mse: 0.5963 - mape: 107.3879 - val_loss: 0.6255 - val_mse: 0.6255 - val_mape: 142.4654\n",
            "Epoch 33/100\n",
            "278/278 [==============================] - 1s 4ms/step - loss: 0.5935 - mse: 0.5935 - mape: 110.1603 - val_loss: 0.6548 - val_mse: 0.6548 - val_mape: 144.3250\n",
            "Epoch 34/100\n",
            "278/278 [==============================] - 1s 4ms/step - loss: 0.5961 - mse: 0.5961 - mape: 113.9937 - val_loss: 0.6119 - val_mse: 0.6119 - val_mape: 126.9062\n",
            "Epoch 35/100\n",
            "278/278 [==============================] - 1s 4ms/step - loss: 0.5954 - mse: 0.5954 - mape: 106.9515 - val_loss: 0.6190 - val_mse: 0.6190 - val_mape: 134.5483\n",
            "Epoch 36/100\n",
            "278/278 [==============================] - 1s 4ms/step - loss: 0.5892 - mse: 0.5892 - mape: 105.0994 - val_loss: 0.5971 - val_mse: 0.5971 - val_mape: 127.9891\n",
            "Epoch 37/100\n",
            "278/278 [==============================] - 1s 4ms/step - loss: 0.5898 - mse: 0.5898 - mape: 109.0669 - val_loss: 0.6263 - val_mse: 0.6263 - val_mape: 147.1674\n",
            "Epoch 38/100\n",
            "278/278 [==============================] - 1s 4ms/step - loss: 0.5871 - mse: 0.5871 - mape: 109.0574 - val_loss: 0.6008 - val_mse: 0.6008 - val_mape: 129.7505\n",
            "Epoch 39/100\n",
            "278/278 [==============================] - 1s 4ms/step - loss: 0.5877 - mse: 0.5877 - mape: 110.3257 - val_loss: 0.6085 - val_mse: 0.6085 - val_mape: 124.4017\n",
            "Epoch 40/100\n",
            "278/278 [==============================] - 1s 4ms/step - loss: 0.5847 - mse: 0.5847 - mape: 107.9888 - val_loss: 0.6177 - val_mse: 0.6177 - val_mape: 142.2729\n",
            "Epoch 41/100\n",
            "278/278 [==============================] - 1s 4ms/step - loss: 0.5864 - mse: 0.5864 - mape: 105.8756 - val_loss: 0.6016 - val_mse: 0.6016 - val_mape: 137.5469\n",
            "Epoch 42/100\n",
            "278/278 [==============================] - 1s 4ms/step - loss: 0.5854 - mse: 0.5854 - mape: 109.3677 - val_loss: 0.6145 - val_mse: 0.6145 - val_mape: 133.0093\n",
            "Epoch 43/100\n",
            "278/278 [==============================] - 1s 4ms/step - loss: 0.5785 - mse: 0.5785 - mape: 110.0058 - val_loss: 0.5983 - val_mse: 0.5983 - val_mape: 121.9117\n",
            "Epoch 44/100\n",
            "278/278 [==============================] - 1s 4ms/step - loss: 0.5877 - mse: 0.5877 - mape: 107.6339 - val_loss: 0.6021 - val_mse: 0.6021 - val_mape: 131.1180\n",
            "Epoch 45/100\n",
            "278/278 [==============================] - 1s 4ms/step - loss: 0.5803 - mse: 0.5803 - mape: 107.2634 - val_loss: 0.6103 - val_mse: 0.6103 - val_mape: 139.2948\n",
            "Epoch 46/100\n",
            "278/278 [==============================] - 1s 4ms/step - loss: 0.5795 - mse: 0.5795 - mape: 106.8062 - val_loss: 0.6053 - val_mse: 0.6053 - val_mape: 133.9824\n",
            "Epoch 47/100\n",
            "278/278 [==============================] - 1s 4ms/step - loss: 0.5807 - mse: 0.5807 - mape: 108.3728 - val_loss: 0.6251 - val_mse: 0.6251 - val_mape: 155.0578\n",
            "Epoch 48/100\n",
            "278/278 [==============================] - 1s 4ms/step - loss: 0.5778 - mse: 0.5778 - mape: 104.9936 - val_loss: 0.6116 - val_mse: 0.6116 - val_mape: 138.6976\n",
            "Epoch 49/100\n",
            "278/278 [==============================] - 1s 4ms/step - loss: 0.5730 - mse: 0.5730 - mape: 104.7249 - val_loss: 0.6147 - val_mse: 0.6147 - val_mape: 145.0063\n",
            "Epoch 50/100\n",
            "278/278 [==============================] - 1s 4ms/step - loss: 0.5751 - mse: 0.5751 - mape: 106.4889 - val_loss: 0.5967 - val_mse: 0.5967 - val_mape: 131.6146\n",
            "Epoch 51/100\n",
            "278/278 [==============================] - 1s 4ms/step - loss: 0.5747 - mse: 0.5747 - mape: 107.6955 - val_loss: 0.6026 - val_mse: 0.6026 - val_mape: 130.5544\n",
            "Epoch 52/100\n",
            "278/278 [==============================] - 1s 4ms/step - loss: 0.5716 - mse: 0.5716 - mape: 104.0616 - val_loss: 0.6108 - val_mse: 0.6108 - val_mape: 138.0481\n",
            "Epoch 53/100\n",
            "278/278 [==============================] - 1s 4ms/step - loss: 0.5742 - mse: 0.5742 - mape: 107.7652 - val_loss: 0.6061 - val_mse: 0.6061 - val_mape: 130.9241\n",
            "Epoch 54/100\n",
            "278/278 [==============================] - 1s 4ms/step - loss: 0.5689 - mse: 0.5689 - mape: 103.6972 - val_loss: 0.6711 - val_mse: 0.6711 - val_mape: 180.7274\n",
            "Epoch 55/100\n",
            "278/278 [==============================] - 1s 4ms/step - loss: 0.5708 - mse: 0.5708 - mape: 108.6786 - val_loss: 0.6022 - val_mse: 0.6022 - val_mape: 129.6752\n",
            "Epoch 56/100\n",
            "278/278 [==============================] - 1s 4ms/step - loss: 0.5687 - mse: 0.5687 - mape: 103.0818 - val_loss: 0.6137 - val_mse: 0.6137 - val_mape: 146.2891\n",
            "Epoch 57/100\n",
            "278/278 [==============================] - 1s 4ms/step - loss: 0.5727 - mse: 0.5727 - mape: 104.9122 - val_loss: 0.6019 - val_mse: 0.6019 - val_mape: 150.8464\n",
            "Epoch 58/100\n",
            "278/278 [==============================] - 1s 4ms/step - loss: 0.5668 - mse: 0.5668 - mape: 104.2563 - val_loss: 0.6194 - val_mse: 0.6194 - val_mape: 164.9684\n",
            "Epoch 59/100\n",
            "278/278 [==============================] - 1s 4ms/step - loss: 0.5718 - mse: 0.5718 - mape: 107.2037 - val_loss: 0.5966 - val_mse: 0.5966 - val_mape: 128.0817\n",
            "Epoch 60/100\n",
            "278/278 [==============================] - 1s 4ms/step - loss: 0.5672 - mse: 0.5672 - mape: 105.2517 - val_loss: 0.6324 - val_mse: 0.6324 - val_mape: 156.6776\n",
            "Epoch 61/100\n",
            "278/278 [==============================] - 1s 4ms/step - loss: 0.5604 - mse: 0.5604 - mape: 105.5469 - val_loss: 0.6226 - val_mse: 0.6226 - val_mape: 132.9234\n",
            "Epoch 62/100\n",
            "278/278 [==============================] - 1s 4ms/step - loss: 0.5649 - mse: 0.5649 - mape: 103.7202 - val_loss: 0.6222 - val_mse: 0.6222 - val_mape: 151.6677\n",
            "Epoch 63/100\n",
            "278/278 [==============================] - 1s 4ms/step - loss: 0.5647 - mse: 0.5647 - mape: 105.8518 - val_loss: 0.5883 - val_mse: 0.5883 - val_mape: 119.5322\n",
            "Epoch 64/100\n",
            "278/278 [==============================] - 1s 4ms/step - loss: 0.5642 - mse: 0.5642 - mape: 103.4176 - val_loss: 0.6003 - val_mse: 0.6003 - val_mape: 129.9567\n",
            "Epoch 65/100\n",
            "278/278 [==============================] - 1s 4ms/step - loss: 0.5625 - mse: 0.5625 - mape: 105.0791 - val_loss: 0.6078 - val_mse: 0.6078 - val_mape: 147.8693\n",
            "Epoch 66/100\n",
            "278/278 [==============================] - 1s 4ms/step - loss: 0.5610 - mse: 0.5610 - mape: 108.1344 - val_loss: 0.6254 - val_mse: 0.6254 - val_mape: 150.6740\n",
            "Epoch 67/100\n",
            "278/278 [==============================] - 1s 4ms/step - loss: 0.5609 - mse: 0.5609 - mape: 105.0978 - val_loss: 0.6009 - val_mse: 0.6009 - val_mape: 145.5813\n",
            "Epoch 68/100\n",
            "278/278 [==============================] - 1s 4ms/step - loss: 0.5610 - mse: 0.5610 - mape: 107.6592 - val_loss: 0.6064 - val_mse: 0.6064 - val_mape: 145.9886\n",
            "Epoch 69/100\n",
            "278/278 [==============================] - 1s 4ms/step - loss: 0.5607 - mse: 0.5607 - mape: 107.9332 - val_loss: 0.5978 - val_mse: 0.5978 - val_mape: 136.1436\n",
            "Epoch 70/100\n",
            "278/278 [==============================] - 1s 4ms/step - loss: 0.5591 - mse: 0.5591 - mape: 107.8791 - val_loss: 0.5940 - val_mse: 0.5940 - val_mape: 119.2529\n",
            "Epoch 71/100\n",
            "278/278 [==============================] - 1s 4ms/step - loss: 0.5621 - mse: 0.5621 - mape: 108.3128 - val_loss: 0.6037 - val_mse: 0.6037 - val_mape: 136.1498\n",
            "Epoch 72/100\n",
            "278/278 [==============================] - 1s 4ms/step - loss: 0.5555 - mse: 0.5555 - mape: 107.9632 - val_loss: 0.5941 - val_mse: 0.5941 - val_mape: 124.7201\n",
            "Epoch 73/100\n",
            "278/278 [==============================] - 1s 4ms/step - loss: 0.5597 - mse: 0.5597 - mape: 109.2750 - val_loss: 0.6157 - val_mse: 0.6157 - val_mape: 134.2912\n",
            "Epoch 74/100\n",
            "278/278 [==============================] - 1s 4ms/step - loss: 0.5585 - mse: 0.5585 - mape: 105.7227 - val_loss: 0.5923 - val_mse: 0.5923 - val_mape: 122.8572\n",
            "Epoch 75/100\n",
            "278/278 [==============================] - 1s 4ms/step - loss: 0.5514 - mse: 0.5514 - mape: 107.5713 - val_loss: 0.6130 - val_mse: 0.6130 - val_mape: 162.9854\n",
            "Epoch 76/100\n",
            "278/278 [==============================] - 1s 4ms/step - loss: 0.5598 - mse: 0.5598 - mape: 112.7606 - val_loss: 0.6106 - val_mse: 0.6106 - val_mape: 135.0991\n",
            "Epoch 77/100\n",
            "278/278 [==============================] - 1s 4ms/step - loss: 0.5519 - mse: 0.5519 - mape: 106.7951 - val_loss: 0.6145 - val_mse: 0.6145 - val_mape: 168.4690\n",
            "Epoch 78/100\n",
            "278/278 [==============================] - 1s 4ms/step - loss: 0.5597 - mse: 0.5597 - mape: 115.5832 - val_loss: 0.5828 - val_mse: 0.5828 - val_mape: 137.0894\n",
            "Epoch 79/100\n",
            "278/278 [==============================] - 1s 4ms/step - loss: 0.5484 - mse: 0.5484 - mape: 105.4075 - val_loss: 0.6242 - val_mse: 0.6242 - val_mape: 147.3941\n",
            "Epoch 80/100\n",
            "278/278 [==============================] - 1s 4ms/step - loss: 0.5477 - mse: 0.5477 - mape: 108.2408 - val_loss: 0.6017 - val_mse: 0.6017 - val_mape: 141.7832\n",
            "Epoch 81/100\n",
            "278/278 [==============================] - 1s 4ms/step - loss: 0.5533 - mse: 0.5533 - mape: 111.6854 - val_loss: 0.5838 - val_mse: 0.5838 - val_mape: 123.3333\n",
            "Epoch 82/100\n",
            "278/278 [==============================] - 1s 4ms/step - loss: 0.5547 - mse: 0.5547 - mape: 108.6707 - val_loss: 0.5924 - val_mse: 0.5924 - val_mape: 130.1515\n",
            "Epoch 83/100\n",
            "278/278 [==============================] - 1s 4ms/step - loss: 0.5501 - mse: 0.5501 - mape: 106.5263 - val_loss: 0.5978 - val_mse: 0.5978 - val_mape: 125.9763\n",
            "Epoch 84/100\n",
            "278/278 [==============================] - 1s 4ms/step - loss: 0.5501 - mse: 0.5501 - mape: 110.7898 - val_loss: 0.5966 - val_mse: 0.5966 - val_mape: 119.7323\n",
            "Epoch 85/100\n",
            "278/278 [==============================] - 1s 4ms/step - loss: 0.5466 - mse: 0.5466 - mape: 111.7528 - val_loss: 0.6395 - val_mse: 0.6395 - val_mape: 148.2276\n",
            "Epoch 86/100\n",
            "278/278 [==============================] - 1s 4ms/step - loss: 0.5444 - mse: 0.5444 - mape: 108.9625 - val_loss: 0.5793 - val_mse: 0.5793 - val_mape: 119.5519\n",
            "Epoch 87/100\n",
            "278/278 [==============================] - 1s 4ms/step - loss: 0.5440 - mse: 0.5440 - mape: 108.9252 - val_loss: 0.5875 - val_mse: 0.5875 - val_mape: 131.1519\n",
            "Epoch 88/100\n",
            "278/278 [==============================] - 1s 4ms/step - loss: 0.5405 - mse: 0.5405 - mape: 106.9992 - val_loss: 0.6215 - val_mse: 0.6215 - val_mape: 178.5521\n",
            "Epoch 89/100\n",
            "278/278 [==============================] - 1s 4ms/step - loss: 0.5509 - mse: 0.5509 - mape: 110.9710 - val_loss: 0.5967 - val_mse: 0.5967 - val_mape: 138.7101\n",
            "Epoch 90/100\n",
            "278/278 [==============================] - 1s 4ms/step - loss: 0.5447 - mse: 0.5447 - mape: 110.6197 - val_loss: 0.6221 - val_mse: 0.6221 - val_mape: 147.1677\n",
            "Epoch 91/100\n",
            "278/278 [==============================] - 1s 4ms/step - loss: 0.5384 - mse: 0.5384 - mape: 108.1355 - val_loss: 0.5718 - val_mse: 0.5718 - val_mape: 125.0163\n",
            "Epoch 92/100\n",
            "278/278 [==============================] - 1s 4ms/step - loss: 0.5418 - mse: 0.5418 - mape: 108.9230 - val_loss: 0.5830 - val_mse: 0.5830 - val_mape: 125.6145\n",
            "Epoch 93/100\n",
            "278/278 [==============================] - 1s 4ms/step - loss: 0.5442 - mse: 0.5442 - mape: 110.6569 - val_loss: 0.6227 - val_mse: 0.6227 - val_mape: 146.4436\n",
            "Epoch 94/100\n",
            "278/278 [==============================] - 1s 4ms/step - loss: 0.5354 - mse: 0.5354 - mape: 111.0124 - val_loss: 0.5970 - val_mse: 0.5970 - val_mape: 140.3985\n",
            "Epoch 95/100\n",
            "278/278 [==============================] - 1s 4ms/step - loss: 0.5468 - mse: 0.5468 - mape: 112.4239 - val_loss: 0.5941 - val_mse: 0.5941 - val_mape: 150.8115\n",
            "Epoch 96/100\n",
            "278/278 [==============================] - 1s 4ms/step - loss: 0.5383 - mse: 0.5383 - mape: 107.8054 - val_loss: 0.6003 - val_mse: 0.6003 - val_mape: 155.9055\n",
            "Epoch 97/100\n",
            "278/278 [==============================] - 1s 4ms/step - loss: 0.5415 - mse: 0.5415 - mape: 115.7292 - val_loss: 0.6038 - val_mse: 0.6038 - val_mape: 126.8125\n",
            "Epoch 98/100\n",
            "278/278 [==============================] - 1s 4ms/step - loss: 0.5401 - mse: 0.5401 - mape: 108.4826 - val_loss: 0.6064 - val_mse: 0.6064 - val_mape: 151.0580\n",
            "Epoch 99/100\n",
            "278/278 [==============================] - 1s 4ms/step - loss: 0.5380 - mse: 0.5380 - mape: 114.6783 - val_loss: 0.5929 - val_mse: 0.5929 - val_mape: 135.5784\n",
            "Epoch 100/100\n",
            "278/278 [==============================] - 1s 4ms/step - loss: 0.5353 - mse: 0.5353 - mape: 110.9367 - val_loss: 0.6093 - val_mse: 0.6093 - val_mape: 170.3852\n"
          ]
        }
      ]
    },
    {
      "cell_type": "code",
      "metadata": {
        "colab": {
          "base_uri": "https://localhost:8080/"
        },
        "id": "lxQPd7_bpFDd",
        "outputId": "708117a3-2fcc-41a4-9796-1cfdff2c8170"
      },
      "source": [
        "pred_train= model.predict(Xtrain)\n",
        "print(np.sqrt(mean_squared_error(Ytrain,pred_train)))\n",
        "\n",
        "pred= model.predict(Xtest)\n",
        "print(np.sqrt(mean_squared_error(Ytest,pred))) "
      ],
      "execution_count": null,
      "outputs": [
        {
          "output_type": "stream",
          "name": "stdout",
          "text": [
            "0.7382232436973167\n",
            "0.610319118762155\n"
          ]
        }
      ]
    },
    {
      "cell_type": "code",
      "metadata": {
        "colab": {
          "base_uri": "https://localhost:8080/"
        },
        "id": "uTbo5jhWpFI8",
        "outputId": "43eeb540-8b8e-44c4-e03b-3067f90e02aa"
      },
      "source": [
        "mae(Ytest, pred)"
      ],
      "execution_count": null,
      "outputs": [
        {
          "output_type": "execute_result",
          "data": {
            "text/plain": [
              "0.26318867434211485"
            ]
          },
          "metadata": {},
          "execution_count": 57
        }
      ]
    },
    {
      "cell_type": "code",
      "metadata": {
        "id": "QZ2gnt-1oEM2"
      },
      "source": [
        "def plot_loss(history):\n",
        "  plt.plot(history.history['mse'], label='mse')\n",
        "  plt.plot(history.history['val_loss'], label='val_loss')\n",
        "  plt.ylim([0, 10])\n",
        "  plt.xlabel('Epoch')\n",
        "  plt.ylabel('Error [MPG]')\n",
        "  plt.legend()\n",
        "  plt.grid(True)"
      ],
      "execution_count": null,
      "outputs": []
    },
    {
      "cell_type": "code",
      "metadata": {
        "colab": {
          "base_uri": "https://localhost:8080/",
          "height": 283
        },
        "id": "oe4yuCNkoEUj",
        "outputId": "c784f7cb-cc97-40ff-8689-911ff33891de"
      },
      "source": [
        "plot_loss(history)"
      ],
      "execution_count": null,
      "outputs": [
        {
          "output_type": "display_data",
          "data": {
            "image/png": "[encoded data removed]",
            "text/plain": [
              "<Figure size 432x288 with 1 Axes>"
            ]
          },
          "metadata": {
            "needs_background": "light"
          }
        }
      ]
    },
    {
      "cell_type": "code",
      "metadata": {
        "id": "xhBPL82ZpjxI"
      },
      "source": [
        ""
      ],
      "execution_count": null,
      "outputs": []
    },
    {
      "cell_type": "code",
      "metadata": {
        "id": "1AEMOMiipj47"
      },
      "source": [
        ""
      ],
      "execution_count": null,
      "outputs": []
    },
    {
      "cell_type": "code",
      "metadata": {
        "id": "Lu7nuDk-pkB4"
      },
      "source": [
        ""
      ],
      "execution_count": null,
      "outputs": []
    },
    {
      "cell_type": "code",
      "metadata": {
        "id": "xa0C4eQCj0-b"
      },
      "source": [
        "data=df[['gender','tags','faves','u_city','lat','lon']]"
      ],
      "execution_count": null,
      "outputs": []
    },
    {
      "cell_type": "code",
      "metadata": {
        "colab": {
          "base_uri": "https://localhost:8080/",
          "height": 204
        },
        "id": "lZE_r-jukDej",
        "outputId": "4b2791c8-4f48-46eb-b15d-f9f6ab4bbc83"
      },
      "source": [
        "data.head()"
      ],
      "execution_count": null,
      "outputs": [
        {
          "output_type": "execute_result",
          "data": {
            "text/html": [
              "<div>\n",
              "<style scoped>\n",
              "    .dataframe tbody tr th:only-of-type {\n",
              "        vertical-align: middle;\n",
              "    }\n",
              "\n",
              "    .dataframe tbody tr th {\n",
              "        vertical-align: top;\n",
              "    }\n",
              "\n",
              "    .dataframe thead th {\n",
              "        text-align: right;\n",
              "    }\n",
              "</style>\n",
              "<table border=\"1\" class=\"dataframe\">\n",
              "  <thead>\n",
              "    <tr style=\"text-align: right;\">\n",
              "      <th></th>\n",
              "      <th>gender</th>\n",
              "      <th>tags</th>\n",
              "      <th>faves</th>\n",
              "      <th>u_city</th>\n",
              "      <th>lat</th>\n",
              "      <th>lon</th>\n",
              "    </tr>\n",
              "  </thead>\n",
              "  <tbody>\n",
              "    <tr>\n",
              "      <th>0</th>\n",
              "      <td>1.0</td>\n",
              "      <td>clapham, london, england, ukgarage, dubstep, e...</td>\n",
              "      <td>0</td>\n",
              "      <td>30307</td>\n",
              "      <td>51.465163</td>\n",
              "      <td>-0.129085</td>\n",
              "    </tr>\n",
              "    <tr>\n",
              "      <th>1</th>\n",
              "      <td>1.0</td>\n",
              "      <td>chyna, whyne, from, jamaica, live, charlie, wr...</td>\n",
              "      <td>1</td>\n",
              "      <td>London</td>\n",
              "      <td>51.527672</td>\n",
              "      <td>-0.083648</td>\n",
              "    </tr>\n",
              "    <tr>\n",
              "      <th>2</th>\n",
              "      <td>1.0</td>\n",
              "      <td>flirt, 69, birthday, party, charlie, wrights, ...</td>\n",
              "      <td>0</td>\n",
              "      <td>London</td>\n",
              "      <td>51.527672</td>\n",
              "      <td>-0.083648</td>\n",
              "    </tr>\n",
              "    <tr>\n",
              "      <th>3</th>\n",
              "      <td>1.0</td>\n",
              "      <td>bank, ex, cash, point, atm, brick, stone, lond...</td>\n",
              "      <td>5</td>\n",
              "      <td>NaN</td>\n",
              "      <td>51.513042</td>\n",
              "      <td>-0.089221</td>\n",
              "    </tr>\n",
              "    <tr>\n",
              "      <th>4</th>\n",
              "      <td>1.0</td>\n",
              "      <td>ray, estaire, jazz, ensemble, the, dominant, 7...</td>\n",
              "      <td>1</td>\n",
              "      <td>London</td>\n",
              "      <td>51.527672</td>\n",
              "      <td>-0.083648</td>\n",
              "    </tr>\n",
              "  </tbody>\n",
              "</table>\n",
              "</div>"
            ],
            "text/plain": [
              "   gender  ...       lon\n",
              "0     1.0  ... -0.129085\n",
              "1     1.0  ... -0.083648\n",
              "2     1.0  ... -0.083648\n",
              "3     1.0  ... -0.089221\n",
              "4     1.0  ... -0.083648\n",
              "\n",
              "[5 rows x 6 columns]"
            ]
          },
          "metadata": {},
          "execution_count": 10
        }
      ]
    },
    {
      "cell_type": "code",
      "metadata": {
        "colab": {
          "base_uri": "https://localhost:8080/"
        },
        "id": "bfcX9Aikp8Xj",
        "outputId": "2cf9b33a-0c54-4e80-94fa-de7943f9c917"
      },
      "source": [
        "# Find total missing values\n",
        "data = df[['gender','tags','faves','u_city','lat','lon']]\n",
        "missing_nan = data.isna().sum()\n",
        "\n",
        "print('TOTAL MISSINGS:', missing_nan, sep='\\n')\n",
        "\n",
        "# Remove missing values\n",
        "data = data.dropna(subset=['lat','lon','gender','tags','u_city'])\n",
        "new_size = len(data.index)\n",
        "print(f'{\"-\"*50}\\n{df.shape[0]-new_size} empty rows are removed.')"
      ],
      "execution_count": null,
      "outputs": [
        {
          "output_type": "stream",
          "name": "stdout",
          "text": [
            "TOTAL MISSINGS:\n",
            "gender      14\n",
            "tags      4905\n",
            "faves        0\n",
            "u_city    8483\n",
            "lat          0\n",
            "lon          0\n",
            "dtype: int64\n",
            "--------------------------------------------------\n",
            "11302 empty rows are removed.\n"
          ]
        }
      ]
    },
    {
      "cell_type": "code",
      "metadata": {
        "colab": {
          "base_uri": "https://localhost:8080/"
        },
        "id": "bPNJEqKDqPP7",
        "outputId": "5a7bc0d1-60ea-4c60-c99b-758b7f47e18a"
      },
      "source": [
        "data.info()"
      ],
      "execution_count": null,
      "outputs": [
        {
          "output_type": "stream",
          "name": "stdout",
          "text": [
            "<class 'pandas.core.frame.DataFrame'>\n",
            "Int64Index: 8698 entries, 0 to 19996\n",
            "Data columns (total 6 columns):\n",
            " #   Column  Non-Null Count  Dtype  \n",
            "---  ------  --------------  -----  \n",
            " 0   gender  8698 non-null   float64\n",
            " 1   tags    8698 non-null   object \n",
            " 2   faves   8698 non-null   int64  \n",
            " 3   u_city  8698 non-null   object \n",
            " 4   lat     8698 non-null   float64\n",
            " 5   lon     8698 non-null   float64\n",
            "dtypes: float64(3), int64(1), object(2)\n",
            "memory usage: 475.7+ KB\n"
          ]
        }
      ]
    },
    {
      "cell_type": "code",
      "metadata": {
        "colab": {
          "base_uri": "https://localhost:8080/",
          "height": 204
        },
        "id": "JMl1OVLOrHvR",
        "outputId": "1ddd2df8-b4f5-430b-ba79-306d386ef77c"
      },
      "source": [
        "data.head()"
      ],
      "execution_count": null,
      "outputs": [
        {
          "output_type": "execute_result",
          "data": {
            "text/html": [
              "<div>\n",
              "<style scoped>\n",
              "    .dataframe tbody tr th:only-of-type {\n",
              "        vertical-align: middle;\n",
              "    }\n",
              "\n",
              "    .dataframe tbody tr th {\n",
              "        vertical-align: top;\n",
              "    }\n",
              "\n",
              "    .dataframe thead th {\n",
              "        text-align: right;\n",
              "    }\n",
              "</style>\n",
              "<table border=\"1\" class=\"dataframe\">\n",
              "  <thead>\n",
              "    <tr style=\"text-align: right;\">\n",
              "      <th></th>\n",
              "      <th>gender</th>\n",
              "      <th>tags</th>\n",
              "      <th>faves</th>\n",
              "      <th>u_city</th>\n",
              "      <th>lat</th>\n",
              "      <th>lon</th>\n",
              "    </tr>\n",
              "  </thead>\n",
              "  <tbody>\n",
              "    <tr>\n",
              "      <th>0</th>\n",
              "      <td>1.0</td>\n",
              "      <td>clapham, london, england, ukgarage, dubstep, e...</td>\n",
              "      <td>0</td>\n",
              "      <td>30307</td>\n",
              "      <td>51.465163</td>\n",
              "      <td>-0.129085</td>\n",
              "    </tr>\n",
              "    <tr>\n",
              "      <th>1</th>\n",
              "      <td>1.0</td>\n",
              "      <td>chyna, whyne, from, jamaica, live, charlie, wr...</td>\n",
              "      <td>1</td>\n",
              "      <td>London</td>\n",
              "      <td>51.527672</td>\n",
              "      <td>-0.083648</td>\n",
              "    </tr>\n",
              "    <tr>\n",
              "      <th>2</th>\n",
              "      <td>1.0</td>\n",
              "      <td>flirt, 69, birthday, party, charlie, wrights, ...</td>\n",
              "      <td>0</td>\n",
              "      <td>London</td>\n",
              "      <td>51.527672</td>\n",
              "      <td>-0.083648</td>\n",
              "    </tr>\n",
              "    <tr>\n",
              "      <th>4</th>\n",
              "      <td>1.0</td>\n",
              "      <td>ray, estaire, jazz, ensemble, the, dominant, 7...</td>\n",
              "      <td>1</td>\n",
              "      <td>London</td>\n",
              "      <td>51.527672</td>\n",
              "      <td>-0.083648</td>\n",
              "    </tr>\n",
              "    <tr>\n",
              "      <th>6</th>\n",
              "      <td>1.0</td>\n",
              "      <td>zimbabwe, achievers, awards, 2014, london</td>\n",
              "      <td>3</td>\n",
              "      <td>London</td>\n",
              "      <td>51.502698</td>\n",
              "      <td>-0.188376</td>\n",
              "    </tr>\n",
              "  </tbody>\n",
              "</table>\n",
              "</div>"
            ],
            "text/plain": [
              "   gender  ...       lon\n",
              "0     1.0  ... -0.129085\n",
              "1     1.0  ... -0.083648\n",
              "2     1.0  ... -0.083648\n",
              "4     1.0  ... -0.083648\n",
              "6     1.0  ... -0.188376\n",
              "\n",
              "[5 rows x 6 columns]"
            ]
          },
          "metadata": {},
          "execution_count": 13
        }
      ]
    },
    {
      "cell_type": "code",
      "metadata": {
        "id": "ZxVh1PWkr8sM"
      },
      "source": [
        "data=data.drop('tags',axis=1)"
      ],
      "execution_count": null,
      "outputs": []
    },
    {
      "cell_type": "code",
      "metadata": {
        "colab": {
          "base_uri": "https://localhost:8080/",
          "height": 204
        },
        "id": "VOgjsvI-sE49",
        "outputId": "fb707b01-fd6b-4c83-dc54-f79d1bc7a720"
      },
      "source": [
        "data.head()"
      ],
      "execution_count": null,
      "outputs": [
        {
          "output_type": "execute_result",
          "data": {
            "text/html": [
              "<div>\n",
              "<style scoped>\n",
              "    .dataframe tbody tr th:only-of-type {\n",
              "        vertical-align: middle;\n",
              "    }\n",
              "\n",
              "    .dataframe tbody tr th {\n",
              "        vertical-align: top;\n",
              "    }\n",
              "\n",
              "    .dataframe thead th {\n",
              "        text-align: right;\n",
              "    }\n",
              "</style>\n",
              "<table border=\"1\" class=\"dataframe\">\n",
              "  <thead>\n",
              "    <tr style=\"text-align: right;\">\n",
              "      <th></th>\n",
              "      <th>gender</th>\n",
              "      <th>faves</th>\n",
              "      <th>u_city</th>\n",
              "      <th>lat</th>\n",
              "      <th>lon</th>\n",
              "    </tr>\n",
              "  </thead>\n",
              "  <tbody>\n",
              "    <tr>\n",
              "      <th>0</th>\n",
              "      <td>1.0</td>\n",
              "      <td>0</td>\n",
              "      <td>30307</td>\n",
              "      <td>51.465163</td>\n",
              "      <td>-0.129085</td>\n",
              "    </tr>\n",
              "    <tr>\n",
              "      <th>1</th>\n",
              "      <td>1.0</td>\n",
              "      <td>1</td>\n",
              "      <td>London</td>\n",
              "      <td>51.527672</td>\n",
              "      <td>-0.083648</td>\n",
              "    </tr>\n",
              "    <tr>\n",
              "      <th>2</th>\n",
              "      <td>1.0</td>\n",
              "      <td>0</td>\n",
              "      <td>London</td>\n",
              "      <td>51.527672</td>\n",
              "      <td>-0.083648</td>\n",
              "    </tr>\n",
              "    <tr>\n",
              "      <th>4</th>\n",
              "      <td>1.0</td>\n",
              "      <td>1</td>\n",
              "      <td>London</td>\n",
              "      <td>51.527672</td>\n",
              "      <td>-0.083648</td>\n",
              "    </tr>\n",
              "    <tr>\n",
              "      <th>6</th>\n",
              "      <td>1.0</td>\n",
              "      <td>3</td>\n",
              "      <td>London</td>\n",
              "      <td>51.502698</td>\n",
              "      <td>-0.188376</td>\n",
              "    </tr>\n",
              "  </tbody>\n",
              "</table>\n",
              "</div>"
            ],
            "text/plain": [
              "   gender  faves  u_city        lat       lon\n",
              "0     1.0      0   30307  51.465163 -0.129085\n",
              "1     1.0      1  London  51.527672 -0.083648\n",
              "2     1.0      0  London  51.527672 -0.083648\n",
              "4     1.0      1  London  51.527672 -0.083648\n",
              "6     1.0      3  London  51.502698 -0.188376"
            ]
          },
          "metadata": {},
          "execution_count": 15
        }
      ]
    },
    {
      "cell_type": "code",
      "metadata": {
        "id": "ezRVQ6yUsJ-t"
      },
      "source": [
        "data['u_city'],_=pd.factorize(data['u_city'])"
      ],
      "execution_count": null,
      "outputs": []
    },
    {
      "cell_type": "code",
      "metadata": {
        "colab": {
          "base_uri": "https://localhost:8080/",
          "height": 204
        },
        "id": "gaLcxOn1sdyS",
        "outputId": "c0faa0f0-ac73-4a8b-e9d9-ca6aa947d131"
      },
      "source": [
        "data.head()"
      ],
      "execution_count": null,
      "outputs": [
        {
          "output_type": "execute_result",
          "data": {
            "text/html": [
              "<div>\n",
              "<style scoped>\n",
              "    .dataframe tbody tr th:only-of-type {\n",
              "        vertical-align: middle;\n",
              "    }\n",
              "\n",
              "    .dataframe tbody tr th {\n",
              "        vertical-align: top;\n",
              "    }\n",
              "\n",
              "    .dataframe thead th {\n",
              "        text-align: right;\n",
              "    }\n",
              "</style>\n",
              "<table border=\"1\" class=\"dataframe\">\n",
              "  <thead>\n",
              "    <tr style=\"text-align: right;\">\n",
              "      <th></th>\n",
              "      <th>gender</th>\n",
              "      <th>faves</th>\n",
              "      <th>u_city</th>\n",
              "      <th>lat</th>\n",
              "      <th>lon</th>\n",
              "    </tr>\n",
              "  </thead>\n",
              "  <tbody>\n",
              "    <tr>\n",
              "      <th>0</th>\n",
              "      <td>1.0</td>\n",
              "      <td>0</td>\n",
              "      <td>0</td>\n",
              "      <td>51.465163</td>\n",
              "      <td>-0.129085</td>\n",
              "    </tr>\n",
              "    <tr>\n",
              "      <th>1</th>\n",
              "      <td>1.0</td>\n",
              "      <td>1</td>\n",
              "      <td>1</td>\n",
              "      <td>51.527672</td>\n",
              "      <td>-0.083648</td>\n",
              "    </tr>\n",
              "    <tr>\n",
              "      <th>2</th>\n",
              "      <td>1.0</td>\n",
              "      <td>0</td>\n",
              "      <td>1</td>\n",
              "      <td>51.527672</td>\n",
              "      <td>-0.083648</td>\n",
              "    </tr>\n",
              "    <tr>\n",
              "      <th>4</th>\n",
              "      <td>1.0</td>\n",
              "      <td>1</td>\n",
              "      <td>1</td>\n",
              "      <td>51.527672</td>\n",
              "      <td>-0.083648</td>\n",
              "    </tr>\n",
              "    <tr>\n",
              "      <th>6</th>\n",
              "      <td>1.0</td>\n",
              "      <td>3</td>\n",
              "      <td>1</td>\n",
              "      <td>51.502698</td>\n",
              "      <td>-0.188376</td>\n",
              "    </tr>\n",
              "  </tbody>\n",
              "</table>\n",
              "</div>"
            ],
            "text/plain": [
              "   gender  faves  u_city        lat       lon\n",
              "0     1.0      0       0  51.465163 -0.129085\n",
              "1     1.0      1       1  51.527672 -0.083648\n",
              "2     1.0      0       1  51.527672 -0.083648\n",
              "4     1.0      1       1  51.527672 -0.083648\n",
              "6     1.0      3       1  51.502698 -0.188376"
            ]
          },
          "metadata": {},
          "execution_count": 17
        }
      ]
    },
    {
      "cell_type": "code",
      "metadata": {
        "id": "Mh4ZWuRvrQnx"
      },
      "source": [
        "from sklearn.preprocessing import StandardScaler"
      ],
      "execution_count": null,
      "outputs": []
    },
    {
      "cell_type": "code",
      "metadata": {
        "id": "p6U0KNO9tI_J"
      },
      "source": [
        "scale=StandardScaler()"
      ],
      "execution_count": null,
      "outputs": []
    },
    {
      "cell_type": "code",
      "metadata": {
        "id": "kACJconctOKX"
      },
      "source": [
        "# scaled=scale.fit(data)"
      ],
      "execution_count": null,
      "outputs": []
    },
    {
      "cell_type": "code",
      "metadata": {
        "id": "JGleJzmAuUZz"
      },
      "source": [
        "context=scale.fit_transform(data)"
      ],
      "execution_count": null,
      "outputs": []
    },
    {
      "cell_type": "code",
      "metadata": {
        "colab": {
          "base_uri": "https://localhost:8080/"
        },
        "id": "58nYabHfue39",
        "outputId": "c77164db-5f84-4b8f-c69e-61b067a8a659"
      },
      "source": [
        "context[:3,:]"
      ],
      "execution_count": null,
      "outputs": [
        {
          "output_type": "execute_result",
          "data": {
            "text/plain": [
              "array([[-0.40003139, -0.16370092, -0.74036046, -1.02722585,  0.15746715],\n",
              "       [-0.40003139, -0.13981047, -0.7275011 ,  0.58293615,  0.55902988],\n",
              "       [-0.40003139, -0.16370092, -0.7275011 ,  0.58293615,  0.55902988]])"
            ]
          },
          "metadata": {},
          "execution_count": 22
        }
      ]
    },
    {
      "cell_type": "code",
      "metadata": {
        "id": "zB6-QGaRuq8i"
      },
      "source": [
        "Y=context[:,1]"
      ],
      "execution_count": null,
      "outputs": []
    },
    {
      "cell_type": "code",
      "metadata": {
        "id": "G_v2nubduv1F"
      },
      "source": [
        "X=context[:,[0,2,3,4]]\n"
      ],
      "execution_count": null,
      "outputs": []
    },
    {
      "cell_type": "code",
      "metadata": {
        "colab": {
          "base_uri": "https://localhost:8080/"
        },
        "id": "jQ4lDoncvH1n",
        "outputId": "907b8644-8068-440c-fd25-caefc5b5ac27"
      },
      "source": [
        "X[:3,:]"
      ],
      "execution_count": null,
      "outputs": [
        {
          "output_type": "execute_result",
          "data": {
            "text/plain": [
              "array([[-0.40003139, -0.74036046, -1.02722585,  0.15746715],\n",
              "       [-0.40003139, -0.7275011 ,  0.58293615,  0.55902988],\n",
              "       [-0.40003139, -0.7275011 ,  0.58293615,  0.55902988]])"
            ]
          },
          "metadata": {},
          "execution_count": 25
        }
      ]
    },
    {
      "cell_type": "code",
      "metadata": {
        "id": "Z_zp7zkwvQi4"
      },
      "source": [
        "from sklearn.model_selection import train_test_split"
      ],
      "execution_count": null,
      "outputs": []
    },
    {
      "cell_type": "code",
      "metadata": {
        "id": "k-pItOZ7vcLv"
      },
      "source": [
        "Xtrain,Xtest,Ytrain,Ytest=train_test_split(X,Y,test_size=0.2, random_state=42)"
      ],
      "execution_count": null,
      "outputs": []
    },
    {
      "cell_type": "code",
      "metadata": {
        "colab": {
          "base_uri": "https://localhost:8080/"
        },
        "id": "zNYA-L6Fvped",
        "outputId": "8950f757-1462-4199-d4f2-39ac0353bda4"
      },
      "source": [
        "Xtrain.shape"
      ],
      "execution_count": null,
      "outputs": [
        {
          "output_type": "execute_result",
          "data": {
            "text/plain": [
              "(6958, 4)"
            ]
          },
          "metadata": {},
          "execution_count": 28
        }
      ]
    },
    {
      "cell_type": "code",
      "metadata": {
        "colab": {
          "base_uri": "https://localhost:8080/"
        },
        "id": "tUvk2WNHvvUA",
        "outputId": "3d0d29eb-b659-481b-f92a-549fdf6a53f1"
      },
      "source": [
        "Ytrain.shape"
      ],
      "execution_count": null,
      "outputs": [
        {
          "output_type": "execute_result",
          "data": {
            "text/plain": [
              "(6958,)"
            ]
          },
          "metadata": {},
          "execution_count": 29
        }
      ]
    },
    {
      "cell_type": "code",
      "metadata": {
        "colab": {
          "base_uri": "https://localhost:8080/"
        },
        "id": "Z7wJP8x2xahu",
        "outputId": "801f4a11-9236-41e6-e3a1-3090ea5e2c9e"
      },
      "source": [
        "Xtrain.ndim"
      ],
      "execution_count": null,
      "outputs": [
        {
          "output_type": "execute_result",
          "data": {
            "text/plain": [
              "2"
            ]
          },
          "metadata": {},
          "execution_count": 30
        }
      ]
    },
    {
      "cell_type": "code",
      "metadata": {
        "id": "TUIAeYG5a4N_"
      },
      "source": [
        "from sklearn.ensemble import GradientBoostingRegressor"
      ],
      "execution_count": null,
      "outputs": []
    },
    {
      "cell_type": "code",
      "metadata": {
        "id": "dtIVcgu3bv0t"
      },
      "source": [
        "gbr=GradientBoostingRegressor(n_estimators=30, learning_rate=0.1)"
      ],
      "execution_count": null,
      "outputs": []
    },
    {
      "cell_type": "code",
      "metadata": {
        "colab": {
          "base_uri": "https://localhost:8080/"
        },
        "id": "OXEAddWDb37q",
        "outputId": "d4e79bc8-f76c-4fda-b9f3-9e3bde892499"
      },
      "source": [
        "gbr.fit(Xtrain,Ytrain)"
      ],
      "execution_count": null,
      "outputs": [
        {
          "output_type": "execute_result",
          "data": {
            "text/plain": [
              "GradientBoostingRegressor(alpha=0.9, ccp_alpha=0.0, criterion='friedman_mse',\n",
              "                          init=None, learning_rate=0.1, loss='ls', max_depth=3,\n",
              "                          max_features=None, max_leaf_nodes=None,\n",
              "                          min_impurity_decrease=0.0, min_impurity_split=None,\n",
              "                          min_samples_leaf=1, min_samples_split=2,\n",
              "                          min_weight_fraction_leaf=0.0, n_estimators=30,\n",
              "                          n_iter_no_change=None, presort='deprecated',\n",
              "                          random_state=None, subsample=1.0, tol=0.0001,\n",
              "                          validation_fraction=0.1, verbose=0, warm_start=False)"
            ]
          },
          "metadata": {},
          "execution_count": 33
        }
      ]
    },
    {
      "cell_type": "code",
      "metadata": {
        "colab": {
          "base_uri": "https://localhost:8080/"
        },
        "id": "dFtjCGmVb8Cv",
        "outputId": "d8f9f719-6204-444c-9dea-6ff375bd2358"
      },
      "source": [
        "from sklearn.metrics import mean_squared_error\n",
        "import numpy as np\n",
        "favourate_rates = gbr.predict(Xtest)\n",
        "mse = mean_squared_error(Ytest, favourate_rates)\n",
        "rmse = np.sqrt(mse)\n",
        "rmse"
      ],
      "execution_count": null,
      "outputs": [
        {
          "output_type": "execute_result",
          "data": {
            "text/plain": [
              "0.6187512286411968"
            ]
          },
          "metadata": {},
          "execution_count": 34
        }
      ]
    },
    {
      "cell_type": "code",
      "metadata": {
        "colab": {
          "base_uri": "https://localhost:8080/"
        },
        "id": "s5vxRdssdToC",
        "outputId": "119e29a6-ec16-43d3-e794-a3a1cb077e6c"
      },
      "source": [
        "from sklearn.metrics import mean_absolute_error as mae\n",
        "#calculate MAE\n",
        "mae(Ytest, favourate_rates)"
      ],
      "execution_count": null,
      "outputs": [
        {
          "output_type": "execute_result",
          "data": {
            "text/plain": [
              "0.19996346544126328"
            ]
          },
          "metadata": {},
          "execution_count": 35
        }
      ]
    },
    {
      "cell_type": "code",
      "metadata": {
        "id": "TNB9Xzbnwv6t"
      },
      "source": [
        "import tensorflow as tf\n",
        "from tensorflow.keras.models import Sequential\n",
        "from tensorflow.keras.layers import Dense, Dropout, LSTM, GRU, Activation, Flatten\n",
        "from tensorflow.keras.callbacks import ModelCheckpoint, EarlyStopping\n",
        "from tensorflow.keras.optimizers import Adam\n",
        "import numpy as np\n",
        "import math, time\n",
        "import matplotlib.pyplot as plt"
      ],
      "execution_count": null,
      "outputs": []
    },
    {
      "cell_type": "code",
      "metadata": {
        "id": "39x7_8AUwlDK"
      },
      "source": [
        "model = Sequential()\n",
        "# model.add(Dense(500, input_dim=4, activation= \"relu\"))\n",
        "# model.add(Dense(100, activation= \"relu\"))\n",
        "# model.add(Dense(50, activation= \"relu\"))\n",
        "# model.add(Dense(1))"
      ],
      "execution_count": null,
      "outputs": []
    },
    {
      "cell_type": "code",
      "metadata": {
        "id": "0ViVCchcSIf2"
      },
      "source": [
        "model.add(Dense(15, input_dim=4, activation='relu'))\n",
        "model.add(Dense(7, activation='relu'))\n",
        "model.add(Dense(3, activation='relu'))\n",
        "model.add(Dense(1, activation='linear'))"
      ],
      "execution_count": null,
      "outputs": []
    },
    {
      "cell_type": "code",
      "metadata": {
        "id": "UeLyv0-_PBo7"
      },
      "source": [
        "# model.add(Dense(13, input_dim=4, kernel_initializer='normal', activation='relu'))\n",
        "# model.add(Dense(1, kernel_initializer='normal'))\n",
        "# \t# Compile model"
      ],
      "execution_count": null,
      "outputs": []
    },
    {
      "cell_type": "code",
      "metadata": {
        "colab": {
          "base_uri": "https://localhost:8080/"
        },
        "id": "wMN4zACzw7_E",
        "outputId": "73cefc55-fb90-4399-fcf8-0e20a1839261"
      },
      "source": [
        "print(model.summary())"
      ],
      "execution_count": null,
      "outputs": [
        {
          "output_type": "stream",
          "name": "stdout",
          "text": [
            "Model: \"sequential\"\n",
            "_________________________________________________________________\n",
            "Layer (type)                 Output Shape              Param #   \n",
            "=================================================================\n",
            "dense (Dense)                (None, 15)                75        \n",
            "_________________________________________________________________\n",
            "dense_1 (Dense)              (None, 7)                 112       \n",
            "_________________________________________________________________\n",
            "dense_2 (Dense)              (None, 3)                 24        \n",
            "_________________________________________________________________\n",
            "dense_3 (Dense)              (None, 1)                 4         \n",
            "=================================================================\n",
            "Total params: 215\n",
            "Trainable params: 215\n",
            "Non-trainable params: 0\n",
            "_________________________________________________________________\n",
            "None\n"
          ]
        }
      ]
    },
    {
      "cell_type": "code",
      "metadata": {
        "colab": {
          "base_uri": "https://localhost:8080/"
        },
        "id": "H5eUVq0CxDDt",
        "outputId": "221ae636-3ec7-4288-c29f-e005a5a68f0f"
      },
      "source": [
        "optimizer = Adam(lr=0.001)"
      ],
      "execution_count": null,
      "outputs": [
        {
          "output_type": "stream",
          "name": "stderr",
          "text": [
            "/usr/local/lib/python3.7/dist-packages/keras/optimizer_v2/optimizer_v2.py:356: UserWarning: The `lr` argument is deprecated, use `learning_rate` instead.\n",
            "  \"The `lr` argument is deprecated, use `learning_rate` instead.\")\n"
          ]
        }
      ]
    },
    {
      "cell_type": "code",
      "metadata": {
        "id": "0t0iLsVjxHuc"
      },
      "source": [
        "model.compile(loss='mean_squared_error', optimizer=optimizer, metrics=['mse','mape'])"
      ],
      "execution_count": null,
      "outputs": []
    },
    {
      "cell_type": "code",
      "metadata": {
        "colab": {
          "base_uri": "https://localhost:8080/"
        },
        "id": "cYic1VtExNF9",
        "outputId": "56a4254c-b000-4715-8817-7a4ab867e140"
      },
      "source": [
        "history = model.fit(Xtrain,\n",
        "                    Ytrain,\n",
        "                    batch_size=22,\n",
        "                    epochs=100,\n",
        "                    validation_split=0.1,\n",
        "                    verbose=1)"
      ],
      "execution_count": null,
      "outputs": [
        {
          "output_type": "stream",
          "name": "stdout",
          "text": [
            "Epoch 1/100\n",
            "285/285 [==============================] - 4s 5ms/step - loss: 1.2176 - mse: 1.2176 - mape: 107.7687 - val_loss: 0.3317 - val_mse: 0.3317 - val_mape: 114.8525\n",
            "Epoch 2/100\n",
            "285/285 [==============================] - 1s 4ms/step - loss: 1.2134 - mse: 1.2134 - mape: 115.4865 - val_loss: 0.3331 - val_mse: 0.3331 - val_mape: 135.4332\n",
            "Epoch 3/100\n",
            "285/285 [==============================] - 1s 4ms/step - loss: 1.2115 - mse: 1.2115 - mape: 143.1956 - val_loss: 0.3320 - val_mse: 0.3320 - val_mape: 129.1316\n",
            "Epoch 4/100\n",
            "285/285 [==============================] - 1s 4ms/step - loss: 1.2090 - mse: 1.2090 - mape: 139.6983 - val_loss: 0.3318 - val_mse: 0.3318 - val_mape: 123.7607\n",
            "Epoch 5/100\n",
            "285/285 [==============================] - 1s 4ms/step - loss: 1.2084 - mse: 1.2084 - mape: 133.5468 - val_loss: 0.3333 - val_mse: 0.3333 - val_mape: 141.0694\n",
            "Epoch 6/100\n",
            "285/285 [==============================] - 1s 4ms/step - loss: 1.2068 - mse: 1.2068 - mape: 138.6316 - val_loss: 0.3341 - val_mse: 0.3341 - val_mape: 143.0057\n",
            "Epoch 7/100\n",
            "285/285 [==============================] - 1s 4ms/step - loss: 1.2061 - mse: 1.2061 - mape: 136.3527 - val_loss: 0.3339 - val_mse: 0.3339 - val_mape: 146.5500\n",
            "Epoch 8/100\n",
            "285/285 [==============================] - 1s 4ms/step - loss: 1.2057 - mse: 1.2057 - mape: 141.0060 - val_loss: 0.3323 - val_mse: 0.3323 - val_mape: 123.3417\n",
            "Epoch 9/100\n",
            "285/285 [==============================] - 1s 4ms/step - loss: 1.2050 - mse: 1.2050 - mape: 129.4061 - val_loss: 0.3319 - val_mse: 0.3319 - val_mape: 126.2398\n",
            "Epoch 10/100\n",
            "285/285 [==============================] - 1s 4ms/step - loss: 1.2041 - mse: 1.2041 - mape: 137.9711 - val_loss: 0.3297 - val_mse: 0.3297 - val_mape: 110.6178\n",
            "Epoch 11/100\n",
            "285/285 [==============================] - 1s 4ms/step - loss: 1.2040 - mse: 1.2040 - mape: 123.6470 - val_loss: 0.3321 - val_mse: 0.3321 - val_mape: 130.5596\n",
            "Epoch 12/100\n",
            "285/285 [==============================] - 1s 4ms/step - loss: 1.2037 - mse: 1.2037 - mape: 131.7268 - val_loss: 0.3323 - val_mse: 0.3323 - val_mape: 132.4783\n",
            "Epoch 13/100\n",
            "285/285 [==============================] - 1s 4ms/step - loss: 1.2037 - mse: 1.2037 - mape: 126.0513 - val_loss: 0.3344 - val_mse: 0.3344 - val_mape: 146.3360\n",
            "Epoch 14/100\n",
            "285/285 [==============================] - 1s 4ms/step - loss: 1.2025 - mse: 1.2025 - mape: 125.1429 - val_loss: 0.3341 - val_mse: 0.3341 - val_mape: 149.9563\n",
            "Epoch 15/100\n",
            "285/285 [==============================] - 1s 4ms/step - loss: 1.2028 - mse: 1.2028 - mape: 139.2589 - val_loss: 0.3331 - val_mse: 0.3331 - val_mape: 125.6924\n",
            "Epoch 16/100\n",
            "285/285 [==============================] - 1s 4ms/step - loss: 1.2022 - mse: 1.2022 - mape: 124.5928 - val_loss: 0.3321 - val_mse: 0.3321 - val_mape: 129.5517\n",
            "Epoch 17/100\n",
            "285/285 [==============================] - 1s 4ms/step - loss: 1.2017 - mse: 1.2017 - mape: 127.5403 - val_loss: 0.3329 - val_mse: 0.3329 - val_mape: 134.6827\n",
            "Epoch 18/100\n",
            "285/285 [==============================] - 1s 4ms/step - loss: 1.2021 - mse: 1.2021 - mape: 134.2021 - val_loss: 0.3313 - val_mse: 0.3313 - val_mape: 121.4668\n",
            "Epoch 19/100\n",
            "285/285 [==============================] - 1s 4ms/step - loss: 1.2013 - mse: 1.2013 - mape: 124.0636 - val_loss: 0.3312 - val_mse: 0.3312 - val_mape: 124.8724\n",
            "Epoch 20/100\n",
            "285/285 [==============================] - 1s 4ms/step - loss: 1.2010 - mse: 1.2010 - mape: 124.8289 - val_loss: 0.3298 - val_mse: 0.3298 - val_mape: 120.1843\n",
            "Epoch 21/100\n",
            "285/285 [==============================] - 1s 4ms/step - loss: 1.2010 - mse: 1.2010 - mape: 125.9171 - val_loss: 0.3289 - val_mse: 0.3289 - val_mape: 125.0542\n",
            "Epoch 22/100\n",
            "285/285 [==============================] - 1s 4ms/step - loss: 1.2008 - mse: 1.2008 - mape: 120.8072 - val_loss: 0.3269 - val_mse: 0.3269 - val_mape: 113.8965\n",
            "Epoch 23/100\n",
            "285/285 [==============================] - 1s 4ms/step - loss: 1.1998 - mse: 1.1998 - mape: 133.2853 - val_loss: 0.3315 - val_mse: 0.3315 - val_mape: 126.2325\n",
            "Epoch 24/100\n",
            "285/285 [==============================] - 1s 4ms/step - loss: 1.1998 - mse: 1.1998 - mape: 124.2345 - val_loss: 0.3284 - val_mse: 0.3284 - val_mape: 129.7002\n",
            "Epoch 25/100\n",
            "285/285 [==============================] - 1s 4ms/step - loss: 1.1993 - mse: 1.1993 - mape: 128.3241 - val_loss: 0.3276 - val_mse: 0.3276 - val_mape: 127.0844\n",
            "Epoch 26/100\n",
            "285/285 [==============================] - 1s 4ms/step - loss: 1.1986 - mse: 1.1986 - mape: 128.4863 - val_loss: 0.3266 - val_mse: 0.3266 - val_mape: 127.2449\n",
            "Epoch 27/100\n",
            "285/285 [==============================] - 1s 4ms/step - loss: 1.1977 - mse: 1.1977 - mape: 130.3243 - val_loss: 0.3254 - val_mse: 0.3254 - val_mape: 114.2773\n",
            "Epoch 28/100\n",
            "285/285 [==============================] - 1s 4ms/step - loss: 1.1972 - mse: 1.1972 - mape: 121.8276 - val_loss: 0.3249 - val_mse: 0.3249 - val_mape: 116.1800\n",
            "Epoch 29/100\n",
            "285/285 [==============================] - 1s 4ms/step - loss: 1.1968 - mse: 1.1968 - mape: 128.2692 - val_loss: 0.3249 - val_mse: 0.3249 - val_mape: 107.7939\n",
            "Epoch 30/100\n",
            "285/285 [==============================] - 1s 4ms/step - loss: 1.1967 - mse: 1.1967 - mape: 122.3674 - val_loss: 0.3228 - val_mse: 0.3228 - val_mape: 109.6975\n",
            "Epoch 31/100\n",
            "285/285 [==============================] - 1s 4ms/step - loss: 1.1964 - mse: 1.1964 - mape: 119.2326 - val_loss: 0.3246 - val_mse: 0.3246 - val_mape: 126.0039\n",
            "Epoch 32/100\n",
            "285/285 [==============================] - 1s 4ms/step - loss: 1.1943 - mse: 1.1943 - mape: 123.1796 - val_loss: 0.3253 - val_mse: 0.3253 - val_mape: 116.3723\n",
            "Epoch 33/100\n",
            "285/285 [==============================] - 1s 4ms/step - loss: 1.1942 - mse: 1.1942 - mape: 119.4556 - val_loss: 0.3248 - val_mse: 0.3248 - val_mape: 129.6362\n",
            "Epoch 34/100\n",
            "285/285 [==============================] - 1s 4ms/step - loss: 1.1931 - mse: 1.1931 - mape: 123.9852 - val_loss: 0.3215 - val_mse: 0.3215 - val_mape: 119.6386\n",
            "Epoch 35/100\n",
            "285/285 [==============================] - 1s 4ms/step - loss: 1.1924 - mse: 1.1924 - mape: 120.5078 - val_loss: 0.3204 - val_mse: 0.3204 - val_mape: 126.0349\n",
            "Epoch 36/100\n",
            "285/285 [==============================] - 1s 4ms/step - loss: 1.1897 - mse: 1.1897 - mape: 125.0743 - val_loss: 0.3173 - val_mse: 0.3173 - val_mape: 112.1880\n",
            "Epoch 37/100\n",
            "285/285 [==============================] - 1s 4ms/step - loss: 1.1894 - mse: 1.1894 - mape: 118.8970 - val_loss: 0.3145 - val_mse: 0.3145 - val_mape: 111.6208\n",
            "Epoch 38/100\n",
            "285/285 [==============================] - 1s 4ms/step - loss: 1.1887 - mse: 1.1887 - mape: 115.2848 - val_loss: 0.3152 - val_mse: 0.3152 - val_mape: 121.3073\n",
            "Epoch 39/100\n",
            "285/285 [==============================] - 1s 4ms/step - loss: 1.1868 - mse: 1.1868 - mape: 120.1239 - val_loss: 0.3141 - val_mse: 0.3141 - val_mape: 122.6276\n",
            "Epoch 40/100\n",
            "285/285 [==============================] - 1s 4ms/step - loss: 1.1849 - mse: 1.1849 - mape: 121.8913 - val_loss: 0.3076 - val_mse: 0.3076 - val_mape: 121.0087\n",
            "Epoch 41/100\n",
            "285/285 [==============================] - 1s 4ms/step - loss: 1.1834 - mse: 1.1834 - mape: 120.4772 - val_loss: 0.3075 - val_mse: 0.3075 - val_mape: 121.5884\n",
            "Epoch 42/100\n",
            "285/285 [==============================] - 1s 4ms/step - loss: 1.1821 - mse: 1.1821 - mape: 120.7660 - val_loss: 0.3064 - val_mse: 0.3064 - val_mape: 118.0875\n",
            "Epoch 43/100\n",
            "285/285 [==============================] - 1s 4ms/step - loss: 1.1779 - mse: 1.1779 - mape: 124.6109 - val_loss: 0.3019 - val_mse: 0.3019 - val_mape: 110.0432\n",
            "Epoch 44/100\n",
            "285/285 [==============================] - 1s 4ms/step - loss: 1.1783 - mse: 1.1783 - mape: 118.0084 - val_loss: 0.2934 - val_mse: 0.2934 - val_mape: 115.1300\n",
            "Epoch 45/100\n",
            "285/285 [==============================] - 1s 4ms/step - loss: 1.1759 - mse: 1.1759 - mape: 121.4549 - val_loss: 0.3000 - val_mse: 0.3000 - val_mape: 125.7047\n",
            "Epoch 46/100\n",
            "285/285 [==============================] - 1s 4ms/step - loss: 1.1738 - mse: 1.1738 - mape: 124.1342 - val_loss: 0.2904 - val_mse: 0.2904 - val_mape: 116.5025\n",
            "Epoch 47/100\n",
            "285/285 [==============================] - 1s 4ms/step - loss: 1.1713 - mse: 1.1713 - mape: 118.7313 - val_loss: 0.2867 - val_mse: 0.2867 - val_mape: 114.3517\n",
            "Epoch 48/100\n",
            "285/285 [==============================] - 1s 4ms/step - loss: 1.1724 - mse: 1.1724 - mape: 120.8033 - val_loss: 0.2877 - val_mse: 0.2877 - val_mape: 116.0851\n",
            "Epoch 49/100\n",
            "285/285 [==============================] - 1s 4ms/step - loss: 1.1672 - mse: 1.1672 - mape: 124.5140 - val_loss: 0.2814 - val_mse: 0.2814 - val_mape: 108.4002\n",
            "Epoch 50/100\n",
            "285/285 [==============================] - 1s 4ms/step - loss: 1.1683 - mse: 1.1683 - mape: 115.4727 - val_loss: 0.2910 - val_mse: 0.2910 - val_mape: 122.3942\n",
            "Epoch 51/100\n",
            "285/285 [==============================] - 1s 4ms/step - loss: 1.1657 - mse: 1.1657 - mape: 124.9445 - val_loss: 0.2842 - val_mse: 0.2842 - val_mape: 111.0221\n",
            "Epoch 52/100\n",
            "285/285 [==============================] - 1s 4ms/step - loss: 1.1639 - mse: 1.1639 - mape: 118.4495 - val_loss: 0.2846 - val_mse: 0.2846 - val_mape: 107.6737\n",
            "Epoch 53/100\n",
            "285/285 [==============================] - 1s 4ms/step - loss: 1.1620 - mse: 1.1620 - mape: 119.3482 - val_loss: 0.2721 - val_mse: 0.2721 - val_mape: 107.5317\n",
            "Epoch 54/100\n",
            "285/285 [==============================] - 1s 4ms/step - loss: 1.1586 - mse: 1.1586 - mape: 111.2066 - val_loss: 0.2954 - val_mse: 0.2954 - val_mape: 129.0278\n",
            "Epoch 55/100\n",
            "285/285 [==============================] - 1s 4ms/step - loss: 1.1624 - mse: 1.1624 - mape: 123.1787 - val_loss: 0.2735 - val_mse: 0.2735 - val_mape: 109.9352\n",
            "Epoch 56/100\n",
            "285/285 [==============================] - 1s 4ms/step - loss: 1.1591 - mse: 1.1591 - mape: 119.1866 - val_loss: 0.2669 - val_mse: 0.2669 - val_mape: 107.1668\n",
            "Epoch 57/100\n",
            "285/285 [==============================] - 1s 4ms/step - loss: 1.1524 - mse: 1.1524 - mape: 110.6095 - val_loss: 0.3050 - val_mse: 0.3050 - val_mape: 139.9704\n",
            "Epoch 58/100\n",
            "285/285 [==============================] - 1s 4ms/step - loss: 1.1535 - mse: 1.1535 - mape: 130.9050 - val_loss: 0.2605 - val_mse: 0.2605 - val_mape: 104.0608\n",
            "Epoch 59/100\n",
            "285/285 [==============================] - 1s 4ms/step - loss: 1.1530 - mse: 1.1530 - mape: 114.3293 - val_loss: 0.2865 - val_mse: 0.2865 - val_mape: 122.4170\n",
            "Epoch 60/100\n",
            "285/285 [==============================] - 1s 4ms/step - loss: 1.1539 - mse: 1.1539 - mape: 125.1725 - val_loss: 0.2609 - val_mse: 0.2609 - val_mape: 106.7161\n",
            "Epoch 61/100\n",
            "285/285 [==============================] - 1s 4ms/step - loss: 1.1492 - mse: 1.1492 - mape: 105.3125 - val_loss: 0.2801 - val_mse: 0.2801 - val_mape: 131.3926\n",
            "Epoch 62/100\n",
            "285/285 [==============================] - 1s 4ms/step - loss: 1.1551 - mse: 1.1551 - mape: 129.2750 - val_loss: 0.2606 - val_mse: 0.2606 - val_mape: 108.4404\n",
            "Epoch 63/100\n",
            "285/285 [==============================] - 1s 4ms/step - loss: 1.1522 - mse: 1.1522 - mape: 117.9853 - val_loss: 0.2543 - val_mse: 0.2543 - val_mape: 104.1833\n",
            "Epoch 64/100\n",
            "285/285 [==============================] - 1s 4ms/step - loss: 1.1554 - mse: 1.1554 - mape: 118.8573 - val_loss: 0.2583 - val_mse: 0.2583 - val_mape: 109.1390\n",
            "Epoch 65/100\n",
            "285/285 [==============================] - 1s 4ms/step - loss: 1.1520 - mse: 1.1520 - mape: 112.8196 - val_loss: 0.2707 - val_mse: 0.2707 - val_mape: 116.1225\n",
            "Epoch 66/100\n",
            "285/285 [==============================] - 1s 4ms/step - loss: 1.1532 - mse: 1.1532 - mape: 118.8163 - val_loss: 0.2631 - val_mse: 0.2631 - val_mape: 110.0748\n",
            "Epoch 67/100\n",
            "285/285 [==============================] - 1s 4ms/step - loss: 1.1479 - mse: 1.1479 - mape: 120.0559 - val_loss: 0.2511 - val_mse: 0.2511 - val_mape: 104.1892\n",
            "Epoch 68/100\n",
            "285/285 [==============================] - 1s 4ms/step - loss: 1.1461 - mse: 1.1461 - mape: 106.5908 - val_loss: 0.3053 - val_mse: 0.3053 - val_mape: 139.3335\n",
            "Epoch 69/100\n",
            "285/285 [==============================] - 1s 4ms/step - loss: 1.1521 - mse: 1.1521 - mape: 118.0642 - val_loss: 0.2714 - val_mse: 0.2714 - val_mape: 123.7954\n",
            "Epoch 70/100\n",
            "285/285 [==============================] - 1s 4ms/step - loss: 1.1496 - mse: 1.1496 - mape: 114.1898 - val_loss: 0.2745 - val_mse: 0.2745 - val_mape: 121.2026\n",
            "Epoch 71/100\n",
            "285/285 [==============================] - 1s 4ms/step - loss: 1.1502 - mse: 1.1502 - mape: 118.5282 - val_loss: 0.2835 - val_mse: 0.2835 - val_mape: 121.7782\n",
            "Epoch 72/100\n",
            "285/285 [==============================] - 1s 4ms/step - loss: 1.1494 - mse: 1.1494 - mape: 116.5375 - val_loss: 0.2630 - val_mse: 0.2630 - val_mape: 117.4570\n",
            "Epoch 73/100\n",
            "285/285 [==============================] - 1s 4ms/step - loss: 1.1504 - mse: 1.1504 - mape: 117.1113 - val_loss: 0.2545 - val_mse: 0.2545 - val_mape: 110.1509\n",
            "Epoch 74/100\n",
            "285/285 [==============================] - 1s 4ms/step - loss: 1.1476 - mse: 1.1476 - mape: 115.3488 - val_loss: 0.2586 - val_mse: 0.2586 - val_mape: 111.2395\n",
            "Epoch 75/100\n",
            "285/285 [==============================] - 1s 4ms/step - loss: 1.1445 - mse: 1.1445 - mape: 115.2025 - val_loss: 0.2533 - val_mse: 0.2533 - val_mape: 109.1508\n",
            "Epoch 76/100\n",
            "285/285 [==============================] - 1s 4ms/step - loss: 1.1503 - mse: 1.1503 - mape: 115.0211 - val_loss: 0.2779 - val_mse: 0.2779 - val_mape: 121.3070\n",
            "Epoch 77/100\n",
            "285/285 [==============================] - 1s 4ms/step - loss: 1.1393 - mse: 1.1393 - mape: 122.4999 - val_loss: 0.2451 - val_mse: 0.2451 - val_mape: 104.8231\n",
            "Epoch 78/100\n",
            "285/285 [==============================] - 1s 4ms/step - loss: 1.1434 - mse: 1.1434 - mape: 114.7264 - val_loss: 0.2626 - val_mse: 0.2626 - val_mape: 113.6767\n",
            "Epoch 79/100\n",
            "285/285 [==============================] - 1s 4ms/step - loss: 1.1473 - mse: 1.1473 - mape: 120.7312 - val_loss: 0.2681 - val_mse: 0.2681 - val_mape: 116.3175\n",
            "Epoch 80/100\n",
            "285/285 [==============================] - 1s 4ms/step - loss: 1.1488 - mse: 1.1488 - mape: 115.1886 - val_loss: 0.2866 - val_mse: 0.2866 - val_mape: 123.8459\n",
            "Epoch 81/100\n",
            "285/285 [==============================] - 1s 4ms/step - loss: 1.1445 - mse: 1.1445 - mape: 107.5612 - val_loss: 0.2506 - val_mse: 0.2506 - val_mape: 110.7571\n",
            "Epoch 82/100\n",
            "285/285 [==============================] - 1s 4ms/step - loss: 1.1459 - mse: 1.1459 - mape: 117.6726 - val_loss: 0.2987 - val_mse: 0.2987 - val_mape: 133.7349\n",
            "Epoch 83/100\n",
            "285/285 [==============================] - 1s 4ms/step - loss: 1.1419 - mse: 1.1419 - mape: 122.3131 - val_loss: 0.2434 - val_mse: 0.2434 - val_mape: 105.1858\n",
            "Epoch 84/100\n",
            "285/285 [==============================] - 1s 4ms/step - loss: 1.1409 - mse: 1.1409 - mape: 112.4527 - val_loss: 0.2407 - val_mse: 0.2407 - val_mape: 104.7195\n",
            "Epoch 85/100\n",
            "285/285 [==============================] - 1s 4ms/step - loss: 1.1436 - mse: 1.1436 - mape: 117.4047 - val_loss: 0.2482 - val_mse: 0.2482 - val_mape: 107.0997\n",
            "Epoch 86/100\n",
            "285/285 [==============================] - 1s 4ms/step - loss: 1.1422 - mse: 1.1422 - mape: 113.7285 - val_loss: 0.2472 - val_mse: 0.2472 - val_mape: 110.1374\n",
            "Epoch 87/100\n",
            "285/285 [==============================] - 1s 4ms/step - loss: 1.1446 - mse: 1.1446 - mape: 114.7470 - val_loss: 0.2532 - val_mse: 0.2532 - val_mape: 109.2331\n",
            "Epoch 88/100\n",
            "285/285 [==============================] - 1s 4ms/step - loss: 1.1444 - mse: 1.1444 - mape: 113.6348 - val_loss: 0.2425 - val_mse: 0.2425 - val_mape: 109.1063\n",
            "Epoch 89/100\n",
            "285/285 [==============================] - 1s 4ms/step - loss: 1.1422 - mse: 1.1422 - mape: 116.1277 - val_loss: 0.2560 - val_mse: 0.2560 - val_mape: 115.9172\n",
            "Epoch 90/100\n",
            "285/285 [==============================] - 1s 4ms/step - loss: 1.1418 - mse: 1.1418 - mape: 119.2768 - val_loss: 0.2384 - val_mse: 0.2384 - val_mape: 104.2671\n",
            "Epoch 91/100\n",
            "285/285 [==============================] - 1s 4ms/step - loss: 1.1415 - mse: 1.1415 - mape: 114.0745 - val_loss: 0.2432 - val_mse: 0.2432 - val_mape: 111.5516\n",
            "Epoch 92/100\n",
            "285/285 [==============================] - 1s 4ms/step - loss: 1.1417 - mse: 1.1417 - mape: 117.6678 - val_loss: 0.2377 - val_mse: 0.2377 - val_mape: 105.2360\n",
            "Epoch 93/100\n",
            "285/285 [==============================] - 1s 4ms/step - loss: 1.1426 - mse: 1.1426 - mape: 114.1399 - val_loss: 0.2464 - val_mse: 0.2464 - val_mape: 111.8848\n",
            "Epoch 94/100\n",
            "285/285 [==============================] - 1s 4ms/step - loss: 1.1365 - mse: 1.1365 - mape: 113.3561 - val_loss: 0.2483 - val_mse: 0.2483 - val_mape: 115.0051\n",
            "Epoch 95/100\n",
            "285/285 [==============================] - 1s 4ms/step - loss: 1.1359 - mse: 1.1359 - mape: 119.4682 - val_loss: 0.2363 - val_mse: 0.2363 - val_mape: 105.5680\n",
            "Epoch 96/100\n",
            "285/285 [==============================] - 1s 4ms/step - loss: 1.1434 - mse: 1.1434 - mape: 114.3489 - val_loss: 0.2567 - val_mse: 0.2567 - val_mape: 115.3946\n",
            "Epoch 97/100\n",
            "285/285 [==============================] - 1s 4ms/step - loss: 1.1366 - mse: 1.1366 - mape: 115.8532 - val_loss: 0.2436 - val_mse: 0.2436 - val_mape: 110.9734\n",
            "Epoch 98/100\n",
            "285/285 [==============================] - 1s 4ms/step - loss: 1.1426 - mse: 1.1426 - mape: 116.0891 - val_loss: 0.2434 - val_mse: 0.2434 - val_mape: 109.8184\n",
            "Epoch 99/100\n",
            "285/285 [==============================] - 1s 4ms/step - loss: 1.1405 - mse: 1.1405 - mape: 114.0985 - val_loss: 0.2437 - val_mse: 0.2437 - val_mape: 111.3726\n",
            "Epoch 100/100\n",
            "285/285 [==============================] - 1s 4ms/step - loss: 1.1368 - mse: 1.1368 - mape: 117.4484 - val_loss: 0.2403 - val_mse: 0.2403 - val_mape: 111.2387\n"
          ]
        }
      ]
    },
    {
      "cell_type": "code",
      "metadata": {
        "id": "Z_v1ggM3KTc_",
        "colab": {
          "base_uri": "https://localhost:8080/"
        },
        "outputId": "60792abb-d1d4-4ee3-d133-7f4d1d37b033"
      },
      "source": [
        "pred_train= model.predict(Xtrain)\n",
        "print(np.sqrt(mean_squared_error(Ytrain,pred_train)))\n",
        "\n",
        "pred= model.predict(Xtest)\n",
        "print(np.sqrt(mean_squared_error(Ytest,pred))) "
      ],
      "execution_count": null,
      "outputs": [
        {
          "output_type": "stream",
          "name": "stdout",
          "text": [
            "1.0191714021078249\n",
            "0.6298443058407657\n"
          ]
        }
      ]
    },
    {
      "cell_type": "code",
      "metadata": {
        "id": "EHOBVpgsKl9y",
        "colab": {
          "base_uri": "https://localhost:8080/"
        },
        "outputId": "feec1a05-c56b-4cd7-9425-f1037a6acd39"
      },
      "source": [
        "mae(Ytest, pred)"
      ],
      "execution_count": null,
      "outputs": [
        {
          "output_type": "execute_result",
          "data": {
            "text/plain": [
              "0.21559794523337508"
            ]
          },
          "metadata": {},
          "execution_count": 45
        }
      ]
    },
    {
      "cell_type": "code",
      "metadata": {
        "id": "1w8kNxMCP6xa"
      },
      "source": [
        "import matplotlib.pyplot as plt"
      ],
      "execution_count": null,
      "outputs": []
    },
    {
      "cell_type": "code",
      "metadata": {
        "id": "bfG7mzEzQIqk"
      },
      "source": [
        "def plot_loss(history):\n",
        "  plt.plot(history.history['mse'], label='mse')\n",
        "  plt.plot(history.history['val_loss'], label='val_loss')\n",
        "  plt.ylim([0, 10])\n",
        "  plt.xlabel('Epoch')\n",
        "  plt.ylabel('Error [MPG]')\n",
        "  plt.legend()\n",
        "  plt.grid(True)"
      ],
      "execution_count": null,
      "outputs": []
    },
    {
      "cell_type": "code",
      "metadata": {
        "id": "vYdN7ByTsqo-"
      },
      "source": [
        "plot_loss(history)"
      ],
      "execution_count": null,
      "outputs": []
    },
    {
      "cell_type": "code",
      "metadata": {
        "id": "D4HhwPcbPyAa"
      },
      "source": [
        "### General Findings from this Lab\n",
        "# The approach of using any contextual parameters was giving better predictive results than the contexual parameters which were selected by\n",
        "# the apriori algorithm(It was used to pick optimal parameters which can be used as independent variables)\n",
        "# Conclusion - Picking any 5 optimal contextual parameters in CARS datasets to predict user preferences doesn't add any value to the \n",
        "# predictive models"
      ],
      "execution_count": null,
      "outputs": []
    },
    {
      "cell_type": "code",
      "metadata": {
        "id": "84yYBUtOZwh6"
      },
      "source": [
        "###### Possible Way Forward\n",
        "# 1. Deduce contemporary contextual parameters that make a user like or dislike an item\n",
        "# 2. Implement CARS for self-actualisation which derives these four lists\n",
        "# \"Things we think you will hate\"\n",
        "# \"Things you will be among the first to try\"\n",
        "# \"Things we are not sure about\"\n",
        "#  \"Things that are controversial\"\n",
        "# 3. Create a hybrid of 1 and 2\n",
        "# 4. Look for a domain to implement CARS, either IOT, Health, agriculture, Nutrition, earth observation, climate change etc \n"
      ],
      "execution_count": null,
      "outputs": []
    }
  ]
}