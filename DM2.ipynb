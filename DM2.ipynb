{
  "nbformat": 4,
  "nbformat_minor": 0,
  "metadata": {
    "colab": {
      "name": "DM2.ipynb",
      "provenance": []
    },
    "kernelspec": {
      "name": "python3",
      "display_name": "Python 3"
    }
  },
  "cells": [
    {
      "cell_type": "markdown",
      "metadata": {
        "id": "YaXlfTVSNikl"
      },
      "source": [
        "**A Books Recommender System**\n",
        "\n",
        "This recommender system will seek to model a user’s behavior regarding the ratings they give to different books. It will then be able to recommend similar books to the user and also to similar users.\n",
        "\n",
        "**Types of Recommender Systems**\n",
        "\n",
        "**Collaborative Filtering Systems**: These types of recommender systems are based on the user’s direct behavior. That is, this system builds a model of the user based on past choices, activities, and preferences. It then uses this knowledge to predict what the user will like based on their similarity to other user profiles.\n",
        "\n",
        "**Content-Based Filtering System**: Content-based recommender systems, on the other hand, are based on the items, and not necessarily the users. This method builds an understanding of similarity between items. That is, it recommends items that are similar to each other in terms of properties.\n",
        "\n",
        "In this assignment, I have used an embedding to build a profile/understanding of the interactions between users and books.\n",
        "\n",
        "**The Data**\n",
        "\n",
        "The dataset I used contains ten thousand books and one million ratings given by users.\n",
        "\n",
        "The ratings dataset contains just three columns: book_id, user_id, and the corresponding rating given by the user.\n",
        "\n",
        "The book dataset has 23 columns and contains different metadata about the books, eg book title, book author, ISBN number, book image, and so on. This is the data used when making predictions, and also when we’re displaying the books to users in our application.\n",
        "\n"
      ]
    },
    {
      "cell_type": "code",
      "metadata": {
        "id": "HmtTwfG_ra7A"
      },
      "source": [
        "import numpy as np\n",
        "import pandas as pd\n",
        "import matplotlib.pyplot as plt\n",
        "import os\n",
        "import warnings\n",
        "\n",
        "warnings.filterwarnings('ignore')\n",
        "%matplotlib inline\n",
        "\n",
        "import tensorflow.keras as tf"
      ],
      "execution_count": 1,
      "outputs": []
    },
    {
      "cell_type": "code",
      "metadata": {
        "colab": {
          "base_uri": "https://localhost:8080/",
          "height": 204
        },
        "id": "ry7_NNXQs3mF",
        "outputId": "739f7fe8-9426-4812-cd2e-33b4fa0eb62e"
      },
      "source": [
        "ratings_df = pd.read_csv(\"https://raw.githubusercontent.com/Engineersticity/classwork-DM/master/ratings.csv\") \n",
        "books_df = pd.read_csv(\"https://raw.githubusercontent.com/Engineersticity/classwork-DM/master/books.csv\")\n",
        "ratings_df.head()"
      ],
      "execution_count": 2,
      "outputs": [
        {
          "output_type": "execute_result",
          "data": {
            "text/html": [
              "<div>\n",
              "<style scoped>\n",
              "    .dataframe tbody tr th:only-of-type {\n",
              "        vertical-align: middle;\n",
              "    }\n",
              "\n",
              "    .dataframe tbody tr th {\n",
              "        vertical-align: top;\n",
              "    }\n",
              "\n",
              "    .dataframe thead th {\n",
              "        text-align: right;\n",
              "    }\n",
              "</style>\n",
              "<table border=\"1\" class=\"dataframe\">\n",
              "  <thead>\n",
              "    <tr style=\"text-align: right;\">\n",
              "      <th></th>\n",
              "      <th>book_id</th>\n",
              "      <th>user_id</th>\n",
              "      <th>rating</th>\n",
              "    </tr>\n",
              "  </thead>\n",
              "  <tbody>\n",
              "    <tr>\n",
              "      <th>0</th>\n",
              "      <td>1</td>\n",
              "      <td>314</td>\n",
              "      <td>5</td>\n",
              "    </tr>\n",
              "    <tr>\n",
              "      <th>1</th>\n",
              "      <td>1</td>\n",
              "      <td>439</td>\n",
              "      <td>3</td>\n",
              "    </tr>\n",
              "    <tr>\n",
              "      <th>2</th>\n",
              "      <td>1</td>\n",
              "      <td>588</td>\n",
              "      <td>5</td>\n",
              "    </tr>\n",
              "    <tr>\n",
              "      <th>3</th>\n",
              "      <td>1</td>\n",
              "      <td>1169</td>\n",
              "      <td>4</td>\n",
              "    </tr>\n",
              "    <tr>\n",
              "      <th>4</th>\n",
              "      <td>1</td>\n",
              "      <td>1185</td>\n",
              "      <td>4</td>\n",
              "    </tr>\n",
              "  </tbody>\n",
              "</table>\n",
              "</div>"
            ],
            "text/plain": [
              "   book_id  user_id  rating\n",
              "0        1      314       5\n",
              "1        1      439       3\n",
              "2        1      588       5\n",
              "3        1     1169       4\n",
              "4        1     1185       4"
            ]
          },
          "metadata": {
            "tags": []
          },
          "execution_count": 2
        }
      ]
    },
    {
      "cell_type": "code",
      "metadata": {
        "colab": {
          "base_uri": "https://localhost:8080/",
          "height": 428
        },
        "id": "6KMRmTgos_d5",
        "outputId": "3ce30605-c938-40c2-f9cb-a09ba439e938"
      },
      "source": [
        "books_df.head()"
      ],
      "execution_count": 3,
      "outputs": [
        {
          "output_type": "execute_result",
          "data": {
            "text/html": [
              "<div>\n",
              "<style scoped>\n",
              "    .dataframe tbody tr th:only-of-type {\n",
              "        vertical-align: middle;\n",
              "    }\n",
              "\n",
              "    .dataframe tbody tr th {\n",
              "        vertical-align: top;\n",
              "    }\n",
              "\n",
              "    .dataframe thead th {\n",
              "        text-align: right;\n",
              "    }\n",
              "</style>\n",
              "<table border=\"1\" class=\"dataframe\">\n",
              "  <thead>\n",
              "    <tr style=\"text-align: right;\">\n",
              "      <th></th>\n",
              "      <th>id</th>\n",
              "      <th>book_id</th>\n",
              "      <th>best_book_id</th>\n",
              "      <th>work_id</th>\n",
              "      <th>books_count</th>\n",
              "      <th>isbn</th>\n",
              "      <th>isbn13</th>\n",
              "      <th>authors</th>\n",
              "      <th>original_publication_year</th>\n",
              "      <th>original_title</th>\n",
              "      <th>title</th>\n",
              "      <th>language_code</th>\n",
              "      <th>average_rating</th>\n",
              "      <th>ratings_count</th>\n",
              "      <th>work_ratings_count</th>\n",
              "      <th>work_text_reviews_count</th>\n",
              "      <th>ratings_1</th>\n",
              "      <th>ratings_2</th>\n",
              "      <th>ratings_3</th>\n",
              "      <th>ratings_4</th>\n",
              "      <th>ratings_5</th>\n",
              "      <th>image_url</th>\n",
              "      <th>small_image_url</th>\n",
              "    </tr>\n",
              "  </thead>\n",
              "  <tbody>\n",
              "    <tr>\n",
              "      <th>0</th>\n",
              "      <td>1</td>\n",
              "      <td>2767052</td>\n",
              "      <td>2767052</td>\n",
              "      <td>2792775</td>\n",
              "      <td>272</td>\n",
              "      <td>439023483</td>\n",
              "      <td>9.780439e+12</td>\n",
              "      <td>Suzanne Collins</td>\n",
              "      <td>2008.0</td>\n",
              "      <td>The Hunger Games</td>\n",
              "      <td>The Hunger Games (The Hunger Games, #1)</td>\n",
              "      <td>eng</td>\n",
              "      <td>4.34</td>\n",
              "      <td>4780653</td>\n",
              "      <td>4942365</td>\n",
              "      <td>155254</td>\n",
              "      <td>66715</td>\n",
              "      <td>127936</td>\n",
              "      <td>560092</td>\n",
              "      <td>1481305</td>\n",
              "      <td>2706317</td>\n",
              "      <td>https://images.gr-assets.com/books/1447303603m...</td>\n",
              "      <td>https://images.gr-assets.com/books/1447303603s...</td>\n",
              "    </tr>\n",
              "    <tr>\n",
              "      <th>1</th>\n",
              "      <td>2</td>\n",
              "      <td>3</td>\n",
              "      <td>3</td>\n",
              "      <td>4640799</td>\n",
              "      <td>491</td>\n",
              "      <td>439554934</td>\n",
              "      <td>9.780440e+12</td>\n",
              "      <td>J.K. Rowling, Mary GrandPré</td>\n",
              "      <td>1997.0</td>\n",
              "      <td>Harry Potter and the Philosopher's Stone</td>\n",
              "      <td>Harry Potter and the Sorcerer's Stone (Harry P...</td>\n",
              "      <td>eng</td>\n",
              "      <td>4.44</td>\n",
              "      <td>4602479</td>\n",
              "      <td>4800065</td>\n",
              "      <td>75867</td>\n",
              "      <td>75504</td>\n",
              "      <td>101676</td>\n",
              "      <td>455024</td>\n",
              "      <td>1156318</td>\n",
              "      <td>3011543</td>\n",
              "      <td>https://images.gr-assets.com/books/1474154022m...</td>\n",
              "      <td>https://images.gr-assets.com/books/1474154022s...</td>\n",
              "    </tr>\n",
              "    <tr>\n",
              "      <th>2</th>\n",
              "      <td>3</td>\n",
              "      <td>41865</td>\n",
              "      <td>41865</td>\n",
              "      <td>3212258</td>\n",
              "      <td>226</td>\n",
              "      <td>316015849</td>\n",
              "      <td>9.780316e+12</td>\n",
              "      <td>Stephenie Meyer</td>\n",
              "      <td>2005.0</td>\n",
              "      <td>Twilight</td>\n",
              "      <td>Twilight (Twilight, #1)</td>\n",
              "      <td>en-US</td>\n",
              "      <td>3.57</td>\n",
              "      <td>3866839</td>\n",
              "      <td>3916824</td>\n",
              "      <td>95009</td>\n",
              "      <td>456191</td>\n",
              "      <td>436802</td>\n",
              "      <td>793319</td>\n",
              "      <td>875073</td>\n",
              "      <td>1355439</td>\n",
              "      <td>https://images.gr-assets.com/books/1361039443m...</td>\n",
              "      <td>https://images.gr-assets.com/books/1361039443s...</td>\n",
              "    </tr>\n",
              "    <tr>\n",
              "      <th>3</th>\n",
              "      <td>4</td>\n",
              "      <td>2657</td>\n",
              "      <td>2657</td>\n",
              "      <td>3275794</td>\n",
              "      <td>487</td>\n",
              "      <td>61120081</td>\n",
              "      <td>9.780061e+12</td>\n",
              "      <td>Harper Lee</td>\n",
              "      <td>1960.0</td>\n",
              "      <td>To Kill a Mockingbird</td>\n",
              "      <td>To Kill a Mockingbird</td>\n",
              "      <td>eng</td>\n",
              "      <td>4.25</td>\n",
              "      <td>3198671</td>\n",
              "      <td>3340896</td>\n",
              "      <td>72586</td>\n",
              "      <td>60427</td>\n",
              "      <td>117415</td>\n",
              "      <td>446835</td>\n",
              "      <td>1001952</td>\n",
              "      <td>1714267</td>\n",
              "      <td>https://images.gr-assets.com/books/1361975680m...</td>\n",
              "      <td>https://images.gr-assets.com/books/1361975680s...</td>\n",
              "    </tr>\n",
              "    <tr>\n",
              "      <th>4</th>\n",
              "      <td>5</td>\n",
              "      <td>4671</td>\n",
              "      <td>4671</td>\n",
              "      <td>245494</td>\n",
              "      <td>1356</td>\n",
              "      <td>743273567</td>\n",
              "      <td>9.780743e+12</td>\n",
              "      <td>F. Scott Fitzgerald</td>\n",
              "      <td>1925.0</td>\n",
              "      <td>The Great Gatsby</td>\n",
              "      <td>The Great Gatsby</td>\n",
              "      <td>eng</td>\n",
              "      <td>3.89</td>\n",
              "      <td>2683664</td>\n",
              "      <td>2773745</td>\n",
              "      <td>51992</td>\n",
              "      <td>86236</td>\n",
              "      <td>197621</td>\n",
              "      <td>606158</td>\n",
              "      <td>936012</td>\n",
              "      <td>947718</td>\n",
              "      <td>https://images.gr-assets.com/books/1490528560m...</td>\n",
              "      <td>https://images.gr-assets.com/books/1490528560s...</td>\n",
              "    </tr>\n",
              "  </tbody>\n",
              "</table>\n",
              "</div>"
            ],
            "text/plain": [
              "   id  ...                                    small_image_url\n",
              "0   1  ...  https://images.gr-assets.com/books/1447303603s...\n",
              "1   2  ...  https://images.gr-assets.com/books/1474154022s...\n",
              "2   3  ...  https://images.gr-assets.com/books/1361039443s...\n",
              "3   4  ...  https://images.gr-assets.com/books/1361975680s...\n",
              "4   5  ...  https://images.gr-assets.com/books/1490528560s...\n",
              "\n",
              "[5 rows x 23 columns]"
            ]
          },
          "metadata": {
            "tags": []
          },
          "execution_count": 3
        }
      ]
    },
    {
      "cell_type": "code",
      "metadata": {
        "colab": {
          "base_uri": "https://localhost:8080/"
        },
        "id": "M7eDj-s7tLYg",
        "outputId": "535f7add-feb9-4afa-d6c3-eec1c1cbe38f"
      },
      "source": [
        "print(ratings_df.shape)\n",
        "print(ratings_df.user_id.nunique())\n",
        "print(ratings_df.book_id.nunique())\n",
        "ratings_df.isna().sum()"
      ],
      "execution_count": 4,
      "outputs": [
        {
          "output_type": "stream",
          "text": [
            "(981756, 3)\n",
            "53424\n",
            "10000\n"
          ],
          "name": "stdout"
        },
        {
          "output_type": "execute_result",
          "data": {
            "text/plain": [
              "book_id    0\n",
              "user_id    0\n",
              "rating     0\n",
              "dtype: int64"
            ]
          },
          "metadata": {
            "tags": []
          },
          "execution_count": 4
        }
      ]
    },
    {
      "cell_type": "markdown",
      "metadata": {
        "id": "jo3oQFlmTJGj"
      },
      "source": [
        "There are 981756 ratings given by 53,424 users to 10,000 books. That means different users have rated multiple books, and each book has been rated by more than one user."
      ]
    },
    {
      "cell_type": "markdown",
      "metadata": {
        "id": "ZK1qY7WpT0qI"
      },
      "source": [
        "Split the data into train and test sets so as to effectively evaluate the model performance"
      ]
    },
    {
      "cell_type": "code",
      "metadata": {
        "colab": {
          "base_uri": "https://localhost:8080/"
        },
        "id": "FsT06sUftZIl",
        "outputId": "bc1dfb34-b3f1-438b-b9b8-3238c5d6fefa"
      },
      "source": [
        "from sklearn.model_selection import train_test_split\n",
        "Xtrain, Xtest = train_test_split(ratings_df, test_size=0.2, random_state=1)\n",
        "print(f\"Shape of train data: {Xtrain.shape}\")\n",
        "print(f\"Shape of test data: {Xtest.shape}\")"
      ],
      "execution_count": 5,
      "outputs": [
        {
          "output_type": "stream",
          "text": [
            "Shape of train data: (785404, 3)\n",
            "Shape of test data: (196352, 3)\n"
          ],
          "name": "stdout"
        }
      ]
    },
    {
      "cell_type": "markdown",
      "metadata": {
        "id": "s81s9-H0UceF"
      },
      "source": [
        "Create a neural network with two input embedding layers. The first embedding layer accepts the books, and the second the users. These two embeddings are trained separately and then combined together before being passed to a dense layer."
      ]
    },
    {
      "cell_type": "code",
      "metadata": {
        "colab": {
          "base_uri": "https://localhost:8080/"
        },
        "id": "6lCmED_VtjVx",
        "outputId": "449a02ad-8eda-42f3-dc76-dd9ee3efe766"
      },
      "source": [
        "# First get the number of unique entities in books and users columns. This forms the vocabulary for the embeddings.\n",
        "nbook_id = ratings_df.book_id.nunique()\n",
        "nuser_id = ratings_df.user_id.nunique()\n",
        "print(nbook_id, nuser_id)"
      ],
      "execution_count": 6,
      "outputs": [
        {
          "output_type": "stream",
          "text": [
            "10000 53424\n"
          ],
          "name": "stdout"
        }
      ]
    },
    {
      "cell_type": "code",
      "metadata": {
        "id": "ZOTv1GcDtzt8"
      },
      "source": [
        "#Book input network\n",
        "input_books = tf.layers.Input(shape=[1])\n",
        "embed_books = tf.layers.Embedding(nbook_id + 1,15)(input_books)\n",
        "books_out = tf.layers.Flatten()(embed_books)\n",
        "\n",
        "#user input network\n",
        "input_users = tf.layers.Input(shape=[1])\n",
        "embed_users = tf.layers.Embedding(nuser_id + 1,15)(input_users)\n",
        "users_out = tf.layers.Flatten()(embed_users)\n",
        "\n",
        "conc_layer = tf.layers.Concatenate()([books_out, users_out])\n",
        "x = tf.layers.Dense(128, activation='relu')(conc_layer)\n",
        "x_out = x = tf.layers.Dense(1, activation='relu')(x)\n",
        "model = tf.Model([input_books, input_users], x_out)"
      ],
      "execution_count": 7,
      "outputs": []
    },
    {
      "cell_type": "markdown",
      "metadata": {
        "id": "pvumvAKKW-IZ"
      },
      "source": [
        "Now that the network has been defined, it is compiled by choosing an optimizer and a loss function. I decided to use an Adam optimizer here with a learning rate of 0.001, and mean squared error as the loss function."
      ]
    },
    {
      "cell_type": "code",
      "metadata": {
        "colab": {
          "base_uri": "https://localhost:8080/"
        },
        "id": "JYJqp2cCuBBp",
        "outputId": "af71e224-02f9-441f-8195-7ff7669f7261"
      },
      "source": [
        "# opt = keras.optimizers.Adam(learning_rate=0.01)\n",
        "\n",
        "opt = tf.optimizers.Adam(learning_rate=0.001)\n",
        "model.compile(optimizer=opt, loss='mean_squared_error')\n",
        "# model.compile(loss='categorical_crossentropy', optimizer=opt)\n",
        "model.summary()"
      ],
      "execution_count": 8,
      "outputs": [
        {
          "output_type": "stream",
          "text": [
            "Model: \"model\"\n",
            "__________________________________________________________________________________________________\n",
            "Layer (type)                    Output Shape         Param #     Connected to                     \n",
            "==================================================================================================\n",
            "input_1 (InputLayer)            [(None, 1)]          0                                            \n",
            "__________________________________________________________________________________________________\n",
            "input_2 (InputLayer)            [(None, 1)]          0                                            \n",
            "__________________________________________________________________________________________________\n",
            "embedding (Embedding)           (None, 1, 15)        150015      input_1[0][0]                    \n",
            "__________________________________________________________________________________________________\n",
            "embedding_1 (Embedding)         (None, 1, 15)        801375      input_2[0][0]                    \n",
            "__________________________________________________________________________________________________\n",
            "flatten (Flatten)               (None, 15)           0           embedding[0][0]                  \n",
            "__________________________________________________________________________________________________\n",
            "flatten_1 (Flatten)             (None, 15)           0           embedding_1[0][0]                \n",
            "__________________________________________________________________________________________________\n",
            "concatenate (Concatenate)       (None, 30)           0           flatten[0][0]                    \n",
            "                                                                 flatten_1[0][0]                  \n",
            "__________________________________________________________________________________________________\n",
            "dense (Dense)                   (None, 128)          3968        concatenate[0][0]                \n",
            "__________________________________________________________________________________________________\n",
            "dense_1 (Dense)                 (None, 1)            129         dense[0][0]                      \n",
            "==================================================================================================\n",
            "Total params: 955,487\n",
            "Trainable params: 955,487\n",
            "Non-trainable params: 0\n",
            "__________________________________________________________________________________________________\n"
          ],
          "name": "stdout"
        }
      ]
    },
    {
      "cell_type": "markdown",
      "metadata": {
        "id": "C4c6eBHdX1GL"
      },
      "source": [
        "Next, the model is fitted, evaluated and plotted to see how well it is doing"
      ]
    },
    {
      "cell_type": "code",
      "metadata": {
        "colab": {
          "base_uri": "https://localhost:8080/"
        },
        "id": "L2mt3nlKud_j",
        "outputId": "4b35d20f-6cb0-4eb9-ae6c-fc3d77d7b95b"
      },
      "source": [
        "hist = model.fit([Xtrain.book_id, Xtrain.user_id], Xtrain.rating, \n",
        "                 batch_size=64, \n",
        "                 epochs=5, \n",
        "                 verbose=1,\n",
        "                 validation_data=([Xtest.book_id, Xtest.user_id], Xtest.rating))"
      ],
      "execution_count": 9,
      "outputs": [
        {
          "output_type": "stream",
          "text": [
            "Epoch 1/5\n",
            "12272/12272 [==============================] - 169s 14ms/step - loss: 1.3459 - val_loss: 0.7136\n",
            "Epoch 2/5\n",
            "12272/12272 [==============================] - 168s 14ms/step - loss: 0.6768 - val_loss: 0.6984\n",
            "Epoch 3/5\n",
            "12272/12272 [==============================] - 171s 14ms/step - loss: 0.6365 - val_loss: 0.6958\n",
            "Epoch 4/5\n",
            "12272/12272 [==============================] - 174s 14ms/step - loss: 0.6069 - val_loss: 0.7156\n",
            "Epoch 5/5\n",
            "12272/12272 [==============================] - 176s 14ms/step - loss: 0.5771 - val_loss: 0.7013\n"
          ],
          "name": "stdout"
        }
      ]
    },
    {
      "cell_type": "code",
      "metadata": {
        "colab": {
          "base_uri": "https://localhost:8080/",
          "height": 281
        },
        "id": "hTqyeeczwZ7R",
        "outputId": "f966b58d-f348-4733-f622-b74b70f44b00"
      },
      "source": [
        "train_loss = hist.history['loss']\n",
        "val_loss = hist.history['val_loss']\n",
        "plt.plot(train_loss, color='r', label='Train Loss')\n",
        "plt.plot(val_loss, color='b', label='Validation Loss')\n",
        "plt.title(\"Train and Validation Loss Curve\")\n",
        "plt.legend()\n",
        "plt.show()"
      ],
      "execution_count": 10,
      "outputs": [
        {
          "output_type": "display_data",
          "data": {
            "image/png": "[encoded data removed]",
            "text/plain": [
              "<Figure size 432x288 with 1 Axes>"
            ]
          },
          "metadata": {
            "tags": [],
            "needs_background": "light"
          }
        }
      ]
    },
    {
      "cell_type": "code",
      "metadata": {
        "colab": {
          "base_uri": "https://localhost:8080/"
        },
        "id": "B3Tsjnitye8Z",
        "outputId": "18f280c1-98bf-442e-e3cd-3c1a8c8d79a0"
      },
      "source": [
        "#save the model\n",
        "model.save('model')"
      ],
      "execution_count": 11,
      "outputs": [
        {
          "output_type": "stream",
          "text": [
            "INFO:tensorflow:Assets written to: model/assets\n"
          ],
          "name": "stdout"
        }
      ]
    },
    {
      "cell_type": "code",
      "metadata": {
        "id": "Ptpewii9y1zO"
      },
      "source": [
        "# Extract embeddings\n",
        "book_em = model.get_layer('embedding')\n",
        "book_em_weights = book_em.get_weights()[0]"
      ],
      "execution_count": 12,
      "outputs": []
    },
    {
      "cell_type": "code",
      "metadata": {
        "colab": {
          "base_uri": "https://localhost:8080/"
        },
        "id": "fROo3AWvy7cc",
        "outputId": "c9e98a29-d0d5-4b20-8e06-210673dc9dec"
      },
      "source": [
        "book_em_weights.shape"
      ],
      "execution_count": 13,
      "outputs": [
        {
          "output_type": "execute_result",
          "data": {
            "text/plain": [
              "(10001, 15)"
            ]
          },
          "metadata": {
            "tags": []
          },
          "execution_count": 13
        }
      ]
    },
    {
      "cell_type": "code",
      "metadata": {
        "colab": {
          "base_uri": "https://localhost:8080/",
          "height": 349
        },
        "id": "QL1eiAzIzD6l",
        "outputId": "ec7b91ea-56d6-4583-fb0d-3232d3bcf156"
      },
      "source": [
        "books_df_copy = books_df.copy()\n",
        "books_df_copy = books_df_copy.set_index(\"book_id\")\n",
        "books_df_copy.head(2)"
      ],
      "execution_count": 14,
      "outputs": [
        {
          "output_type": "execute_result",
          "data": {
            "text/html": [
              "<div>\n",
              "<style scoped>\n",
              "    .dataframe tbody tr th:only-of-type {\n",
              "        vertical-align: middle;\n",
              "    }\n",
              "\n",
              "    .dataframe tbody tr th {\n",
              "        vertical-align: top;\n",
              "    }\n",
              "\n",
              "    .dataframe thead th {\n",
              "        text-align: right;\n",
              "    }\n",
              "</style>\n",
              "<table border=\"1\" class=\"dataframe\">\n",
              "  <thead>\n",
              "    <tr style=\"text-align: right;\">\n",
              "      <th></th>\n",
              "      <th>id</th>\n",
              "      <th>best_book_id</th>\n",
              "      <th>work_id</th>\n",
              "      <th>books_count</th>\n",
              "      <th>isbn</th>\n",
              "      <th>isbn13</th>\n",
              "      <th>authors</th>\n",
              "      <th>original_publication_year</th>\n",
              "      <th>original_title</th>\n",
              "      <th>title</th>\n",
              "      <th>language_code</th>\n",
              "      <th>average_rating</th>\n",
              "      <th>ratings_count</th>\n",
              "      <th>work_ratings_count</th>\n",
              "      <th>work_text_reviews_count</th>\n",
              "      <th>ratings_1</th>\n",
              "      <th>ratings_2</th>\n",
              "      <th>ratings_3</th>\n",
              "      <th>ratings_4</th>\n",
              "      <th>ratings_5</th>\n",
              "      <th>image_url</th>\n",
              "      <th>small_image_url</th>\n",
              "    </tr>\n",
              "    <tr>\n",
              "      <th>book_id</th>\n",
              "      <th></th>\n",
              "      <th></th>\n",
              "      <th></th>\n",
              "      <th></th>\n",
              "      <th></th>\n",
              "      <th></th>\n",
              "      <th></th>\n",
              "      <th></th>\n",
              "      <th></th>\n",
              "      <th></th>\n",
              "      <th></th>\n",
              "      <th></th>\n",
              "      <th></th>\n",
              "      <th></th>\n",
              "      <th></th>\n",
              "      <th></th>\n",
              "      <th></th>\n",
              "      <th></th>\n",
              "      <th></th>\n",
              "      <th></th>\n",
              "      <th></th>\n",
              "      <th></th>\n",
              "    </tr>\n",
              "  </thead>\n",
              "  <tbody>\n",
              "    <tr>\n",
              "      <th>2767052</th>\n",
              "      <td>1</td>\n",
              "      <td>2767052</td>\n",
              "      <td>2792775</td>\n",
              "      <td>272</td>\n",
              "      <td>439023483</td>\n",
              "      <td>9.780439e+12</td>\n",
              "      <td>Suzanne Collins</td>\n",
              "      <td>2008.0</td>\n",
              "      <td>The Hunger Games</td>\n",
              "      <td>The Hunger Games (The Hunger Games, #1)</td>\n",
              "      <td>eng</td>\n",
              "      <td>4.34</td>\n",
              "      <td>4780653</td>\n",
              "      <td>4942365</td>\n",
              "      <td>155254</td>\n",
              "      <td>66715</td>\n",
              "      <td>127936</td>\n",
              "      <td>560092</td>\n",
              "      <td>1481305</td>\n",
              "      <td>2706317</td>\n",
              "      <td>https://images.gr-assets.com/books/1447303603m...</td>\n",
              "      <td>https://images.gr-assets.com/books/1447303603s...</td>\n",
              "    </tr>\n",
              "    <tr>\n",
              "      <th>3</th>\n",
              "      <td>2</td>\n",
              "      <td>3</td>\n",
              "      <td>4640799</td>\n",
              "      <td>491</td>\n",
              "      <td>439554934</td>\n",
              "      <td>9.780440e+12</td>\n",
              "      <td>J.K. Rowling, Mary GrandPré</td>\n",
              "      <td>1997.0</td>\n",
              "      <td>Harry Potter and the Philosopher's Stone</td>\n",
              "      <td>Harry Potter and the Sorcerer's Stone (Harry P...</td>\n",
              "      <td>eng</td>\n",
              "      <td>4.44</td>\n",
              "      <td>4602479</td>\n",
              "      <td>4800065</td>\n",
              "      <td>75867</td>\n",
              "      <td>75504</td>\n",
              "      <td>101676</td>\n",
              "      <td>455024</td>\n",
              "      <td>1156318</td>\n",
              "      <td>3011543</td>\n",
              "      <td>https://images.gr-assets.com/books/1474154022m...</td>\n",
              "      <td>https://images.gr-assets.com/books/1474154022s...</td>\n",
              "    </tr>\n",
              "  </tbody>\n",
              "</table>\n",
              "</div>"
            ],
            "text/plain": [
              "         id  ...                                    small_image_url\n",
              "book_id      ...                                                   \n",
              "2767052   1  ...  https://images.gr-assets.com/books/1447303603s...\n",
              "3         2  ...  https://images.gr-assets.com/books/1474154022s...\n",
              "\n",
              "[2 rows x 22 columns]"
            ]
          },
          "metadata": {
            "tags": []
          },
          "execution_count": 14
        }
      ]
    },
    {
      "cell_type": "code",
      "metadata": {
        "id": "jjxk6OBhzRxv"
      },
      "source": [
        "b_id =list(ratings_df.book_id.unique())\n",
        "b_id.remove(10000)"
      ],
      "execution_count": 15,
      "outputs": []
    },
    {
      "cell_type": "code",
      "metadata": {
        "id": "C7zRqDyfzwIj"
      },
      "source": [
        "dict_map = {}\n",
        "for i in b_id:\n",
        "    dict_map[i] = books_df_copy.iloc[i]['title']\n",
        "    \n",
        "out_v = open('vecs.tsv', 'w')\n",
        "out_m = open('meta.tsv', 'w')\n",
        "\n",
        "for i in b_id:\n",
        "    book = dict_map[i]\n",
        "    embeddings = book_em_weights[i]\n",
        "    out_m.write(book + \"\\n\")\n",
        "    out_v.write('\\t'.join([str(x) for x in embeddings]) + \"\\n\")\n",
        "    \n",
        "out_v.close()\n",
        "out_m.close()"
      ],
      "execution_count": 16,
      "outputs": []
    },
    {
      "cell_type": "code",
      "metadata": {
        "colab": {
          "base_uri": "https://localhost:8080/"
        },
        "id": "IpXZSU2S2kaw",
        "outputId": "471c1629-690b-4048-e0e7-502b22adcfc2"
      },
      "source": [
        "#Making recommendations for user 100\n",
        "book_arr = np.array(b_id) #get all book IDs\n",
        "user = np.array([100 for i in range(len(b_id))])\n",
        "pred = model.predict([book_arr, user])\n",
        "pred"
      ],
      "execution_count": 17,
      "outputs": [
        {
          "output_type": "execute_result",
          "data": {
            "text/plain": [
              "array([[4.2370677],\n",
              "       [4.3490524],\n",
              "       [3.001546 ],\n",
              "       ...,\n",
              "       [4.349995 ],\n",
              "       [4.2017517],\n",
              "       [3.660042 ]], dtype=float32)"
            ]
          },
          "metadata": {
            "tags": []
          },
          "execution_count": 17
        }
      ]
    },
    {
      "cell_type": "code",
      "metadata": {
        "colab": {
          "base_uri": "https://localhost:8080/"
        },
        "id": "d2hZv2nI23Bj",
        "outputId": "fdde29ba-5dd3-4ecb-c9bc-d2ebdba4e5be"
      },
      "source": [
        "pred = pred.reshape(-1) #reshape to single dimension\n",
        "pred_ids = (-pred).argsort()[0:10]\n",
        "pred_ids"
      ],
      "execution_count": 18,
      "outputs": [
        {
          "output_type": "execute_result",
          "data": {
            "text/plain": [
              "array([7946, 7253, 6589, 5206, 8108, 9841, 3752, 3627, 1787, 9565])"
            ]
          },
          "metadata": {
            "tags": []
          },
          "execution_count": 18
        }
      ]
    },
    {
      "cell_type": "code",
      "metadata": {
        "colab": {
          "base_uri": "https://localhost:8080/",
          "height": 974
        },
        "id": "iuvzVGCR3BQQ",
        "outputId": "c9b8cbe6-a14b-4079-ae96-bb3a25a7917a"
      },
      "source": [
        "books_df.iloc[pred_ids]"
      ],
      "execution_count": 19,
      "outputs": [
        {
          "output_type": "execute_result",
          "data": {
            "text/html": [
              "<div>\n",
              "<style scoped>\n",
              "    .dataframe tbody tr th:only-of-type {\n",
              "        vertical-align: middle;\n",
              "    }\n",
              "\n",
              "    .dataframe tbody tr th {\n",
              "        vertical-align: top;\n",
              "    }\n",
              "\n",
              "    .dataframe thead th {\n",
              "        text-align: right;\n",
              "    }\n",
              "</style>\n",
              "<table border=\"1\" class=\"dataframe\">\n",
              "  <thead>\n",
              "    <tr style=\"text-align: right;\">\n",
              "      <th></th>\n",
              "      <th>id</th>\n",
              "      <th>book_id</th>\n",
              "      <th>best_book_id</th>\n",
              "      <th>work_id</th>\n",
              "      <th>books_count</th>\n",
              "      <th>isbn</th>\n",
              "      <th>isbn13</th>\n",
              "      <th>authors</th>\n",
              "      <th>original_publication_year</th>\n",
              "      <th>original_title</th>\n",
              "      <th>title</th>\n",
              "      <th>language_code</th>\n",
              "      <th>average_rating</th>\n",
              "      <th>ratings_count</th>\n",
              "      <th>work_ratings_count</th>\n",
              "      <th>work_text_reviews_count</th>\n",
              "      <th>ratings_1</th>\n",
              "      <th>ratings_2</th>\n",
              "      <th>ratings_3</th>\n",
              "      <th>ratings_4</th>\n",
              "      <th>ratings_5</th>\n",
              "      <th>image_url</th>\n",
              "      <th>small_image_url</th>\n",
              "    </tr>\n",
              "  </thead>\n",
              "  <tbody>\n",
              "    <tr>\n",
              "      <th>7946</th>\n",
              "      <td>7947</td>\n",
              "      <td>5031805</td>\n",
              "      <td>5031805</td>\n",
              "      <td>40769318</td>\n",
              "      <td>96</td>\n",
              "      <td>1433502410</td>\n",
              "      <td>9.781434e+12</td>\n",
              "      <td>Anonymous, Lane T. Dennis, Wayne A. Grudem</td>\n",
              "      <td>2002.0</td>\n",
              "      <td>NaN</td>\n",
              "      <td>ESV Study Bible</td>\n",
              "      <td>eng</td>\n",
              "      <td>4.76</td>\n",
              "      <td>8953</td>\n",
              "      <td>10784</td>\n",
              "      <td>262</td>\n",
              "      <td>98</td>\n",
              "      <td>90</td>\n",
              "      <td>367</td>\n",
              "      <td>1152</td>\n",
              "      <td>9077</td>\n",
              "      <td>https://images.gr-assets.com/books/1410151002m...</td>\n",
              "      <td>https://images.gr-assets.com/books/1410151002s...</td>\n",
              "    </tr>\n",
              "    <tr>\n",
              "      <th>7253</th>\n",
              "      <td>7254</td>\n",
              "      <td>24816</td>\n",
              "      <td>24816</td>\n",
              "      <td>2369970</td>\n",
              "      <td>23</td>\n",
              "      <td>836217691</td>\n",
              "      <td>9.780836e+12</td>\n",
              "      <td>Bill Watterson</td>\n",
              "      <td>1994.0</td>\n",
              "      <td>Homicidal Psycho Jungle Cat: A Calvin and Hobb...</td>\n",
              "      <td>Homicidal Psycho Jungle Cat: A Calvin and Hobb...</td>\n",
              "      <td>eng</td>\n",
              "      <td>4.71</td>\n",
              "      <td>14113</td>\n",
              "      <td>15729</td>\n",
              "      <td>289</td>\n",
              "      <td>13</td>\n",
              "      <td>53</td>\n",
              "      <td>696</td>\n",
              "      <td>2900</td>\n",
              "      <td>12067</td>\n",
              "      <td>https://images.gr-assets.com/books/1448818381m...</td>\n",
              "      <td>https://images.gr-assets.com/books/1448818381s...</td>\n",
              "    </tr>\n",
              "    <tr>\n",
              "      <th>6589</th>\n",
              "      <td>6590</td>\n",
              "      <td>59715</td>\n",
              "      <td>59715</td>\n",
              "      <td>1010526</td>\n",
              "      <td>21</td>\n",
              "      <td>751507954</td>\n",
              "      <td>9.780752e+12</td>\n",
              "      <td>Bill Watterson</td>\n",
              "      <td>1990.0</td>\n",
              "      <td>The Authoritative Calvin and Hobbes</td>\n",
              "      <td>The Authoritative Calvin and Hobbes: A Calvin ...</td>\n",
              "      <td>eng</td>\n",
              "      <td>4.73</td>\n",
              "      <td>16087</td>\n",
              "      <td>18198</td>\n",
              "      <td>425</td>\n",
              "      <td>20</td>\n",
              "      <td>61</td>\n",
              "      <td>701</td>\n",
              "      <td>3295</td>\n",
              "      <td>14121</td>\n",
              "      <td>https://images.gr-assets.com/books/1391114055m...</td>\n",
              "      <td>https://images.gr-assets.com/books/1391114055s...</td>\n",
              "    </tr>\n",
              "    <tr>\n",
              "      <th>5206</th>\n",
              "      <td>5207</td>\n",
              "      <td>24818</td>\n",
              "      <td>24818</td>\n",
              "      <td>946589</td>\n",
              "      <td>28</td>\n",
              "      <td>836217357</td>\n",
              "      <td>9.780836e+12</td>\n",
              "      <td>Bill Watterson</td>\n",
              "      <td>1993.0</td>\n",
              "      <td>The Days Are Just Packed: A Calvin and Hobbes ...</td>\n",
              "      <td>The Days Are Just Packed: A Calvin and Hobbes ...</td>\n",
              "      <td>en-US</td>\n",
              "      <td>4.68</td>\n",
              "      <td>19143</td>\n",
              "      <td>20374</td>\n",
              "      <td>228</td>\n",
              "      <td>114</td>\n",
              "      <td>149</td>\n",
              "      <td>942</td>\n",
              "      <td>3636</td>\n",
              "      <td>15533</td>\n",
              "      <td>https://images.gr-assets.com/books/1418211162m...</td>\n",
              "      <td>https://images.gr-assets.com/books/1418211162s...</td>\n",
              "    </tr>\n",
              "    <tr>\n",
              "      <th>8108</th>\n",
              "      <td>8109</td>\n",
              "      <td>23753</td>\n",
              "      <td>23753</td>\n",
              "      <td>1789924</td>\n",
              "      <td>5</td>\n",
              "      <td>1401210821</td>\n",
              "      <td>9.781401e+12</td>\n",
              "      <td>Neil Gaiman, Mike Dringenberg, Chris Bachalo, ...</td>\n",
              "      <td>2006.0</td>\n",
              "      <td>The Absolute Sandman, Volume One</td>\n",
              "      <td>The Absolute Sandman, Volume One</td>\n",
              "      <td>eng</td>\n",
              "      <td>4.65</td>\n",
              "      <td>13401</td>\n",
              "      <td>13726</td>\n",
              "      <td>476</td>\n",
              "      <td>72</td>\n",
              "      <td>128</td>\n",
              "      <td>684</td>\n",
              "      <td>2744</td>\n",
              "      <td>10098</td>\n",
              "      <td>https://images.gr-assets.com/books/1312226853m...</td>\n",
              "      <td>https://images.gr-assets.com/books/1312226853s...</td>\n",
              "    </tr>\n",
              "    <tr>\n",
              "      <th>9841</th>\n",
              "      <td>9842</td>\n",
              "      <td>24019187</td>\n",
              "      <td>24019187</td>\n",
              "      <td>43618137</td>\n",
              "      <td>12</td>\n",
              "      <td>1250058902</td>\n",
              "      <td>9.781250e+12</td>\n",
              "      <td>Brandon Stanton</td>\n",
              "      <td>2015.0</td>\n",
              "      <td>Humans of New York: Stories</td>\n",
              "      <td>Humans of New York: Stories</td>\n",
              "      <td>eng</td>\n",
              "      <td>4.50</td>\n",
              "      <td>12527</td>\n",
              "      <td>12852</td>\n",
              "      <td>1210</td>\n",
              "      <td>191</td>\n",
              "      <td>211</td>\n",
              "      <td>901</td>\n",
              "      <td>3231</td>\n",
              "      <td>8318</td>\n",
              "      <td>https://images.gr-assets.com/books/1430176879m...</td>\n",
              "      <td>https://images.gr-assets.com/books/1430176879s...</td>\n",
              "    </tr>\n",
              "    <tr>\n",
              "      <th>3752</th>\n",
              "      <td>3753</td>\n",
              "      <td>10</td>\n",
              "      <td>10</td>\n",
              "      <td>21457570</td>\n",
              "      <td>6</td>\n",
              "      <td>439827604</td>\n",
              "      <td>9.780440e+12</td>\n",
              "      <td>J.K. Rowling</td>\n",
              "      <td>2005.0</td>\n",
              "      <td>Harry Potter Collection (Harry Potter, #1-6)</td>\n",
              "      <td>Harry Potter Collection (Harry Potter, #1-6)</td>\n",
              "      <td>eng</td>\n",
              "      <td>4.73</td>\n",
              "      <td>24618</td>\n",
              "      <td>26274</td>\n",
              "      <td>882</td>\n",
              "      <td>203</td>\n",
              "      <td>186</td>\n",
              "      <td>946</td>\n",
              "      <td>3891</td>\n",
              "      <td>21048</td>\n",
              "      <td>https://images.gr-assets.com/books/1328867351m...</td>\n",
              "      <td>https://images.gr-assets.com/books/1328867351s...</td>\n",
              "    </tr>\n",
              "    <tr>\n",
              "      <th>3627</th>\n",
              "      <td>3628</td>\n",
              "      <td>24812</td>\n",
              "      <td>24812</td>\n",
              "      <td>25599</td>\n",
              "      <td>14</td>\n",
              "      <td>740748475</td>\n",
              "      <td>9.780741e+12</td>\n",
              "      <td>Bill Watterson</td>\n",
              "      <td>2005.0</td>\n",
              "      <td>The Complete Calvin and Hobbes</td>\n",
              "      <td>The Complete Calvin and Hobbes</td>\n",
              "      <td>eng</td>\n",
              "      <td>4.82</td>\n",
              "      <td>28900</td>\n",
              "      <td>29968</td>\n",
              "      <td>861</td>\n",
              "      <td>120</td>\n",
              "      <td>154</td>\n",
              "      <td>693</td>\n",
              "      <td>3117</td>\n",
              "      <td>25884</td>\n",
              "      <td>https://images.gr-assets.com/books/1473064526m...</td>\n",
              "      <td>https://images.gr-assets.com/books/1473064526s...</td>\n",
              "    </tr>\n",
              "    <tr>\n",
              "      <th>1787</th>\n",
              "      <td>1788</td>\n",
              "      <td>24813</td>\n",
              "      <td>24813</td>\n",
              "      <td>692719</td>\n",
              "      <td>17</td>\n",
              "      <td>836204387</td>\n",
              "      <td>9.780836e+12</td>\n",
              "      <td>Bill Watterson</td>\n",
              "      <td>1995.0</td>\n",
              "      <td>The Calvin and Hobbes Tenth Anniversary Book</td>\n",
              "      <td>The Calvin and Hobbes Tenth Anniversary Book</td>\n",
              "      <td>eng</td>\n",
              "      <td>4.63</td>\n",
              "      <td>48280</td>\n",
              "      <td>48829</td>\n",
              "      <td>346</td>\n",
              "      <td>346</td>\n",
              "      <td>608</td>\n",
              "      <td>3077</td>\n",
              "      <td>8752</td>\n",
              "      <td>36046</td>\n",
              "      <td>https://s.gr-assets.com/assets/nophoto/book/11...</td>\n",
              "      <td>https://s.gr-assets.com/assets/nophoto/book/50...</td>\n",
              "    </tr>\n",
              "    <tr>\n",
              "      <th>9565</th>\n",
              "      <td>9566</td>\n",
              "      <td>70487</td>\n",
              "      <td>70487</td>\n",
              "      <td>2244439</td>\n",
              "      <td>24</td>\n",
              "      <td>1417642165</td>\n",
              "      <td>9.781418e+12</td>\n",
              "      <td>Bill Watterson</td>\n",
              "      <td>1992.0</td>\n",
              "      <td>Attack of the Deranged Mutant Killer Monster S...</td>\n",
              "      <td>Attack of the Deranged Mutant Killer Monster S...</td>\n",
              "      <td>eng</td>\n",
              "      <td>4.72</td>\n",
              "      <td>9713</td>\n",
              "      <td>12197</td>\n",
              "      <td>233</td>\n",
              "      <td>15</td>\n",
              "      <td>30</td>\n",
              "      <td>514</td>\n",
              "      <td>2292</td>\n",
              "      <td>9346</td>\n",
              "      <td>https://images.gr-assets.com/books/1384735429m...</td>\n",
              "      <td>https://images.gr-assets.com/books/1384735429s...</td>\n",
              "    </tr>\n",
              "  </tbody>\n",
              "</table>\n",
              "</div>"
            ],
            "text/plain": [
              "        id  ...                                    small_image_url\n",
              "7946  7947  ...  https://images.gr-assets.com/books/1410151002s...\n",
              "7253  7254  ...  https://images.gr-assets.com/books/1448818381s...\n",
              "6589  6590  ...  https://images.gr-assets.com/books/1391114055s...\n",
              "5206  5207  ...  https://images.gr-assets.com/books/1418211162s...\n",
              "8108  8109  ...  https://images.gr-assets.com/books/1312226853s...\n",
              "9841  9842  ...  https://images.gr-assets.com/books/1430176879s...\n",
              "3752  3753  ...  https://images.gr-assets.com/books/1328867351s...\n",
              "3627  3628  ...  https://images.gr-assets.com/books/1473064526s...\n",
              "1787  1788  ...  https://s.gr-assets.com/assets/nophoto/book/50...\n",
              "9565  9566  ...  https://images.gr-assets.com/books/1384735429s...\n",
              "\n",
              "[10 rows x 23 columns]"
            ]
          },
          "metadata": {
            "tags": []
          },
          "execution_count": 19
        }
      ]
    },
    {
      "cell_type": "code",
      "metadata": {
        "colab": {
          "base_uri": "https://localhost:8080/",
          "height": 289
        },
        "id": "C-C2b_G73Z7I",
        "outputId": "c8a8ccbc-b9ff-437a-d2da-41d3c601484e"
      },
      "source": [
        "web_book_data = books_df[[\"book_id\", \"title\", \"image_url\", \"authors\"]]\n",
        "web_book_data = web_book_data.sort_values('book_id')\n",
        "web_book_data.head()"
      ],
      "execution_count": 23,
      "outputs": [
        {
          "output_type": "execute_result",
          "data": {
            "text/html": [
              "<div>\n",
              "<style scoped>\n",
              "    .dataframe tbody tr th:only-of-type {\n",
              "        vertical-align: middle;\n",
              "    }\n",
              "\n",
              "    .dataframe tbody tr th {\n",
              "        vertical-align: top;\n",
              "    }\n",
              "\n",
              "    .dataframe thead th {\n",
              "        text-align: right;\n",
              "    }\n",
              "</style>\n",
              "<table border=\"1\" class=\"dataframe\">\n",
              "  <thead>\n",
              "    <tr style=\"text-align: right;\">\n",
              "      <th></th>\n",
              "      <th>book_id</th>\n",
              "      <th>title</th>\n",
              "      <th>image_url</th>\n",
              "      <th>authors</th>\n",
              "    </tr>\n",
              "  </thead>\n",
              "  <tbody>\n",
              "    <tr>\n",
              "      <th>26</th>\n",
              "      <td>1</td>\n",
              "      <td>Harry Potter and the Half-Blood Prince (Harry ...</td>\n",
              "      <td>https://images.gr-assets.com/books/1361039191m...</td>\n",
              "      <td>J.K. Rowling, Mary GrandPré</td>\n",
              "    </tr>\n",
              "    <tr>\n",
              "      <th>20</th>\n",
              "      <td>2</td>\n",
              "      <td>Harry Potter and the Order of the Phoenix (Har...</td>\n",
              "      <td>https://images.gr-assets.com/books/1387141547m...</td>\n",
              "      <td>J.K. Rowling, Mary GrandPré</td>\n",
              "    </tr>\n",
              "    <tr>\n",
              "      <th>1</th>\n",
              "      <td>3</td>\n",
              "      <td>Harry Potter and the Sorcerer's Stone (Harry P...</td>\n",
              "      <td>https://images.gr-assets.com/books/1474154022m...</td>\n",
              "      <td>J.K. Rowling, Mary GrandPré</td>\n",
              "    </tr>\n",
              "    <tr>\n",
              "      <th>17</th>\n",
              "      <td>5</td>\n",
              "      <td>Harry Potter and the Prisoner of Azkaban (Harr...</td>\n",
              "      <td>https://images.gr-assets.com/books/1499277281m...</td>\n",
              "      <td>J.K. Rowling, Mary GrandPré, Rufus Beck</td>\n",
              "    </tr>\n",
              "    <tr>\n",
              "      <th>23</th>\n",
              "      <td>6</td>\n",
              "      <td>Harry Potter and the Goblet of Fire (Harry Pot...</td>\n",
              "      <td>https://images.gr-assets.com/books/1361482611m...</td>\n",
              "      <td>J.K. Rowling, Mary GrandPré</td>\n",
              "    </tr>\n",
              "  </tbody>\n",
              "</table>\n",
              "</div>"
            ],
            "text/plain": [
              "    book_id  ...                                  authors\n",
              "26        1  ...              J.K. Rowling, Mary GrandPré\n",
              "20        2  ...              J.K. Rowling, Mary GrandPré\n",
              "1         3  ...              J.K. Rowling, Mary GrandPré\n",
              "17        5  ...  J.K. Rowling, Mary GrandPré, Rufus Beck\n",
              "23        6  ...              J.K. Rowling, Mary GrandPré\n",
              "\n",
              "[5 rows x 4 columns]"
            ]
          },
          "metadata": {
            "tags": []
          },
          "execution_count": 23
        }
      ]
    },
    {
      "cell_type": "code",
      "metadata": {
        "id": "ln50K9wx3zr3"
      },
      "source": [
        "web_book_data.to_json(r'web_book_data.json', orient='records')"
      ],
      "execution_count": 21,
      "outputs": []
    }
  ]
}