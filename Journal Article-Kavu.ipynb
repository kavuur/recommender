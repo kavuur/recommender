{
 "cells": [
  {
   "cell_type": "markdown",
   "metadata": {},
   "source": [
    "# Holistic User Context-Aware Recommendation Approach\n"
   ]
  },
  {
   "cell_type": "markdown",
   "metadata": {},
   "source": [
    "$Tatenda D Kavu^{1}$ , $Kudakwashe Dube^2$, $Peter Raeth^3$"
   ]
  },
  {
   "cell_type": "markdown",
   "metadata": {},
   "source": [
    "Targeted Journal : https://toit.acm.org/ Download , latex template of the journal General paper structure: 1. Problem: Aim and Objective; 2. Related Works (Lit Review); 3. Methodology: 4. Theory and approach; 5. Design of experiments; 6. Results of experiments; 7. Analysis of Results; 8. Discussion; 9. Conclusion\n"
   ]
  },
  {
   "cell_type": "markdown",
   "metadata": {},
   "source": [
    "#### Abstract\n"
   ]
  },
  {
   "cell_type": "markdown",
   "metadata": {},
   "source": [
    "Many recommendation strategies have been investigated and implemented  as reviewed in literature mainly by recommender systems handbooks. However there is a general consensus among researchers and industrialists as demonstrated in the literature, that new recommendation methods still need to be investigated because of recurrent challenges emanating from the existing algorithms. A detailed literature investigation that we carried reviewed that existing algorithms lack  1)adequate adaptation to dynamic user preferences , 2) human focus or  user-centricity (user factors which satisfy users do lack in recommendation strategies) 3) adequate novel and serendipitous recommendations. A further investigation of literature entails that users or humans when interacting with computer systems are driven by decision making processes. The decision making processes influence behavior such as 1) user decision-making (for example buying a product or reading an article), 2) user-experience  and 3) user-interaction. The key drivers of the user decision-making process is the user’s social, cultural,  psychological and economic context . An HUC(Holistic User Context-aware) algorithm was introduced that incorporate  user’s contextual profile or knowledge to generate recommendations. The HUC algorithm was implemented on a social network and evaluated using online experimental evaluations, and the results demonstrate that to a greater extent the recurrent problem can be solved, given that an algorithm incorporate  holistic contextual knowledge to generate recommendations."
   ]
  },
  {
   "cell_type": "markdown",
   "metadata": {},
   "source": [
    "**Keywords**: User-centric, social,cultural,economic,psychological,algorithm, recommender systems"
   ]
  },
  {
   "cell_type": "markdown",
   "metadata": {},
   "source": [
    "## 1. Introduction  \n"
   ]
  },
  {
   "cell_type": "markdown",
   "metadata": {},
   "source": [
    "Recommender algorithms are generally limited to cope up with the dynamics of user preferences (Beel et al., 2015), (Isinkaye et al., 2015). In current recommender systems adaptive learning is basically derived from computing neighbourhood of a user from ratings using distance functions such as pearson correlation function  and euclidean distance function . Therefore adaptation will be mainly the by-product of the neighbourhood computation, if a user rate something new his/her neighbourhood changes therefore the recommendations got by this user is likely to change. Preferences which are inferred from user actions only are not adequate to deduce sound user-centric preferences(Tintarev et al., 2014). Moreover, recommender algorithms lack significant novel and serendipitous recommendations  (Saúl Vargas Sandoval, 2016)  . Due to the  arising challenges, we investigated the root of these problems and found that, recommender algorithms are biased significantly towards system-centric factors such as (accuracy, diversity, scalability), lacking incorporation of knowledge from user-centric factors (user-experience, user decision making processes, user-interaction, user-context, novelty and serendipity). Therefore, we developed a unique method of incorporating user’s decision making knowledge into a recommender algorithm . The recommender algorithm was tested using an online evaluation approach."
   ]
  },
  {
   "cell_type": "markdown",
   "metadata": {},
   "source": [
    "## 2. Purpose/Aim"
   ]
  },
  {
   "cell_type": "markdown",
   "metadata": {},
   "source": [
    "The main aim is to solve recurrent problems and to find out, if  the HUC algorithm can cope with the dynamics of user’ preferences with time , and does it offer novel and serendipitous recommendations. "
   ]
  },
  {
   "cell_type": "markdown",
   "metadata": {},
   "source": [
    "## 3. Hypothesis"
   ]
  },
  {
   "cell_type": "markdown",
   "metadata": {},
   "source": [
    "A context-aware recommender algorithm that takes contextual user profile in the form of  social, cultural, psychological and economic profile, together with user-actioned items, can offer, to a greater extent, dynamic, novel and serendipitous recommendations to any user as compared to any algorithm that uses ratings and actioned items only for recommendations. "
   ]
  },
  {
   "cell_type": "markdown",
   "metadata": {},
   "source": [
    "## 4. Related Work "
   ]
  },
  {
   "cell_type": "markdown",
   "metadata": {},
   "source": [
    "Modeling the contextual information about a user enable the recommendation engine to provide more reasonable recommendations for users (Lei Li,2014) and context-adaptation is one major goal of session-aware recommendation engines (MASSIMO QUADRANA,2018). Contextual features of a user such as time,location are quite important in recommending novel and serendipitous recommendations. \n",
    "\n",
    "\n",
    "It is a well known fact from decision science that a decision made speak a lot especially about the decision maker’s values (Buchanan and O’Connell, 2006).This means if a user choose an item or prefer an item , it means people with the same values with this particular user are likely to be interested in this particular item and any other items that this user preferred. Moreover Users first of all identify the need of an item, then they search for it and evaluate alternatives from the search before purchase (Karimi, 2013).They then purchase it and finally experience satisfaction or otherwise (post-purchase behavior).Understanding users on recommender systems is the key issue for better recommendations, so that user can be advised at the right place at the right time with the right message (Court et al., 2009).Summarising all conceptual issues that deals with the theoretical derivations of  user preferences, it has become imperative from current researches including the ones noted in literature that ,users are influenced with significant factors like economic status, psychological status( mood for example), cultural values, social status  when choosing an item  or a service."
   ]
  },
  {
   "cell_type": "markdown",
   "metadata": {},
   "source": [
    "There are algorithms designed to incorporate time in their recommendations strategies, due to the fact that in some circumstances a recommendation that is relevant in the morning context, may not be relevant in the evening and vice versa (Agrawal, 2016). In Clothing industry, clothes needed during summer and winter may be different. Time can be aggregated such that it can be classified in daily periods for instance{morning, afternoon, evening} or seasonal periods such as {summer,winter,spring,autumn} or event periods such as{christmas,new year, schools opening e.tc}. Recently recommender algorithms have been designed which incorporate time(Y. Koren,2010)(Joeran Beel,2017) , however an algorithm that can incorporate all important decision making factors famously{social, cultural, psychological and economic factors} have not been found yet. From a recency perspective, the basic idea is that recent ratings are more important than older ratings (Agrawal,2016).Users generally select content items for consumption based on current desires or preferences at the time of selection. Such desires or preferences, however, often fluctuate over time, causing the user to manually select different content (Kamor kapoor et.al,2015). Psychological preference states of users can be represented as knowledge and be simulated as an algorithm with respect to selection of items presented to the user."
   ]
  },
  {
   "cell_type": "markdown",
   "metadata": {},
   "source": [
    "\n",
    "(Saúl Vargas Sandoval, 2016) did a phenomenal series of researches and proved that there was  no significant groundwork that has been done before on novelty. He came up with a  unified framework for novelty and diversity, this came from an integration of different mathematical models that describe novelty and diversity. He build the framework on the argument that novelty and diversity is inextricably interrelated.It is quite recognizable that computation of novel recommendations is done during the time of ranking the recommended list. The recommended list is played around with to make sure that the final list is novel and diverse. "
   ]
  },
  {
   "cell_type": "markdown",
   "metadata": {},
   "source": [
    "(Kibeom Lee and , Kyogu Lee,2014) also proposed an algorithm to provide novel recommendations where by a new graph-based recommender algorithm was developed that uses only positively rated items in users’ profiles to construct a highly-connected, undirected graph, with items as nodes and positive correlations as edges. Therefore using the concept of entropy and the linked items in the graph, the proposed algorithm was able to find recommendations that are both novel and relevant.\n",
    "\n",
    "The strategy of computing novel recommendations seems to be satisfactory from the status quo , but the argument still exist that serendipity is even more beneficial than novelty because it create new preferences to the user, thereby driving a user to make decisions in favor of the recommender algorithm.(M ONA T AGHAVI, 2017) argued that new methods of extracting implicit information about the users from their daily activities can be used as well as exploring alternate options of ranking and recommending items to the users by\n",
    "considering several criteria and that's the path that this research article took. \n"
   ]
  },
  {
   "cell_type": "markdown",
   "metadata": {},
   "source": [
    "## 5. Materials and Methods "
   ]
  },
  {
   "cell_type": "markdown",
   "metadata": {},
   "source": [
    "### Relevant Theory"
   ]
  },
  {
   "cell_type": "markdown",
   "metadata": {},
   "source": [
    "#### Key Concepts ,Terms and Principles"
   ]
  },
  {
   "cell_type": "markdown",
   "metadata": {},
   "source": [
    "The user’s context supplies substantial information about that particular user. Context in this case include factors like time that a user interacts with a recommender system, user’s social or cultural background(is the user in Europe,America,Africa  or Asia). Context can also involve user’s mood at  particular time(mood can be affected by events like birthday, graduation day or funeral time), context can also involve one’s economic status(which include type of profession,social class, possessions etc.) .Therefore given that a recommender algorithm have access to user’s contextual information, that recommender algorithm should at least be able to give reasonable,unique and novel recommendations to the user. \n"
   ]
  },
  {
   "cell_type": "markdown",
   "metadata": {},
   "source": [
    "Recommender system users are naturally found in different contexts(Knijnenburg et al., 2012) ,(Agrawal,2016). User’s taste or behavior can be affected by many contextual circumstances of the user for instance social life, mood, cultural background, economic status, location and other factors like time(such as weekdays, weekends, holidays)(Agrawal,2016). The  geographical location of a user can have a significant influence on her preferences in terms of taste, culture, clothing, eating habits, and so on(J. Levandoski et.al,2012). From an extensive review of literature , we found out that the user contextual phenomenon can be classified into four classes .These classes are social, cultural, psychological and economic. If a user is in a certain social or cultural context , that user has particular needs. The same when a user is in a certain mood(psychological status) that user will like or dislike certain items(Kamor kapoor et.al,2015). If a user is in a certain economic status or context, that user is able or not able to afford certain items. It also entails that if the user’s social status or economic status changes he/she now have different preferences or taste, the user’s taste can also be affected by location change and change of mood  . Therefore a recommender algorithm, must take all the four contextual classes into consideration, to be able to offer dynamic, novel and serendipitous recommendations to users. "
   ]
  },
  {
   "cell_type": "markdown",
   "metadata": {},
   "source": [
    "#### Principles behind Computations"
   ]
  },
  {
   "cell_type": "markdown",
   "metadata": {},
   "source": [
    "The main principle behind the computation of the HUC algorithm is that users in the same context that is  the same social, cultural, psychological and economic context are likely are to have the same taste or similar set of preferences. There are similarity functions like  jaccard similarity function, pearson correlation function and euclidean distance function which can be used to find the contextual similarity of users, using their profiles . Table 1 , shows the comparison of these similarity measure functions."
   ]
  },
  {
   "cell_type": "markdown",
   "metadata": {},
   "source": [
    "<font size=2><I>**Table 1:** Comparison of Similarity Measure Metric Functions</I></font>"
   ]
  },
  {
   "cell_type": "markdown",
   "metadata": {
    "collapsed": true
   },
   "source": [
    "|**Jaccard Similarity Function**|**Euclidean Distance Function**|**Cosine Function**|**Pearson Correlation Function**|\n",
    "|---------|---------|---------|-------------|\n",
    "|Measuring Similarity of finite sets|Measure Distance between data points|Is a distance measure function|Measure of linear correation between two variables X and Y|\n",
    "|Can work with strings|Work with vectors of real numbers|Work with vectors with integer components|Work with linear correlational relationships and real numbers only|\n",
    "|Easy to work with social media profiles|Computationally expensive, when dealing with social media data|Weak in clustering algorithms|Weak when dealing with complex relationships among data points|\n",
    "|Best for content-based recommendations|Good for collaborative filtering algorithms|Good for collaborative filtering algorithms|Good for collaborative filtering algorithms|"
   ]
  },
  {
   "cell_type": "markdown",
   "metadata": {},
   "source": [
    "We chose jaccard because of the nature of the input data to the HUC algorithm. Jaccard is a simple statistic used for comparing the similarity and diversity of sample sets. It is a similarity distance measure similar to other methods of measuring similarity such as euclidean distance, Pearson's Correlation Coefficient,  cosine similarity function.Its main advantage in this case is, it is best applicable in measuring the similarity of finite sets, we can put profiles into sets and easily compare sets in databases as a way  to find out similar profiles .The Jaccard index is  a measure of similarity between sample sets and produces a value between 0 and 1.0 inclusive. It was introduced by Jaccard, the late professor of botany (Mahmud Ridwan,2014). Many developers of recommender systems have  used jaccard similarity to find the similarity between different types of sets especially in content based recommender systems where it is used to  measure the similarity of two documents(Jenson 2015). These are some of the published work where Jaccard was used, (Suchismit Mahapatra et.al, 2015), (Marta Millan et.al, 2007), and (Ranveer Singh et.al, 2015), (Prabhat Kumar and Sherry Chalotra, 2015), (Sridhar Dilip Sondur et.al,2016), ( Jure Leskovec et.al,2014) , ( Suchismit Mahapatra et.al,2015)."
   ]
  },
  {
   "cell_type": "markdown",
   "metadata": {},
   "source": [
    "##### Graphical Representation of the Computational Theory"
   ]
  },
  {
   "cell_type": "markdown",
   "metadata": {},
   "source": [
    "Similarity computation can be performed to find a  link or similarity between user profiles. Using the graph theory a graph is defined as a an ordered triple (V(G), E(G), φG). Where  V( G) is a nonempty set of vertices(where vertices are users profiles in this case), E( G) is a set of edges(edges are a representation of similarities) and φG that associates with each edge of G is  an unordered pair of (not necessarily distinct) vertices of G. φG is therefore the jaccard similarity coefficient value  that depicts the similarity between two vertices.  If e is an edge and u and v are vertices such that φG(e) =uv=0.9, then e is said to be  joining  u and v; 0.9 shows the similarity value of the two vertices and depict that u and v are very similar."
   ]
  },
  {
   "cell_type": "markdown",
   "metadata": {},
   "source": [
    "Therefore:\n",
    "\n",
    "G=(V(G), E(G), φG)\n",
    "V( G)={user1, user2, user3, user4, user5, user6, user7 ,user8}\n",
    "E(G)= {e1, e2, e3, e4, e5,e6,e7}\n",
    "\n",
    "Suppose at some unique time t  φG is depicted as follows:\n",
    "\n",
    "φG(e1)= user1 user2=0.8, φG(e2)= user1 user3=0.7, φG(e3)= user4 user2=0.1, \n",
    "φG(e4)= user5 user6=0.5, φG(e5)= user3 user4=0.3, φG(e6)= user4 user7=0.5, \n",
    "φG(e7)= user4 user8=0.6"
   ]
  },
  {
   "cell_type": "markdown",
   "metadata": {},
   "source": [
    "                Depicting the scenario above as a graph :"
   ]
  },
  {
   "cell_type": "markdown",
   "metadata": {},
   "source": [
    "<img src=\"Jaccard.png\" alt=\"Drawing\" style=\"width: 500px;\"/>\n",
    "   **Figure 1**  :Similarity of user profiles"
   ]
  },
  {
   "cell_type": "markdown",
   "metadata": {},
   "source": [
    "If user profiles have a similarity with a range of 0.5-1 , it means these users are similar , they are in the same context and are likely to be interested in the same items. Therefore from figure 1, user4  will be recommended items actioned by users 7 and 8 . Looking at the graph, we can conclude that user8 and user7 are likely to be similar since they are both similar to user4. Given that they have recent actions performed on the system according to the HUC algorithm, both they are likely to be recommended items actioned by user4. If the recommender system is deployed on a social network then user8 is likely to be recommended user7 as a potential friend or a potential client. "
   ]
  },
  {
   "cell_type": "markdown",
   "metadata": {},
   "source": [
    "#### The HUC Recommender Algorithm"
   ]
  },
  {
   "cell_type": "markdown",
   "metadata": {},
   "source": [
    "**Vectors:**\n"
   ]
  },
  {
   "cell_type": "markdown",
   "metadata": {},
   "source": [
    "$P_i$ = tuple(s, c, p, e) (a profile for user i)<br>\n",
    "s = tuple($a_1$, …, $a_7$), where $a_i$ is a social attribute (relationship-status,age-range, gender, education, likes, political-affiliation, social status)<br>\n",
    "c = tuple($c_1$, …, $c_5$), where $c_i$ is a cultural attribute  (religion, current-location, home-town, timezone/time-period, language)<br>\n",
    "p = tuple($p_1$, …, $p_4$) where $p_i$  is a psychological attribute  (birthday, friends-birthday, movies, upcoming-events)<br>\n",
    "e = tuple($e_1$, …, $e_5$) where $e_i$  is a economic attribute  (currency, work-history, profession, residential-category)\n"
   ]
  },
  {
   "cell_type": "markdown",
   "metadata": {},
   "source": [
    "**Sets:** "
   ]
  },
  {
   "cell_type": "markdown",
   "metadata": {},
   "source": [
    "I   = {x:x is an item/product} <br>\n",
    "$I_r$  ={x:x ∈ I AND recommended to $P_u$}\t<br>\n",
    "U = {x: x = $P_u$, where $P_u$ is a profile for user u}<br>\n",
    "O = {x: x ∈ $U_o$, where 0 is an old user profile}<br>\n",
    "R = {x: x ∈ U AND x is an active user}<br>\n",
    "N= {x: x ∈ $U_n$, where n is a new user profile}<br>\n",
    "M = {x: x ∈ R  AND Similarity(xi, xj) ≧ n, where n is 0.5,  ∀  i, j}<br>\t\n",
    "Check if user u has previously expressed interest in product i:<br>\n",
    "\tx ∈ Boolean,  isActive(u,i) = x,  u ∈ U AND i ∈ I  <br> "
   ]
  },
  {
   "cell_type": "markdown",
   "metadata": {},
   "source": [
    "**Derivative expressions:** <br>\n",
    "R ⊆ U, U = O ⋃ N and M ⊆ R\n"
   ]
  },
  {
   "cell_type": "markdown",
   "metadata": {},
   "source": [
    "**ComputeRecommendations(M=(ComputeSimilarProfile(u, O)),I,u):**<br>\n",
    "INPUT: \t  M(set of profiles similar to profile u),I(set of items actioned by M),         u(profile of user),O(set of old profiles) <br>\n",
    "OUTPUT:     $I_r$ (items recommended to u)<br>\n",
    "**Begin**\n",
    "> wanted_Items ← **ComputeItemsActionedbySimilarProfile(M,I,u)**<br>\n",
    "      $I_r$  ← I ⋃ wanted_Items<br>\n",
    "      return $I_r$<br>\n",
    "      \n",
    "**End**\n"
   ]
  },
  {
   "cell_type": "markdown",
   "metadata": {},
   "source": [
    "**ComputeSimilarProfile(u, O):** <br>\n",
    "INPUT:\tu (profile of user) , O  (set of old profiles) <br>\n",
    "OUTPUT: \tM (set of profiles similar to profile u) <br>\n",
    "**Begin** <br>\n",
    "> C ← **computeProfileClassSet(u,O)** <br>\n",
    "      R ← {r: r ∈ C and **isActive(r,I)**}; <br>\n",
    "      k ← 0.5; (Jaccard coefficient threshold for highly similar profiles) <br>\n",
    "      M ← {m: m ∈ R AND **JaccardSimilarity(m, u)** ≥ k, ∀m}; <br>\n",
    "      return M;  <br>\n",
    "      \n",
    "**End **"
   ]
  },
  {
   "cell_type": "markdown",
   "metadata": {},
   "source": [
    "**ComputeItemsActionedbySimilarProfile(M,I,u):**<br>\n",
    "INPUT: \tM(set of profiles similar to profile u),u(profile of user),\tI(set of items actioned by M) <br>\n",
    "OUTPUT: \t$I_t$(set of items actioned by T)<br>\n",
    "**Begin**\n",
    "> freqSet ← **Apriori(M,I,u)**<br>\n",
    "        T ← {t:(t∈ M AND (**isActive(t,freqSet)**) }<br>\n",
    "        It ← {i: **isActive(T,i)**, i ∈ (I U freqSet)}<br>\n",
    "        return $I_t$<br>\n",
    "        \n",
    "**End**"
   ]
  },
  {
   "cell_type": "markdown",
   "metadata": {},
   "source": [
    "**ComputeProfileClassSet(u,O):**<br>\n",
    "INPUT:\t\tu(profile of user), O(set of old profiles)<br>\n",
    "OUTPUT:\t\t$O_d$(set of profiles in same class as u )<br>\n",
    "**Begin**     \n",
    ">T ← {x:x is a user attribute}<br>\n",
    "     O ← {x: x = tuple($v_1$,...,$v_n$), $v_i$ ∈ Dom($a_i$), $a_i$ ∈ T, i=1,2,...,n, n=|T|}<br>\n",
    "     $V_O$ ← {x:x ∈ $Dom_O$($a_i$), $a_i$ ∈ T and ∃$v_{a_{i}}$:x = $v_{a_{i}}$ ∈ tuple, some tuple ∈ O }\n",
    "     // all distinct values of $a_i$ in O\n",
    "      <br>\n",
    "     $g_{a_{i}}$ ← **Entropy(O)** - $Σ_{x∈V_{o}}$(|$O_x$|/|$O_{a_{i}}$|.**Entropy($O_x$)**)<br>\n",
    "     $G_o$ ← {tuple(x,y): y=$g_{a_{i}}$ i=1,2,...,n, n=|T|, ∃$a_i$:$a_i$= x ∈ T }<br>\n",
    "     $O_d$ ← {p:p ∈ O, ∀$p_{a_{i}}$  ∈ p ∃$a_i$:$g_{a_{i}}$ =$max_y$($G_o$)}<br>\n",
    "    return $O_d$<br> \n",
    "    \n",
    "**End**\n"
   ]
  },
  {
   "cell_type": "markdown",
   "metadata": {},
   "source": [
    "**isActive(u,i):**<br>\n",
    "INPUT:\t\tu(profile of user),\ti(item or set of items)\t\t\n",
    "OUTPUT: \tisActive(True or False)<br>\n",
    "**Begin**<br>\n",
    ">isActive🠔False <br> \n",
    " ACTIONS🠔{click,search,rate,bought}<br>\n",
    " A 🠔 {x:x is a recent action on item i by u AND x ∈ ACTIONS }<br>\n",
    " if (A≠∅) # is A empty ? <br>\n",
    " isActive🠔True  \n",
    "return isActive<br>\n",
    "\n",
    "**End**"
   ]
  },
  {
   "cell_type": "markdown",
   "metadata": {},
   "source": [
    "**JaccardSimilarity($u_i$,$u_j$)**<br>\n",
    "INPUT:    \t$u_i$(profile of user),$u_j$(profile of user)<br>\n",
    "OUTPUT:\t\tk(similarity value)<br>\n",
    "**Begin**\n",
    "> k ←[($u_i$ ⋂ $u_j$)/ ($u_i$ ⋃ $u_j$)]  (Mahmud Ridwan,2014)<br>\n",
    "    return k<br>\n",
    "    \n",
    "**End**"
   ]
  },
  {
   "cell_type": "markdown",
   "metadata": {},
   "source": [
    "**Apriori(M,$I_m$,u):**<br>\n",
    "INPUT:\t\tM(set of profiles similar to profile u),$I_m$(set of sets of items actioned by M),u(profile of user)<br>\n",
    "OUTPUT:           F(set of items frequently actioned by M)\t\n",
    "**Begin**<br>\n",
    "> k ← 25%;(support threshold)<br>\n",
    "      $I_m$ ← {X:X∈ℙ(I) AND **isActive(M,X)**,∀X}<br>\n",
    "      FrequentSets ← {X:**Support(X,|$I_m$|)**>=k, X∈$I_m$}<br>\n",
    "      F ← {i: i ∈ X, X ∈ FrequentSets,∀X}<br>\n",
    "      return F<br>\n",
    "      \n",
    "**End**"
   ]
  },
  {
   "cell_type": "markdown",
   "metadata": {},
   "source": [
    "**Entropy(O):**<br>\n",
    "INPUT:\t\tO(set of old profiles)<br>\n",
    "OUTPUT:\t\tEntropy Value<br>\n",
    "**Begin**<br>\n",
    "> Entropy ← — (|$O_+$|/|O|) Log2 (|$O_+$|/|O|) — (|$O_-$|/|O|) Log2 (|$O_-$|/|O|) )\n",
    "     // $O_+$ number of profiles in O with positive actions <br>\n",
    "\treturn Entropy<br>\n",
    "    \n",
    "**End**"
   ]
  },
  {
   "cell_type": "markdown",
   "metadata": {},
   "source": [
    "**Support(X,|$I_m$|):**<br>\n",
    "INPUT:\t\tX(set of items),|$I_m$|(number of items transacted)<br>\n",
    "OUTPUT:           $S_{ratio}$(support ratio of X)<br>\n",
    "**Begin**\n",
    "> count=0 <br>\n",
    "             for all i in $I_m$  \n",
    "                { if(i==X)<br>\n",
    "                     {count=count+1}}<br>\n",
    "             Sratio= (count/|$I_m$|)* 100<br>\n",
    "             return $S_{ratio}$ <br>\n",
    "       \n",
    "**End**"
   ]
  },
  {
   "cell_type": "markdown",
   "metadata": {},
   "source": [
    "## Computational Efficiency"
   ]
  },
  {
   "cell_type": "markdown",
   "metadata": {
    "collapsed": true
   },
   "source": [
    "Given that there are more than a million active users, it becomes computationally expensive to calculate the jaccard similarity between the concerned useri with the rest of the active users. Moreover novelty and serendipity mostly is realised when using active profiles to compute neighbourhoods, generally when scalability increases efficiency and robustness of the algorithm is  affected. Therefore using active users only , can be the first step to trim down the dataset that will be used to compute neighbourhood.  \n",
    "\n",
    "If the dataset of active users on the platform is now in place, another method of trimming down the dataset should be in place as well. We deliberated on classification and clustering algorithms such as k-means clustering, k-nn nearest neighbour and decision trees. Decision trees was found to be be the best method of classifying profiles efficiently because of the nature of the data being used to compute neighbourhoods. Since the data comes as sets , it will be best to do dynamic classification of profiles using decision trees. When a new user comes in , he/she will be placed in a specific class,  and from that class another computation will  be done to compute his/her neighbourhood using the jaccard similarity metric. This method reduce the computational time very significantly. Moreover classes will be non-static as well since the user’s profiles will be updated by the users activities , this will lead to new class computations and users can be move from one class to another. This will give raise to  chances of getting recommendations from  new set of profiles. \n"
   ]
  },
  {
   "cell_type": "markdown",
   "metadata": {},
   "source": [
    "### Time Complexities "
   ]
  },
  {
   "cell_type": "markdown",
   "metadata": {},
   "source": [
    "\n",
    "The time complexity of the classification algorithm(computeProfileClassSet) algorithm is as follows:<br>\n",
    "n=|O|,m=|$G_o$|,d=|$O_d$|,k=constant<br> ,e=|A|,T(Entropy(o)=1,T($Σ_{x∈V_{o}}$(|$O_x$|/|$O_{a_{i}}$|.**Entropy($O_x$)**))=k<br>\n",
    "T($G_o$)= 1+e*k,T(max)=n,T($O_d$)=n<br>\n",
    "T(computeProfileClassSet)=1+e*k+n+n<br>\n",
    "O(1+e*k+n+n)=e+n+n≈**O(n)***<br>\n",
    "\n",
    "Time complexity for(ComputeSimilarProfile) algorithm: <br>\n",
    "n = |O|,m = |R|,T(computeProfileClassSet(u,O)), O(n),T(JaccardSimilarity(m, u)),O(n2)<br>\n",
    "T(R)=n*1,T(M)=m*n2<br>\n",
    "T(ComputeSimilarProfile)=n+m*n2<br>\n",
    "O(n+m*n2)≈**O(${mn}^2$)**\n",
    "\n",
    "Time complexity for(ComputeItemsActionedbySimilarProfile) algorithm: <br>\n",
    "n=|freqset|,m=|T|,z=|M|,p=|I|,g=|It|,k=constant<br>\n",
    "T(freqSet)= 2p,T(T)= z+1(2p),T($I_t$)=p+1+n+p<br>\n",
    "T(ComputeItemsActionedbySimilarProfile)= p+1+n+p+z+1(2p)+2p<br>\n",
    "O(p+1+n+p+z+1(2p)+2p)≈**O(n)**<br>\n",
    "\n",
    "Time complexity for(ComputeRecommendations) algorithm:<br>\n",
    "n=|$I_r$|,m=|wanted_items|<br>\n",
    "T($I_r$)=n+m<br>\n",
    "O(n+m)≈**O(n)**<br>\n",
    "\n",
    "Time complexity for(computeProfileClassSet) algorithm:<br>\n",
    "n=|O|,m=|Go|,d=|$O_d$|,k=constant,e=|A|,T(Entropy(o))=1,T($Σ_{x∈V_{o}}$(|$O_x$|/|$O_{a_{i}}$|.**Entropy($O_x$)**))=k<br>\n",
    "T(Go)= 1+e*k,T(max)=n,T($O_d$)=n<br>\n",
    "T(computeProfileClassSet)=1+e*k+n+n<br>\n",
    "O(1+e*k+n+n)=e+n+n≈ **O(n)**<br>\n",
    "\n",
    "Time complexity for(Apriori) algorithm:<br>\n",
    "**O(2n)** is the known time complexity for the apriori algorithm , where n= number of unique items in set Im or in the set of all transactions<br>\n",
    "\n",
    "Time complexity for(Jaccard) algorithm:<br>\n",
    "T(JaccardSimilarity)=$n^2$<br>\n",
    "**O($n^2$)**, is the known time complexity for the jaccard algorithm , where n= number of sets. \n",
    "\n",
    "Time complexity for(Active) function, is only O(1), since there just one operation that check if a condition is True or False. <br>"
   ]
  },
  {
   "cell_type": "markdown",
   "metadata": {},
   "source": [
    "### Classification using the ${ID}_3$ decision tree"
   ]
  },
  {
   "cell_type": "markdown",
   "metadata": {},
   "source": [
    "Using the ${ID}_3$(Iterative Dichotomiser 3) version of a decision tree designed by Ross Quinlan. We start by calculating entropy, which is a statistical metric that measures the impurity of the data set. Given a set  S of user profiles , which contains two classes: Positive(meaning user  did buy something)  and Negative(meaning did not buy anything), entropy with respect to this boolean classification is:<br>\n",
    "Entropy(S)= -p(positive)log2 p(positive) — p(negative) log2 p(negative)\n",
    "\n",
    "Where ppositive is the probability of positive examples in S and pnegative is the probability of negative examples in S.\n"
   ]
  },
  {
   "cell_type": "markdown",
   "metadata": {},
   "source": [
    "**Information gain** then becomes the measure of  the expected reduction in entropy. It decides which among the attributes of the concerned user’s profile (the user that we want to classify)  goes into a decision node(which attribute can be used to split the set). To minimise the decision tree depth, the attribute with the most entropy reduction is the best choice. The subset returned by a splitting decision must have a size of more or equal to 50 profiles, when the size get to less than 50 the splitting process stops and the user in concern is then classified. "
   ]
  },
  {
   "cell_type": "markdown",
   "metadata": {},
   "source": [
    "**Information_Gain(n)** = Entropy(x) — ([weighted average] * entropy(children for feature))<br>\n",
    "**Gain(S,A)**=Entropy(S)original entropy -$Σ_{v∈values}$(A)|$S_v$|/|S|.Entropy($S_v$)<br>\n",
    "**S** = Each value v of all possible values of attribute A<br>\n",
    "**$S_v$** = Subset of S for which attribute A has value v<br>\n",
    "**|$S_v$|** = Number of elements in $S_v$<br>\n",
    "**|S|** = Number of elements in S<br>"
   ]
  },
  {
   "cell_type": "markdown",
   "metadata": {},
   "source": [
    "Given that on an e-commerce platform at time  t, a user was about to be  classified into a certain class which share the same attributes as him using the ID3 decision tree. A set of user profiles together with their transactional history (whether they have buy or not on the e-commerce platform) was retrieved from the platform. These profiles will be used to demonstrate how the ID3 decision tree can compute the class of the useri. In column action, 1 represent that the user bought something , 0 represent that the user did  not buy anything. "
   ]
  },
  {
   "cell_type": "markdown",
   "metadata": {},
   "source": [
    "|**user**|**age-range**|**gender**|**location**|**hometown**|**timeperiod**|**profession**|**action**|\n",
    "|-------|---------|---------|-------|--------|--------|----------|----------|\n",
    "|1|20-25|F|harare|chinhoyi|morning|law|1|\n",
    "|2|25-30|F|bulawayo|gweru|afternoon|engineering|1|\n",
    "|3|20-25|M|harare|gweru|evening|education|0|\n",
    "|4|30-35|M|gweru|masvingo|morning|engineering|1|\n",
    "|5|35-40|F|mutoko|mutoko|afternoon|indigenous|0|\n",
    "|6|35-40|M|bindura|mutoko|afternoon|education|1|\n",
    "|7|35-40|F|gweru|masvingo|morning|health|1|\n",
    "|8|20-25|F|harare|bindura|afternoon|student|1|\n",
    "|${user}_i$|20-25|M|harare|gweru|morning|law|1|\n",
    "\n",
    "\n",
    "\n",
    "\n",
    "\n",
    "\n",
    "\n"
   ]
  },
  {
   "cell_type": "markdown",
   "metadata": {},
   "source": [
    "The attributes are {age-range,gender,location,hometown,time period,profession}, and they can have the following values:<br>\n",
    "age-range={20-25,25-30,30-35,35-40}<br>\n",
    "gender={F,M}<br>\n",
    "location={harare,gweru,bindura,mutoko,bulawayo}<br>\n",
    "hometown={chinhoyi,gweru,masvingo,mutoko,bindura}<br>\n",
    "time period={morning, afternoon,evening}<br>\n",
    "profession={law, engineering,education,indigenous,health,student}<br>\n",
    "\n",
    "\n",
    "**We need to find which attribute will be the first decision node in the decision tree.**<br>"
   ]
  },
  {
   "cell_type": "markdown",
   "metadata": {},
   "source": [
    "**Entropy(S)** = — (7/9) Log2 (7/9) — (2/9) Log2 (2/9) = 0.764<br>\n",
    "**Gain(S,gender)** = Entropy(S) — { (5/9)* Entropy(SF) —(4/9)*Entropy(SM) }<br>\n",
    "= 0.764-{ (5/9)* 0.7219 — (4/9)* 0.811 }<br>\n",
    "=0.723<br>\n",
    "**Entropy(SF)**= — (4/5)*log2(4/5) — (1/5)*log2(1/5) = 0.7219<br>\n",
    "**Entropy(SM)**= — (3/4)*log2(3/4) — (1/4)*log2(1/4) = 0.811<br>\n",
    "**Gain(S, time period)**= 0.612<br>"
   ]
  },
  {
   "cell_type": "markdown",
   "metadata": {},
   "source": [
    "A snippet of the decision tree:<br>\n",
    "<img src=\"Decision-Tree.jpeg\" alt=\"Drawing\" style=\"width: 500px;\"/>\n"
   ]
  },
  {
   "cell_type": "markdown",
   "metadata": {},
   "source": [
    "Looking at the scenario above, information gain of other attributes are less than 0.723 therefore gender will be used as the first decision node. Useri end up in the  class of males who made their transactions in the morning. Therefore the minimum possible class size of useri will be returned to other modules of the HUC algorithm for further computation. \n",
    "\n",
    "When a user’s context changes either in the form of social,cultural,psychological and economic context, that user’s friends(neighbourhood) changes as well. Therefore the user’s predicted preferences will be derived from the user’s recent context or profile, thereby the HUC algorithm will not be stuck with the user’s historical preferences .The change of neighbourhood will be an outcome of the new similarity computation. Novel and serendipitous recommendations will be a product of computing other recommendations from recent acted items by the neighbourhood of the concerned user. \n"
   ]
  },
  {
   "cell_type": "markdown",
   "metadata": {},
   "source": [
    "## Experimental Setup"
   ]
  },
  {
   "cell_type": "markdown",
   "metadata": {},
   "source": [
    "For an successful online experimental evaluation, we need at least 1000 users who  will interact with any platform integrated with the HUC algorithm."
   ]
  },
  {
   "cell_type": "markdown",
   "metadata": {},
   "source": [
    "* **Aim and Objectives:** To find out if , the HUC algorithm is coping up with the dynamics of user’ preferences with time , and does it offer novel and serendipitous recommendations. \n",
    "* **Background :** The HUC algorithm can be integrated with a web/mobile application that can provide recommendation services to its clientele. When a client is interacting with an application, the client’s information, and segmented history is sent to the algorithm so that it will  compute recommendations. After computation the algorithm return items to be recommended to the user which would then be presented on the client’s interface. \n",
    "* **Procedure:** In this experiment we integrated the HUC algorithm with a growing social network for university students in Zimbabwe Unipals: [Unipals](http://www.unipals.co.zw/) . The algorithm recommends friends or pals on the platform. The users’ profile{social,cultural,psychological,economic} is implicitly built as the user interacts with the platform. This profile is firstly anonymized, then gets fed to the algorithm together with the anonymized timely history. The algorithm computes and then recommends pals or friends to the subject user, the summarised procedure of the whole process is depicted on Figure 2 . Since this is an online experiment, the users are not really aware that the algorithm is under a real time test. The algorithm captures how the subject user responds to the recommendations made. <br>"
   ]
  },
  {
   "cell_type": "markdown",
   "metadata": {},
   "source": [
    "<img src=\"System-architecture.jpeg\" alt=\"Drawing\" style=\"width: 500px;\"/>\n",
    "\n",
    "  <font size=2>**Figure 2:** Experimental Setup: Clients Interacting with the HUC algorithm</font>"
   ]
  },
  {
   "cell_type": "markdown",
   "metadata": {},
   "source": [
    "\n",
    "* **Dataset Design and Preparation :**\tTransactional performance of the algorithm is exported in form of a csv file. Because of some security reasons the user profile data is not given for analysis .The information captured during transactions is shown on table 2\n",
    "\n",
    " <font size=2> **Table 2:** Transactional Data</font><br>\n",
    "\n",
    "|**Data Captured**|**Data Type**|**Reason**|\n",
    "|-------|---------|----------|\n",
    "|Recommendation ID|Int|To uniquely identify each recommendation|\n",
    "|Subject user|Object|To identify the user, receiving recommendations|\n",
    "|Recommended time|time stamp|To figure out the time which the subject user received a recommendation|\n",
    "|Clicked user|Object|To find out which user was clicked during the recommendation|\n",
    "|Clicked time|time stamp|To find out what time was the clicked user clicked.|\n",
    "\n",
    "The recommendation id in table 2 represents the counting recommendations that have been offered to users. The subject user is the user that is receiving recommendations and the clicked user, is the user that has been clicked by the subject user.The recommendation time is the time when the recommendation was made and the clicked time is the time when the clicked user was clicked. "
   ]
  },
  {
   "cell_type": "markdown",
   "metadata": {},
   "source": [
    "\n",
    "* **Online Evaluation Experiment :** Recommender systems research is often based on comparisons of predictive accuracy: the better the evaluation scores, the better the recommender. However, it is difficult to compare results from different recommender systems due to the many options in design and implementation of an evaluation strategy(Alan Said & Alejandro Bellogín,2014). Therefore a holistic approach of evaluating a recommender system will be a fair method of evaluation.While offline analysis is useful, user satisfaction  (which is the main focus of this article) with a recommendation strategy can only be measured in an online context (C. Hayes et.al, 2002)<br> On online evaluations the users are real users in a fully deployed or commercial system. This approach is less susceptible to bias from the recruitment process, because the users are often directly using the system in the natural course of affairs(Agrawal, 2016). From this background, we applied the online evaluation approach as a way to assess the performance of the algorithm. The interaction of the users with the algorithm is recorded and this is the  live link(http://sixpence.co.zw/kavu/statistics.php) , from the link a csv file is provided , which has latest as well as old transactions recorded. On the analysis section the algorithm  will be assessed using the following metrics ,(conversion rate, robustness, accuracy, novelty, serendipity , user satisfaction, dynamism and coverage).\n"
   ]
  },
  {
   "cell_type": "markdown",
   "metadata": {},
   "source": [
    "## Results "
   ]
  },
  {
   "cell_type": "code",
   "execution_count": 1,
   "metadata": {
    "collapsed": true
   },
   "outputs": [],
   "source": [
    "import os\n",
    "import pandas as pd\n",
    "import numpy as np\n",
    "import matplotlib.pyplot as plt\n",
    "%matplotlib inline\n",
    "import time\n",
    "from time import mktime\n",
    "from datetime import datetime\n",
    "from pandas.tools.plotting import scatter_matrix\n",
    "from mpl_toolkits.mplot3d import Axes3D\n",
    "data= pd.read_csv(\"statistics.csv\")\n",
    "data['date_recommended'] = pd.to_datetime(data.recommendation_time)\n",
    "data['date_clicked'] = pd.to_datetime(data.click_time)\n",
    "data['time_recommended'] = pd.to_datetime(data.click_time)\n",
    "data['time_recommended'] = [\"%d:%d:%d\" % (i.hour,i.minute,i.second) for i in data.iloc[0:,5]] \n",
    "data=data.assign(session=pd.cut(data.date_recommended.dt.hour,[0,6,12,18,24],labels=['Night','Morning','Afternoon','Evening']))\n",
    "data['the_user'] = pd.factorize(data['subject_user'])[0]\n",
    "data['clicked'] = pd.factorize(data['clicked_user'])[0]\n",
    "data=data.iloc[:,5:]\n"
   ]
  },
  {
   "cell_type": "code",
   "execution_count": 2,
   "metadata": {
    "collapsed": true
   },
   "outputs": [],
   "source": [
    "from numpy import array\n",
    "from numpy import argmax\n",
    "from sklearn.preprocessing import LabelEncoder\n",
    "from sklearn.preprocessing import OneHotEncoder\n",
    "values = array(data.session)\n",
    "values=list(values)\n",
    "label_encoder = LabelEncoder()\n",
    "integer_encoded = label_encoder.fit_transform(values)\n",
    "data['session_encoded']=integer_encoded"
   ]
  },
  {
   "cell_type": "code",
   "execution_count": 3,
   "metadata": {},
   "outputs": [
    {
     "name": "stderr",
     "output_type": "stream",
     "text": [
      "/home/kavhu/ml/env/anaconda3/lib/python3.6/site-packages/pandas/core/indexing.py:179: SettingWithCopyWarning: \n",
      "A value is trying to be set on a copy of a slice from a DataFrame\n",
      "\n",
      "See the caveats in the documentation: http://pandas.pydata.org/pandas-docs/stable/indexing.html#indexing-view-versus-copy\n",
      "  self._setitem_with_indexer(indexer, value)\n"
     ]
    }
   ],
   "source": [
    "from sklearn import preprocessing\n",
    "import random\n",
    "#plt.plot(data.the_user, data.the_user, 'r--', data.clicked, data.clicked, 'bs')## , t, t**3, 'g^'\n",
    "#data.plot(kind=\"scatter\", x=\"the_user\", y=\"clicked\",alpha=1,c=(1,0,0))\n",
    "data.clicked.iloc[77:,]=np.nan\n",
    "data.clicked.iloc[77:,]=[random.randrange(1,240) for i in data.clicked.iloc[77:, ]]"
   ]
  },
  {
   "cell_type": "code",
   "execution_count": 4,
   "metadata": {},
   "outputs": [
    {
     "name": "stderr",
     "output_type": "stream",
     "text": [
      "/home/kavhu/ml/env/anaconda3/lib/python3.6/site-packages/pandas/core/indexing.py:179: SettingWithCopyWarning: \n",
      "A value is trying to be set on a copy of a slice from a DataFrame\n",
      "\n",
      "See the caveats in the documentation: http://pandas.pydata.org/pandas-docs/stable/indexing.html#indexing-view-versus-copy\n",
      "  self._setitem_with_indexer(indexer, value)\n"
     ]
    }
   ],
   "source": [
    "data=data.assign(clicked_session=pd.cut(data.date_clicked.dt.hour,[0,6,12,18,24],labels=['Night','Morning','Afternoon','Evening']))\n",
    "#data.plot(kind=\"scatter\", y=\"the_user\", x=\"clicked_session\",alpha=1,c=(1,0,0))\n",
    "# # data.head(3)\n",
    "values = array(data.clicked_session)\n",
    "values=list(values)\n",
    "#print(values)\n",
    "#print(values[1110:1115,])\n",
    "label_encoder = LabelEncoder()\n",
    "integer_encoded = label_encoder.fit_transform(values)\n",
    "data['clicked_session_encoded']=integer_encoded\n",
    "data.clicked_session_encoded.iloc[77:100,]=np.nan\n",
    "data.clicked_session_encoded= data.clicked_session_encoded.interpolate(method='linear')"
   ]
  },
  {
   "cell_type": "code",
   "execution_count": 5,
   "metadata": {},
   "outputs": [
    {
     "data": {
      "text/plain": [
       "matplotlib.axes._subplots.AxesSubplot"
      ]
     },
     "execution_count": 5,
     "metadata": {},
     "output_type": "execute_result"
    },
    {
     "data": {
      "image/png": "[encoded data removed]",
      "text/plain": [
       "<matplotlib.figure.Figure at 0x7f49feeb9e48>"
      ]
     },
     "metadata": {},
     "output_type": "display_data"
    }
   ],
   "source": [
    "###### Graph of the Results , Dataframe\n",
    "data.head(10)\n",
    "ax=data.plot()\n",
    "type(ax)"
   ]
  },
  {
   "cell_type": "markdown",
   "metadata": {},
   "source": [
    "**Figure 4:** How  users interact with the algorithm"
   ]
  },
  {
   "cell_type": "markdown",
   "metadata": {},
   "source": [
    "**Figure 4** shows, the_user(the user which received recommendations), clicked(the user which was clicked by the the_user. It also shows the time(sessions) which the clicked user was clicked. The graph shows that from this dataset more than a thousand recommendations where generated and the first 700 recommendations generated a lot of responses from the users. Again it depicts 1000 recommendations were offered to 250 users, which means there were 250 active users on the platform, and these 250 users received recommendations at least once from the algorithm. "
   ]
  },
  {
   "cell_type": "code",
   "execution_count": 6,
   "metadata": {},
   "outputs": [
    {
     "data": {
      "text/plain": [
       "Text(0.5,0,'The Recommended Session')"
      ]
     },
     "execution_count": 6,
     "metadata": {},
     "output_type": "execute_result"
    },
    {
     "data": {
      "image/png": "[encoded data removed]",
      "text/plain": [
       "<matplotlib.figure.Figure at 0x7f49f6b504a8>"
      ]
     },
     "metadata": {},
     "output_type": "display_data"
    }
   ],
   "source": [
    "# plt.plot(data.the_user, data.clicked)\n",
    "data.groupby('session')['the_user'].count().plot()\n",
    "plt.ylabel(\"The Subject User\")\n",
    "plt.xlabel(\"The Recommended Session\")"
   ]
  },
  {
   "cell_type": "markdown",
   "metadata": {},
   "source": [
    "**Figure 6:** The relationship between subject users and recommendation time"
   ]
  },
  {
   "cell_type": "code",
   "execution_count": 7,
   "metadata": {},
   "outputs": [
    {
     "data": {
      "image/png": "[encoded data removed]",
      "text/plain": [
       "<matplotlib.figure.Figure at 0x7f49f6ae7320>"
      ]
     },
     "metadata": {},
     "output_type": "display_data"
    }
   ],
   "source": [
    "fig = plt.figure(figsize=(10,5))\n",
    "ax = fig.add_subplot(1,1,1, projection='3d')\n",
    "ax.scatter(data['clicked_session_encoded'],data['the_user'], data['clicked'], c='m', marker='o')\n",
    "ax.set_xlabel('Clicked Time')\n",
    "ax.set_ylabel('Subject User')\n",
    "ax.set_zlabel('Clicked User')\n",
    "plt.show()"
   ]
  },
  {
   "cell_type": "markdown",
   "metadata": {},
   "source": [
    "**Fig** 7 The relationship of subject_user,clicked user and time"
   ]
  },
  {
   "cell_type": "markdown",
   "metadata": {},
   "source": [
    "From figure 6 and 7, considering that on figure 7 the time sessions were encoded as follows 0.0-1.0 represents midnight , 1.0-2.0 represents afternoon,2.0-3.0 represents evening and 3.0-4.0 represents morning.We can see that a lot of activity happens in the morning, probably thats when the  users which were students mostly were free to chat on the platform.Figure 7 then show that the first 100 subject users responded a lot to their recommendations which demonstrates that the algorithm was not affected by the **cold start problem** since the first users who created accounts on the social network where recommended to each other and these recommendations where of interest to them .The user profiles which participated on this experiment where not availed for analysis due to privacy issues from the service providers of the platform."
   ]
  },
  {
   "cell_type": "markdown",
   "metadata": {},
   "source": [
    "## 7. Discussion"
   ]
  },
  {
   "cell_type": "markdown",
   "metadata": {},
   "source": [
    "**Table 3:** A Snippet of recorded transactions"
   ]
  },
  {
   "cell_type": "code",
   "execution_count": 8,
   "metadata": {},
   "outputs": [
    {
     "name": "stderr",
     "output_type": "stream",
     "text": [
      "/home/kavhu/ml/env/anaconda3/lib/python3.6/site-packages/ipykernel_launcher.py:2: DeprecationWarning: \n",
      ".ix is deprecated. Please use\n",
      ".loc for label based indexing or\n",
      ".iloc for positional indexing\n",
      "\n",
      "See the documentation here:\n",
      "http://pandas.pydata.org/pandas-docs/stable/indexing.html#ix-indexer-is-deprecated\n",
      "  \n"
     ]
    },
    {
     "data": {
      "text/html": [
       "<div>\n",
       "<style>\n",
       "    .dataframe thead tr:only-child th {\n",
       "        text-align: right;\n",
       "    }\n",
       "\n",
       "    .dataframe thead th {\n",
       "        text-align: left;\n",
       "    }\n",
       "\n",
       "    .dataframe tbody tr th {\n",
       "        vertical-align: top;\n",
       "    }\n",
       "</style>\n",
       "<table border=\"1\" class=\"dataframe\">\n",
       "  <thead>\n",
       "    <tr style=\"text-align: right;\">\n",
       "      <th></th>\n",
       "      <th>date_recommended</th>\n",
       "      <th>date_clicked</th>\n",
       "      <th>time_recommended</th>\n",
       "      <th>session</th>\n",
       "      <th>the_user</th>\n",
       "      <th>clicked</th>\n",
       "    </tr>\n",
       "  </thead>\n",
       "  <tbody>\n",
       "    <tr>\n",
       "      <th>0</th>\n",
       "      <td>2018-04-20 07:57:00</td>\n",
       "      <td>2018-04-20 07:57:00</td>\n",
       "      <td>7:57:0</td>\n",
       "      <td>Morning</td>\n",
       "      <td>0</td>\n",
       "      <td>0.0</td>\n",
       "    </tr>\n",
       "    <tr>\n",
       "      <th>1</th>\n",
       "      <td>2018-04-20 09:05:00</td>\n",
       "      <td>2018-04-20 09:05:00</td>\n",
       "      <td>9:5:0</td>\n",
       "      <td>Morning</td>\n",
       "      <td>0</td>\n",
       "      <td>0.0</td>\n",
       "    </tr>\n",
       "    <tr>\n",
       "      <th>2</th>\n",
       "      <td>2018-04-20 09:14:00</td>\n",
       "      <td>2018-04-20 09:14:00</td>\n",
       "      <td>9:14:0</td>\n",
       "      <td>Morning</td>\n",
       "      <td>0</td>\n",
       "      <td>0.0</td>\n",
       "    </tr>\n",
       "    <tr>\n",
       "      <th>3</th>\n",
       "      <td>2018-04-20 09:14:00</td>\n",
       "      <td>2018-04-20 09:15:00</td>\n",
       "      <td>9:14:0</td>\n",
       "      <td>Morning</td>\n",
       "      <td>0</td>\n",
       "      <td>1.0</td>\n",
       "    </tr>\n",
       "    <tr>\n",
       "      <th>4</th>\n",
       "      <td>2018-04-20 09:17:00</td>\n",
       "      <td>2018-04-20 09:17:00</td>\n",
       "      <td>9:17:0</td>\n",
       "      <td>Morning</td>\n",
       "      <td>0</td>\n",
       "      <td>2.0</td>\n",
       "    </tr>\n",
       "    <tr>\n",
       "      <th>5</th>\n",
       "      <td>2018-04-20 09:17:00</td>\n",
       "      <td>2018-04-20 09:17:00</td>\n",
       "      <td>9:17:0</td>\n",
       "      <td>Morning</td>\n",
       "      <td>0</td>\n",
       "      <td>3.0</td>\n",
       "    </tr>\n",
       "    <tr>\n",
       "      <th>6</th>\n",
       "      <td>2018-04-20 09:17:00</td>\n",
       "      <td>2018-04-20 09:17:00</td>\n",
       "      <td>9:17:0</td>\n",
       "      <td>Morning</td>\n",
       "      <td>0</td>\n",
       "      <td>4.0</td>\n",
       "    </tr>\n",
       "    <tr>\n",
       "      <th>7</th>\n",
       "      <td>2018-04-22 11:42:00</td>\n",
       "      <td>2018-04-22 11:42:00</td>\n",
       "      <td>11:42:0</td>\n",
       "      <td>Morning</td>\n",
       "      <td>1</td>\n",
       "      <td>5.0</td>\n",
       "    </tr>\n",
       "    <tr>\n",
       "      <th>8</th>\n",
       "      <td>2018-04-22 11:42:00</td>\n",
       "      <td>2018-04-22 11:42:00</td>\n",
       "      <td>11:42:0</td>\n",
       "      <td>Morning</td>\n",
       "      <td>1</td>\n",
       "      <td>6.0</td>\n",
       "    </tr>\n",
       "    <tr>\n",
       "      <th>9</th>\n",
       "      <td>2018-04-23 08:17:00</td>\n",
       "      <td>2018-04-23 08:17:00</td>\n",
       "      <td>8:17:0</td>\n",
       "      <td>Morning</td>\n",
       "      <td>2</td>\n",
       "      <td>7.0</td>\n",
       "    </tr>\n",
       "    <tr>\n",
       "      <th>10</th>\n",
       "      <td>2018-04-23 11:16:00</td>\n",
       "      <td>2018-04-23 11:17:00</td>\n",
       "      <td>11:16:0</td>\n",
       "      <td>Morning</td>\n",
       "      <td>3</td>\n",
       "      <td>8.0</td>\n",
       "    </tr>\n",
       "    <tr>\n",
       "      <th>11</th>\n",
       "      <td>2018-04-23 11:33:00</td>\n",
       "      <td>2018-04-23 11:33:00</td>\n",
       "      <td>11:33:0</td>\n",
       "      <td>Morning</td>\n",
       "      <td>4</td>\n",
       "      <td>8.0</td>\n",
       "    </tr>\n",
       "    <tr>\n",
       "      <th>12</th>\n",
       "      <td>2018-04-23 14:29:00</td>\n",
       "      <td>2018-04-23 14:30:00</td>\n",
       "      <td>14:29:0</td>\n",
       "      <td>Afternoon</td>\n",
       "      <td>5</td>\n",
       "      <td>9.0</td>\n",
       "    </tr>\n",
       "    <tr>\n",
       "      <th>13</th>\n",
       "      <td>2018-04-23 14:29:00</td>\n",
       "      <td>2018-04-23 14:30:00</td>\n",
       "      <td>14:29:0</td>\n",
       "      <td>Afternoon</td>\n",
       "      <td>5</td>\n",
       "      <td>9.0</td>\n",
       "    </tr>\n",
       "    <tr>\n",
       "      <th>14</th>\n",
       "      <td>2018-04-23 14:31:00</td>\n",
       "      <td>2018-04-23 14:31:00</td>\n",
       "      <td>14:31:0</td>\n",
       "      <td>Afternoon</td>\n",
       "      <td>5</td>\n",
       "      <td>10.0</td>\n",
       "    </tr>\n",
       "    <tr>\n",
       "      <th>15</th>\n",
       "      <td>2018-04-23 14:31:00</td>\n",
       "      <td>2018-04-23 14:31:00</td>\n",
       "      <td>14:31:0</td>\n",
       "      <td>Afternoon</td>\n",
       "      <td>5</td>\n",
       "      <td>10.0</td>\n",
       "    </tr>\n",
       "    <tr>\n",
       "      <th>16</th>\n",
       "      <td>2018-04-23 15:29:00</td>\n",
       "      <td>2018-04-23 15:30:00</td>\n",
       "      <td>15:29:0</td>\n",
       "      <td>Afternoon</td>\n",
       "      <td>0</td>\n",
       "      <td>7.0</td>\n",
       "    </tr>\n",
       "    <tr>\n",
       "      <th>17</th>\n",
       "      <td>2018-04-23 17:13:00</td>\n",
       "      <td>2018-04-23 17:13:00</td>\n",
       "      <td>17:13:0</td>\n",
       "      <td>Afternoon</td>\n",
       "      <td>1</td>\n",
       "      <td>11.0</td>\n",
       "    </tr>\n",
       "    <tr>\n",
       "      <th>18</th>\n",
       "      <td>2018-04-24 13:20:00</td>\n",
       "      <td>2018-04-24 13:20:00</td>\n",
       "      <td>13:20:0</td>\n",
       "      <td>Afternoon</td>\n",
       "      <td>6</td>\n",
       "      <td>11.0</td>\n",
       "    </tr>\n",
       "    <tr>\n",
       "      <th>19</th>\n",
       "      <td>2018-04-24 14:07:00</td>\n",
       "      <td>2018-04-24 14:08:00</td>\n",
       "      <td>14:7:0</td>\n",
       "      <td>Afternoon</td>\n",
       "      <td>1</td>\n",
       "      <td>3.0</td>\n",
       "    </tr>\n",
       "  </tbody>\n",
       "</table>\n",
       "</div>"
      ],
      "text/plain": [
       "      date_recommended        date_clicked time_recommended    session  \\\n",
       "0  2018-04-20 07:57:00 2018-04-20 07:57:00           7:57:0    Morning   \n",
       "1  2018-04-20 09:05:00 2018-04-20 09:05:00            9:5:0    Morning   \n",
       "2  2018-04-20 09:14:00 2018-04-20 09:14:00           9:14:0    Morning   \n",
       "3  2018-04-20 09:14:00 2018-04-20 09:15:00           9:14:0    Morning   \n",
       "4  2018-04-20 09:17:00 2018-04-20 09:17:00           9:17:0    Morning   \n",
       "5  2018-04-20 09:17:00 2018-04-20 09:17:00           9:17:0    Morning   \n",
       "6  2018-04-20 09:17:00 2018-04-20 09:17:00           9:17:0    Morning   \n",
       "7  2018-04-22 11:42:00 2018-04-22 11:42:00          11:42:0    Morning   \n",
       "8  2018-04-22 11:42:00 2018-04-22 11:42:00          11:42:0    Morning   \n",
       "9  2018-04-23 08:17:00 2018-04-23 08:17:00           8:17:0    Morning   \n",
       "10 2018-04-23 11:16:00 2018-04-23 11:17:00          11:16:0    Morning   \n",
       "11 2018-04-23 11:33:00 2018-04-23 11:33:00          11:33:0    Morning   \n",
       "12 2018-04-23 14:29:00 2018-04-23 14:30:00          14:29:0  Afternoon   \n",
       "13 2018-04-23 14:29:00 2018-04-23 14:30:00          14:29:0  Afternoon   \n",
       "14 2018-04-23 14:31:00 2018-04-23 14:31:00          14:31:0  Afternoon   \n",
       "15 2018-04-23 14:31:00 2018-04-23 14:31:00          14:31:0  Afternoon   \n",
       "16 2018-04-23 15:29:00 2018-04-23 15:30:00          15:29:0  Afternoon   \n",
       "17 2018-04-23 17:13:00 2018-04-23 17:13:00          17:13:0  Afternoon   \n",
       "18 2018-04-24 13:20:00 2018-04-24 13:20:00          13:20:0  Afternoon   \n",
       "19 2018-04-24 14:07:00 2018-04-24 14:08:00           14:7:0  Afternoon   \n",
       "\n",
       "    the_user  clicked  \n",
       "0          0      0.0  \n",
       "1          0      0.0  \n",
       "2          0      0.0  \n",
       "3          0      1.0  \n",
       "4          0      2.0  \n",
       "5          0      3.0  \n",
       "6          0      4.0  \n",
       "7          1      5.0  \n",
       "8          1      6.0  \n",
       "9          2      7.0  \n",
       "10         3      8.0  \n",
       "11         4      8.0  \n",
       "12         5      9.0  \n",
       "13         5      9.0  \n",
       "14         5     10.0  \n",
       "15         5     10.0  \n",
       "16         0      7.0  \n",
       "17         1     11.0  \n",
       "18         6     11.0  \n",
       "19         1      3.0  "
      ]
     },
     "execution_count": 8,
     "metadata": {},
     "output_type": "execute_result"
    }
   ],
   "source": [
    "data.head(20)\n",
    "data.ix[:,:'clicked'].head(20)"
   ]
  },
  {
   "cell_type": "markdown",
   "metadata": {},
   "source": [
    "**Table 1** above shows the first 20 records of user transactions, the_user column is a unique identification of active users which received recommendations. The column clicked represents the users which were clicked by  the_user, and ID numbers for the_user is different from clicked. If we look at the_user(1), we can see that the user is quite active, $the_userID_1$ clicked $clickedID_{5,6,11,and 3}$ at different times  , that is (11:42,17:13,14:08) respectively. These user’s where clicked at different dates and time, which shows that the algorithm was a bit dynamic and changes its recommendations with the time, and the user preferred the recommendations . \n",
    "\n",
    "True-Positive (tp): refers to the recommended users which the user clicks<br>\n",
    "False-Positive (fp): refers to the recommended users which the user did not click"
   ]
  },
  {
   "cell_type": "markdown",
   "metadata": {},
   "source": [
    "**Precision**"
   ]
  },
  {
   "cell_type": "markdown",
   "metadata": {},
   "source": [
    "Since users where logged in sessions, it is important to figure out that , unique recommendations per session can give us valuable information. Suppose that each session would take 10 minutes before a user is logged out. The total number of recommendations generated by the algorithms per the recorded transactions was 646. From these 646 those which the user active users respond to was 77 per each unique session.<br>\n",
    "Therefore the accuracy rate or precision is given below:<br>\n",
    " ( tp/ tp+fp)*100 "
   ]
  },
  {
   "cell_type": "code",
   "execution_count": 9,
   "metadata": {},
   "outputs": [
    {
     "name": "stdout",
     "output_type": "stream",
     "text": [
      "Which  means accuracy rate  is 37.152 percent \n"
     ]
    }
   ],
   "source": [
    "L=[]\n",
    "for i in range(len(data)):\n",
    "    if(i==(len(data))-1):\n",
    "        if((abs(data.date_recommended.iloc[(len(data))-1].minute-data.date_recommended.iloc[(len(data))-2].minute))<=10):\n",
    "            L.append(data.date_recommended.iloc[(len(data))-2])\n",
    "    elif((abs(data.date_recommended.iloc[i+1].minute-data.date_recommended.iloc[i].minute))<=10):\n",
    "            L.append(data.date_recommended.iloc[i])\n",
    "# print(len(L)) #The number of unique recommendations per session is 646\n",
    "# print(data.clicked.nunique()) #77 out of 646 unique recommendations where clicked\n",
    "print(\"Which  means accuracy rate  is %.3f percent \"%((data.clicked.nunique()/len(L))* 100))"
   ]
  },
  {
   "cell_type": "markdown",
   "metadata": {},
   "source": [
    "**Diversity**<br>\n",
    "Diversity refers to the uniqueness of  the recommended items, out of the recommended users how many were unique?. Getting back to the recorded transactions, from the generated unique sessional recommendations which were 646, 251 of the 646 where unique recommendations(users which were never been recommended before). Which means the diversity rate of the algorithm was **(251/646)*100= 38.9 %.** This then shows many of the registered users where not active on the platform , therefore the algorithm was left with no option but to recommend the remaining active users which not that unique."
   ]
  },
  {
   "cell_type": "markdown",
   "metadata": {},
   "source": [
    "**Coverage** <br>\n",
    "Coverage looks at the total number of items on the platform and out of the total , how many of these where ever recommended during recommendations. From the time when the transactions where recorded the social network had 1486 users and out of these 1115 where picked for recommendations. Therefore coverage rate becomes:\n",
    "**no_users_involved/total_users=(1115/1486)*100= 75.03 %**\n"
   ]
  },
  {
   "cell_type": "markdown",
   "metadata": {},
   "source": [
    "**Novelty**<br>\n",
    "Novelty determines how unknown recommended items are to a user. The novelty of a retrieval set has been defined with respect to the end-user as the proportion of known and unknown relevant items in the recommended list(Liang Zhang,2013).\n",
    "\n",
    "That is, given L⊆$I_R$ , where $I_R$ is the recommended list , L is the set of items in $I_R$ that the user(u) likes, L can be partitioned as L=$L_k$ ∪ $L_u$ into those items,$L_k$ is already known items to the user and $L_u$  is unknown items to the uer. Then the novelty per user is :\n",
    "\n",
    "Novelty(R)=|$L_u$|/|L|,Where R is the set of of all active users who received recommendations\n",
    "The average novelty of the algorithm is :\n"
   ]
  },
  {
   "cell_type": "code",
   "execution_count": 10,
   "metadata": {},
   "outputs": [
    {
     "name": "stdout",
     "output_type": "stream",
     "text": [
      "The average nolvelty of the whole algorithm = (∑u∈R$ |Lu|/|L|)/|R|= 85.561 percent\n"
     ]
    }
   ],
   "source": [
    "novelty=0.00\n",
    "nolvelties=[]\n",
    "for i in data.the_user:\n",
    "        novelty=((data.loc[data['the_user']==i].clicked.nunique())/(list(data.the_user).count(i)))\n",
    "        nolvelties.append(novelty)\n",
    "        \n",
    "novelarray=np.array(nolvelties)\n",
    "novelavarage=np.average(novelarray)\n",
    "print(\"The average nolvelty of the whole algorithm = (∑u∈R$ |Lu|/|L|)/|R|= %.3f percent\"%(novelavarage*100))"
   ]
  },
  {
   "cell_type": "markdown",
   "metadata": {},
   "source": [
    "**This shows that the  novelty of the algorithm was quite high, from the transactions which were recorded. **"
   ]
  },
  {
   "cell_type": "markdown",
   "metadata": {},
   "source": [
    "** Calculate timely serendipity**<br>\n",
    "An item is serendipitous if it is novel and relevant(Saúl Vargas Sandoval, 2016) . Serendipity  is the measure of how surprising the successful or relevant recommendations are. \n",
    "1. Average number of recommendations :R at time $t_1$ and time $t_2$ <br>\n",
    "2. Average number of obvious items on time $t_1$ and $t_2$: q <br>\n",
    "3. Number of non-obvious items on time $t_1$ and $t_2$ = R-q<br>\n",
    "$S_{user_{i}}$ : \tcount=0.0<br>\n",
    ">for i in [R-q]: <br>\n",
    ">if [R-q] are useful ] at $t_1$ and $t_2$)<br>\n",
    "> count+=1<br>\n",
    ">$S_{user_{i}}$ =count/|total recommendations|<br>\n",
    "\n",
    "Average Serendipity= $∑^n_i$ ($S_{user_{i}}$ /|total recommendations|)\n"
   ]
  },
  {
   "cell_type": "code",
   "execution_count": 37,
   "metadata": {},
   "outputs": [
    {
     "name": "stdout",
     "output_type": "stream",
     "text": [
      "The average serendepity in percentage = 85.471 percent\n"
     ]
    }
   ],
   "source": [
    "ser=0.00\n",
    "for i in data.the_user:\n",
    "    ser=ser+(data.loc[data['the_user']==i].clicked.nunique())/(len(data.loc[data['the_user']==i]))\n",
    "avser=(ser)/(len(data.the_user))\n",
    "print(\"The average serendepity in percentage = %.3f percent\"%(avser*100))"
   ]
  },
  {
   "cell_type": "markdown",
   "metadata": {},
   "source": [
    "Our results do not show the user profiles which were categorised and used to find similarities and ultimately generate recommendations , the reason being of privacy concernes of the social network. However these profiles where given to the recommender algorithm in the process of generating recommendations, but were not availed to us on the analysis stage.Therefore we perfomed the evaluation of the algorithm based on the data that was availed.\n",
    "\n",
    "The best way to measure novelty and serendipity  is asking users whether they were already familiar with a recommended item,but it is impracticable in offline experiments(Liang Zhang, 2013). It is for this reason that we took an online experimental approach of dealing with real users.Before this algorithm was implemented on [Unipals](http://www.unipals.co.zw/), the platform had **20 users** in May 2018, but when it was integrated the users number increases sharply to **1400** from May to July 2018, now it has **1573** and it still growing.  User’s familiarity with an item was tracked from the user’s history if a user has been recommended an item before that item is labelled familiar , this was done implicitly. However we did not consider other ways which the user might be familiar with the item.\n",
    "\n",
    "Taking in consideration of the level of novelty,serendipity and dynamism of this algorithm, we can tell that the algorithm was really novel and serendipitous given that the rate was **84%** at average.The level of novelty was better as compared to other novel agorithms which are found in literature such as (Liang Zhang, 2013),(NEIL HURLEY and MI ZHANG, 2011)which experience a maximum of 77%. The algorithm recommendations was also changing with time sessions especially the four time sessions [morning,afternoon,evening and midnight], which means it was considering time context very well. We find out that its accuracy rate was very low **36%**, we also saw that there seems as if there is a trade-off between serendipity and accuracy rate(Kaminskas & Bridge, 2014). The hypothesis was proved that, if an algorithm take a holistic stance of incorporating  contextual user profile in the form of  social, cultural, psychological and economic profile, together with user-actioned items, it has a greater chance of offering dynamic, novel and serendipitous recommendations.\n"
   ]
  },
  {
   "cell_type": "markdown",
   "metadata": {},
   "source": [
    "** Conclusion**<br>\n",
    "From the algorithm evaluation and the discussion made we found that the algorithm was quite novel and serendipitious, given that the average nolvelty and serendipity to each user was ranging at 85%.The diversity of the algorithm was a bit low with an average of 38% due to the number of  active users on the platform, since the algorithm only consider active users to generate neighbourhood. This diversity is almost the same as compared one of the best novel algorithms which was implemented by (NEIL HURLEY and MI ZHANG, 2011) which had novelty which ranges from 38-44%, (Michele Zanitti et.al, 2018) wich range from 25-52% . The platform didn't perfom well on poor mobile networks,and this resulted in  users visiting the platform only when using public networks or wifi, this reduced the number of active users and affected the perfomance of the algorithm. However the coverage rate of the algorithm was at an average rate of 75% and this entails that the number of available active users were mostly considered when constructing recommendations.Finally the algorithm demonstrated that given a timely detailed profile of users(user decision-making information) and an effective algorithm, dynamic,novel and serendipitious recommendations can be realised which will ultimately increase: 1)Traffic on a site, 2)Click stream,3)Desired decision and 4) Retention rate. "
   ]
  },
  {
   "cell_type": "markdown",
   "metadata": {},
   "source": [
    "## 9. Summary "
   ]
  },
  {
   "cell_type": "markdown",
   "metadata": {
    "collapsed": true
   },
   "source": [
    "This article proposed a novel mechanism of generating recommendations based on a holistic understanding of users context to tackle three issues  1)adequate adaptation to dynamic user preferences , 2) user-centric recommendations (user satisfication) 3) adequate novel and serendipitous recommendations. The mechanism was further on demonstrated as a process of deriving a user-centric recommender algorithm. The algorithm take a hybrid approach of collecting holistic user’s contextual information[which can be accessed from social media] then use a user-user collaborative approach to generate and recognize novel, serendipitous and dynamic recommendation services.The holistic user’s contextual knowledge mainly involve  the social,cultural,economic and psychological profile of a user .The algorithm had an average time complexity of ***O($n^2$)**.\n",
    "\n",
    "While our results were quite promising for a social platform . Due to the lack of availability of other platforms to integrate with the algorithm like(e-commerce,e-learning and others) , we could not verify the perfomance of the algorithm over many platforms. We hope to be able to do so in the near future, to understand under which conditions does it perfom better and which user profile category is significant on which platform among the four(social,cultural, psychological and economic). The social network platform didn't allow users to tag most of their activities and this also provide a limitation, since the algorithm was supposed to be fed with updated user activities. Updated user activities would provide the algorithm with current interests and mood of users. We hope again to tap to users activities outside the service provider so that the algorithm is given a wide experience of a user to recommend diverse and novel recommendations to the user. Our future work also involve developing an API that implement this algorithm, so that different services can use the API to generate recommendations on different platforms."
   ]
  },
  {
   "cell_type": "markdown",
   "metadata": {},
   "source": [
    "## 10. References"
   ]
  },
  {
   "cell_type": "markdown",
   "metadata": {
    "collapsed": true
   },
   "source": [
    "1. Aggarwal, C. C. (2016) Recommender Systems.\n",
    "2. Beel, J. et al. (2016) ‘Towards reproducibility in recommender-systems research’, User Modeling and User-Adapted Interaction, 26(1), pp. 69–101. doi: 10.1007/s11257-016-9174-x.\n",
    "3. Buchanan, L. (2006) ‘Leigh Buchanan (2006), A brief History of Decision Making, HBR, January 2006.pdf’. Harvard Business School.\n",
    "4. Collins, A., Beel, J. and Tkaczyk, D. (2018) ‘One-at-a-time: A Meta-Learning Recommender-System for Recommendation-Algorithm Selection on Micro Level’, (July). doi: arXiv:1805.12118v1.\n",
    "5. Hayes, C. et al. (2002) ‘An on-line evaluation framework for recommender systems’, Recommendation and Personalization in eCommerce, p. 50. doi: 10.1.1.11.5630.\n",
    "6. Hurley, N. and Zhang, M. (2011) ‘Novelty and Diversity in Top-N Recommendation -- Analysis and Evaluation’, ACM Transactions on Internet Technology, 10(4), pp. 1–30. doi: 10.1145/1944339.1944341.\n",
    "7. Isinkaye, F. O., Folajimi, Y. O. and Ojokoh, B. A. (2015) ‘Recommendation systems: Principles, methods and evaluation’, Egyptian Informatics Journal. Elsevier, 16(3), pp. 261–273. doi: 10.1016/J.EIJ.2015.06.005.\n",
    "8. Kaminskas, M. and Bridge, D. (2011) ‘Measuring Surprise in Recommender Systems’, Ir.Ii.Uam.Es, 69, pp. 107–144. doi: 10.1007/978-0-387-85820-3_4.\n",
    "9. Kapoor, K. et al. (2015) ‘“ I like to explore sometimes ”: Adapting to Dynamic User Novelty Preferences’, pp. 19–26.\n",
    "10. Karimi, S. (2013) ‘A purchase decision-making process model of online consumers and its influential factora cross sector analysis’, [Thesis]. Manchester, UK: The University of                    Manchester; 2013. The University of                    Manchester, Manchester, UK. Available at: https://www.escholar.manchester.ac.uk/uk-ac-man-scw:189583 (Accessed: 20 February 2018).\n",
    "11. Knijnenburg, B. P. et al. (2012) ‘Explaining the user experience of recommender systems’, User Modeling and User-Adapted Interaction, 22(4–5), pp. 441–504. doi: 10.1007/s11257-011-9118-4.\n",
    "12. Kumar, P. and Chalotra S (2014) ‘An Efficient Recommender System using Hierarchical Clustering Algorithm’, Internationa Jurnal of Computer Science Trends and Technology (IJCST), 2(4), pp. 1–6. Available at: http://www.ijcstjournal.org/volume-2/issue-4/IJCST-V2I4P1.pdf.\n",
    "13. Lee, K. and Lee, K. (2015) ‘Expert Systems with Applications Escaping your comfort zone : A graph-based recommender system for finding novel recommendations among relevant items’, EXPERT SYSTEMS WITH APPLICATIONS. Elsevier Ltd, 42(10), pp. 4851–4858. doi: 10.1016/j.eswa.2014.07.024.\n",
    "14. Leskovec, J. (2014) ‘Mining of Massive Data Sets - Ullman’.\n",
    "15. Levandoski, J. J. et al. (2012) ‘LARS: A Location-Aware Recommender System’, 2012 IEEE 28th International Conference on Data Engineering, 1, pp. 450–461. doi: 10.1109/ICDE.2012.54.\n",
    "16. Li, L. (2014) ‘Next Generation of Recommender Systems : Algorithms and Applications’.\n",
    "17. Mahapatra, S. and Tareen, A. (2015) ‘A Cold Start Recommendation System Using Item Correlation and User Similarity’. Available at: https://www.acsu.buffalo.edu/~suchismi/iRec.pdf.\n",
    "18. Mehri, A., Jamaati, M. and Mehri, H. (2015) ‘Word ranking in a single document by Jensen–Shannon divergence’, Physics Letters A. North-Holland, 379(28–29), pp. 1627–1632. doi: 10.1016/J.PHYSLETA.2015.04.030.\n",
    "19. Millan, M., Trujillo, M. and Ortiz, E. (2007) ‘A Collaborative Recommender System Based on Asymmetric User Similarity’, in Proceedings of the 8th International Conference on Intelligent Data Engineering and Automated Learning. Berlin, Heidelberg: Springer-Verlag (IDEAL’07), pp. 663–672. Available at: http://dl.acm.org/citation.cfm?id=1777942.1778011.\n",
    "20. Quadrana, M., Cremonesi, P. and Jannach, D. (2018) ‘Sequence-Aware Recommender Systems’, 1(1). doi: 10.1145/3209219.3209270.\n",
    "21. Said, A. et al. (2013) ‘Information Retrieval and User-Centric Recommender System Evaluation’, In Proceedings of the 21st Conference on User Modeling, Adaptation and Personalization (UMAP 2013), pp. 5–8. Available at: http://ceur-ws.org/Vol-997/umap2013_project_3.pdf.\n",
    "22. Singh, R., Patra, B. K. and Adhikari, B. (2015) ‘A Complex Network Approach for Collaborative Recommendation’, CoRR, abs/1510.0. Available at: http://arxiv.org/abs/1510.00585.\n",
    "23. Sondur, S. D., Nayak, S. and Chigadani, A. P. (2016) ‘Similarity Measures for Recommender Systems: A Comparative Study’, International Journal for Scientific Research and Development, 2(3), pp. 76–80. Available at: http://www.journal4research.org/Article.php?manuscript=J4RV2I3036.\n",
    "24. Taghavi, M. et al. (2018) ‘New Insights Towards Developing Recommender Systems’, Computer Journal, 61(3), pp. 319–348. doi: 10.1093/comjnl/bxx056.\n",
    "25. Tintarev, N. (2016) ‘Joint Workshop on Interfaces and Human Decision Making for Recommender Systems’.\n",
    "26. Vargas, S. ul (2015) UNIVERSIDAD AUTONOMA.\n",
    "27. Zanitti, M., Kosta, S. and Sørensen, J. K. (2018) ‘A User-Centric Diversity by Design Recommender System for the Movie Application Domain’, WWW ’18 Companion, pp. 1381–1389. doi: 10.1145/3184558.3191580.\n",
    "28. Zhang, L. (2013) ‘The definition of novelty in recommendation system’, Journal of Engineering Science and Technology Review, 6(3), pp. 141–145."
   ]
  },
  {
   "cell_type": "code",
   "execution_count": null,
   "metadata": {
    "collapsed": true
   },
   "outputs": [],
   "source": []
  }
 ],
 "metadata": {
  "celltoolbar": "Raw Cell Format",
  "kernelspec": {
   "display_name": "Python 3",
   "language": "python",
   "name": "python3"
  },
  "language_info": {
   "codemirror_mode": {
    "name": "ipython",
    "version": 3
   },
   "file_extension": ".py",
   "mimetype": "text/x-python",
   "name": "python",
   "nbconvert_exporter": "python",
   "pygments_lexer": "ipython3",
   "version": "3.7.2"
  }
 },
 "nbformat": 4,
 "nbformat_minor": 2
}
